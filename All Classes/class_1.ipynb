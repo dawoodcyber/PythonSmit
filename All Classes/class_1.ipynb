{
 "cells": [
  {
   "cell_type": "markdown",
   "id": "d764fe6b-7ee5-44d4-b996-9b51ee7ad592",
   "metadata": {},
   "source": [
    "# Class 1- SMIT"
   ]
  },
  {
   "cell_type": "markdown",
   "id": "f73494fc-48c4-4ab1-9c0b-94c8efa213fa",
   "metadata": {},
   "source": [
    "### Shortcut Keys\n",
    "- ESC + m              (marked down)\n",
    "- ESC + r              (raw form)\n",
    "- ESC + 1-6            (for headings)\n",
    "- ESC + A              (create cell above)\n",
    "- ESC + B              (create cell below)\n",
    "- ESC + DD             (delete cell)\n",
    "- Ctrl + Shift + Enter (for all commands)\n",
    "- Shift + Enter        (compile / to run)\n",
    "- (- + space)            (for unordered lists)\n",
    "- (1. + space )          (form ordered list)\n",
    "       "
   ]
  },
  {
   "cell_type": "code",
   "execution_count": 3,
   "id": "32b72ce4-dc3d-433d-ac87-27bb439816ea",
   "metadata": {},
   "outputs": [
    {
     "name": "stdout",
     "output_type": "stream",
     "text": [
      "Hello Python...\n"
     ]
    }
   ],
   "source": [
    "print(\"Hello Python...\")"
   ]
  },
  {
   "cell_type": "code",
   "execution_count": null,
   "id": "d556d869-4cde-4a9f-9bcb-44360193a135",
   "metadata": {},
   "outputs": [],
   "source": []
  }
 ],
 "metadata": {
  "kernelspec": {
   "display_name": "Python 3 (ipykernel)",
   "language": "python",
   "name": "python3"
  },
  "language_info": {
   "codemirror_mode": {
    "name": "ipython",
    "version": 3
   },
   "file_extension": ".py",
   "mimetype": "text/x-python",
   "name": "python",
   "nbconvert_exporter": "python",
   "pygments_lexer": "ipython3",
   "version": "3.11.7"
  }
 },
 "nbformat": 4,
 "nbformat_minor": 5
}
