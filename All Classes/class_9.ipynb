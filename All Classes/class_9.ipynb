{
 "cells": [
  {
   "cell_type": "markdown",
   "id": "73cb1202-391a-44d7-924c-4fe81293e85f",
   "metadata": {
    "jp-MarkdownHeadingCollapsed": true
   },
   "source": [
    "### Revision"
   ]
  },
  {
   "cell_type": "code",
   "execution_count": 6,
   "id": "d9fc56bd-6fe8-491e-8146-9cc2e4beaf24",
   "metadata": {},
   "outputs": [
    {
     "name": "stdin",
     "output_type": "stream",
     "text": [
      "Enter your sales price 1000\n"
     ]
    },
    {
     "name": "stdout",
     "output_type": "stream",
     "text": [
      "Your tax deduction price is 110.0$\n"
     ]
    }
   ],
   "source": [
    "def calculateTax(salesPrice, Tax=0.22):\n",
    "    print(f'Your tax deduction price is {salesPrice * Tax}$')\n",
    "\n",
    "salesprice = int(input('Enter your sales price'))\n",
    "\n",
    "calculateTax(salesprice, Tax = 0.11)"
   ]
  },
  {
   "cell_type": "code",
   "execution_count": 8,
   "id": "5d8e2cdd-d2f2-438b-9143-94cc504d7dc8",
   "metadata": {},
   "outputs": [
    {
     "name": "stdin",
     "output_type": "stream",
     "text": [
      "Enter your product name Shirt\n",
      "Enter your product color Grey\n",
      "Enter your product size Large\n"
     ]
    },
    {
     "name": "stdout",
     "output_type": "stream",
     "text": [
      "\n",
      "\n",
      "Your product name is Shirt.\n",
      "Your product color is Grey.\n",
      "Your product size is Large.\n"
     ]
    }
   ],
   "source": [
    "def printName(p, c, s):\n",
    "    print(f'Your product name is {p}.\\nYour product color is {c}.\\nYour product size is {s}.')\n",
    "\n",
    "product=input('Enter your product name')\n",
    "color = input('Enter your product color')\n",
    "size = input('Enter your product size')\n",
    "\n",
    "print('\\n')\n",
    "printName(product, color, size)"
   ]
  },
  {
   "cell_type": "markdown",
   "id": "d2d332e0-ba67-471c-8ba0-d8d9a7842734",
   "metadata": {
    "jp-MarkdownHeadingCollapsed": true
   },
   "source": [
    "### Returning functions"
   ]
  },
  {
   "cell_type": "code",
   "execution_count": 9,
   "id": "87393c19-f93f-4bda-b499-0f701b277d17",
   "metadata": {},
   "outputs": [
    {
     "name": "stdin",
     "output_type": "stream",
     "text": [
      "Enter your sales price 1000\n"
     ]
    },
    {
     "data": {
      "text/plain": [
       "110.0"
      ]
     },
     "execution_count": 9,
     "metadata": {},
     "output_type": "execute_result"
    }
   ],
   "source": [
    "def calculateTax(salesPrice, Tax=0.22):\n",
    "    return salesPrice * Tax\n",
    "\n",
    "salesprice = int(input('Enter your sales price'))\n",
    "\n",
    "calculateTax(salesprice, Tax = 0.11)"
   ]
  },
  {
   "cell_type": "code",
   "execution_count": 12,
   "id": "33dab432-a71f-44d8-8ab9-0b2a006b8347",
   "metadata": {},
   "outputs": [
    {
     "name": "stdin",
     "output_type": "stream",
     "text": [
      "Enter your sales price 100\n"
     ]
    },
    {
     "name": "stdout",
     "output_type": "stream",
     "text": [
      "Your tax deduction price is 11.0$\n",
      "None\n"
     ]
    }
   ],
   "source": [
    "def calculateTax(salesPrice, Tax=0.22):\n",
    "    print(f'Your tax deduction price is {salesPrice * Tax}$')\n",
    "\n",
    "salesprice = int(input('Enter your sales price'))\n",
    "\n",
    "value = calculateTax(salesprice, Tax = 0.11)\n",
    "print(value)"
   ]
  },
  {
   "cell_type": "code",
   "execution_count": null,
   "id": "3f88bf06-e527-457a-9aca-db13b610f12b",
   "metadata": {},
   "outputs": [],
   "source": []
  },
  {
   "cell_type": "code",
   "execution_count": 19,
   "id": "a8d06d9f-1149-4a48-a14a-2b927b560a7f",
   "metadata": {},
   "outputs": [
    {
     "name": "stdin",
     "output_type": "stream",
     "text": [
      "Enter the id number you want to find:  8\n",
      "What do you want to find?.\n",
      "first name, last name, address, city. city\n"
     ]
    },
    {
     "name": "stdout",
     "output_type": "stream",
     "text": [
      "karachi\n"
     ]
    }
   ],
   "source": [
    "customers = {\n",
    "    0: {'first name': 'Dawood', 'last name': 'Shaikh', 'address': 'nursery', 'city': 'karachi'},\n",
    "    1: {'first name': 'Aisha', 'last name': 'Khan', 'address': 'baker street', 'city': 'karachi'},\n",
    "    2: {'first name': 'Ahmed', 'last name': 'Mirza', 'address': 'gulshan', 'city': 'karachi'},\n",
    "    3: {'first name': 'Fatima', 'last name': 'Baloch', 'address': 'clifton', 'city': 'karachi'},\n",
    "    4: {'first name': 'Omar', 'last name': 'Qureshi', 'address': 'korangi', 'city': 'karachi'},\n",
    "    5: {'first name': 'Sara', 'last name': 'Hussain', 'address': 'defence', 'city': 'karachi'},\n",
    "    6: {'first name': 'Ali', 'last name': 'Jamal', 'address': 'nazimabad', 'city': 'karachi'},\n",
    "    7: {'first name': 'Nadia', 'last name': 'Chaudhry', 'address': 'federal b area', 'city': 'karachi'},\n",
    "    8: {'first name': 'Zain', 'last name': 'Raza', 'address': 'sarjani town', 'city': 'karachi'},\n",
    "    9: {'first name': 'Khadija', 'last name': 'Ansari', 'address': 'shahra-e-faisal', 'city': 'karachi'}\n",
    "}\n",
    "\n",
    "def findingData(dict, id, detail):\n",
    "    return dict[id][detail]\n",
    "        \n",
    "\n",
    "\n",
    "ID = int(input('Enter the id number you want to find: '))\n",
    "DETAIL = input('What do you want to find?.\\nfirst name, last name, address, city.')\n",
    "\n",
    "found = findingData(customers, ID, DETAIL)\n",
    "print(found)"
   ]
  },
  {
   "cell_type": "markdown",
   "id": "696cc833-d248-45b8-a021-9d79b94c8a07",
   "metadata": {
    "jp-MarkdownHeadingCollapsed": true
   },
   "source": [
    "### Dealing with unknown arguments!"
   ]
  },
  {
   "cell_type": "code",
   "execution_count": 20,
   "id": "735923f7-085b-43f0-b72a-a018213749a6",
   "metadata": {},
   "outputs": [
    {
     "name": "stdout",
     "output_type": "stream",
     "text": [
      "Name of winner is Dawood Shaikh and its score is Gold Medal\n"
     ]
    }
   ],
   "source": [
    "def olympic_winner(winner_name, winner_score):\n",
    "    print(f'Name of winner is {winner_name} and its score is {winner_score}')\n",
    "\n",
    "olympic_winner('Dawood Shaikh', 'Gold Medal')"
   ]
  },
  {
   "cell_type": "code",
   "execution_count": 21,
   "id": "f2d61ee7-8184-4115-a757-01ec78f4942e",
   "metadata": {},
   "outputs": [
    {
     "ename": "TypeError",
     "evalue": "olympic_winner() got an unexpected keyword argument 'injury'",
     "output_type": "error",
     "traceback": [
      "\u001b[1;31m---------------------------------------------------------------------------\u001b[0m",
      "\u001b[1;31mTypeError\u001b[0m                                 Traceback (most recent call last)",
      "Cell \u001b[1;32mIn[21], line 1\u001b[0m\n\u001b[1;32m----> 1\u001b[0m olympic_winner(\u001b[38;5;124m'\u001b[39m\u001b[38;5;124mDawood Shaikh\u001b[39m\u001b[38;5;124m'\u001b[39m , \u001b[38;5;241m9\u001b[39m, injury \u001b[38;5;241m=\u001b[39m \u001b[38;5;28;01mTrue\u001b[39;00m)\n",
      "\u001b[1;31mTypeError\u001b[0m: olympic_winner() got an unexpected keyword argument 'injury'"
     ]
    }
   ],
   "source": [
    "olympic_winner('Dawood Shaikh' , 9, injury = True)"
   ]
  },
  {
   "cell_type": "code",
   "execution_count": 23,
   "id": "7505a70e-b2eb-421f-90f1-5005aa1c8edb",
   "metadata": {},
   "outputs": [
    {
     "name": "stdout",
     "output_type": "stream",
     "text": [
      "Name of winner is Dawood Shaikh and its score is Gold Medal\n",
      "injury --> True\n",
      "overTime --> False\n"
     ]
    }
   ],
   "source": [
    "def olympic_winner(winner_name, winner_score, **unknownArgs): #keywordarguments, return dictionary\n",
    "    print(f'Name of winner is {winner_name} and its score is {winner_score}')\n",
    "    for key, value in unknownArgs.items():\n",
    "        print(f'{key} --> {value}')\n",
    "\n",
    "olympic_winner('Dawood Shaikh', 'Gold Medal', injury = True, overTime = False)"
   ]
  },
  {
   "cell_type": "code",
   "execution_count": 27,
   "id": "4cf2d9ec-8002-4bec-b03d-ec0cda778b22",
   "metadata": {},
   "outputs": [
    {
     "name": "stdout",
     "output_type": "stream",
     "text": [
      "Name of winner is Dawood Shaikh and its score is Gold Medal\n",
      "(True, False)\n",
      "True\n",
      "False\n"
     ]
    }
   ],
   "source": [
    "def olympic_winner(winner_name, winner_score, *unknownArgs): #arguments, returning tuple\n",
    "    print(f'Name of winner is {winner_name} and its score is {winner_score}')\n",
    "    print(unknownArgs)\n",
    "    for value in unknownArgs:\n",
    "        print(value)\n",
    "\n",
    "olympic_winner('Dawood Shaikh', 'Gold Medal', True,False)"
   ]
  },
  {
   "cell_type": "markdown",
   "id": "5c3d4520-f0f7-4132-926d-696314004a27",
   "metadata": {
    "jp-MarkdownHeadingCollapsed": true
   },
   "source": [
    "### Local and Global Variables\n",
    "- global: accessible within fucntions too\n",
    "- Note: global variable should be defined outside the function body\n",
    "- local: has limited scope i:e within function only\n",
    "- Note: only way to get local variable is to get them through return statement"
   ]
  },
  {
   "cell_type": "code",
   "execution_count": 28,
   "id": "2d316514-29e3-42e9-82a4-6ec596a1517f",
   "metadata": {},
   "outputs": [
    {
     "name": "stdout",
     "output_type": "stream",
     "text": [
      "7\n"
     ]
    }
   ],
   "source": [
    "global_var =2\n",
    "\n",
    "def print_num(num):\n",
    "    local_var = num+5\n",
    "    print(local_var)\n",
    "\n",
    "print_num(global_var)\n",
    "\n"
   ]
  },
  {
   "cell_type": "code",
   "execution_count": 29,
   "id": "00b4b150-3614-44fe-933c-0053339a5ec9",
   "metadata": {},
   "outputs": [
    {
     "ename": "NameError",
     "evalue": "name 'local_var' is not defined",
     "output_type": "error",
     "traceback": [
      "\u001b[1;31m---------------------------------------------------------------------------\u001b[0m",
      "\u001b[1;31mNameError\u001b[0m                                 Traceback (most recent call last)",
      "Cell \u001b[1;32mIn[29], line 7\u001b[0m\n\u001b[0;32m      4\u001b[0m     local_var \u001b[38;5;241m=\u001b[39m num\u001b[38;5;241m+\u001b[39m\u001b[38;5;241m5\u001b[39m\n\u001b[0;32m      5\u001b[0m     \u001b[38;5;28mprint\u001b[39m(local_var)\n\u001b[1;32m----> 7\u001b[0m \u001b[38;5;28mprint\u001b[39m(local_var)\n",
      "\u001b[1;31mNameError\u001b[0m: name 'local_var' is not defined"
     ]
    }
   ],
   "source": [
    "global_var =2\n",
    "\n",
    "def print_num(num):\n",
    "    local_var = num+5\n",
    "    print(local_var)\n",
    "\n",
    "print(local_var) #local variable\n",
    "\n"
   ]
  },
  {
   "cell_type": "code",
   "execution_count": 44,
   "id": "eec72f59-f1ed-4586-92f5-86f0bb051bd8",
   "metadata": {},
   "outputs": [
    {
     "name": "stdout",
     "output_type": "stream",
     "text": [
      "5\n",
      "7\n"
     ]
    }
   ],
   "source": [
    "global_var =2\n",
    "var = 5\n",
    "def print_num(num):\n",
    "    global  var \n",
    "    var = num+2\n",
    "    \n",
    "\n",
    "print(var) #local variable\n",
    "print_num(5)\n",
    "print(var)\n"
   ]
  },
  {
   "cell_type": "code",
   "execution_count": 50,
   "id": "0e9a5a2e-0d9f-4c4f-9bfc-5f92eae516df",
   "metadata": {},
   "outputs": [],
   "source": [
    "global tax_rate\n",
    "tax_rate = 0.05\n",
    "\n",
    "def addition():\n",
    "    a = 10\n",
    "    b = 10\n",
    "    total = a+b\n",
    "    tax = total * tax_rate\n",
    "    return total, tax\n",
    "    "
   ]
  },
  {
   "cell_type": "code",
   "execution_count": 51,
   "id": "1d5e3dab-4c4b-497e-bf83-749dc095d917",
   "metadata": {},
   "outputs": [
    {
     "data": {
      "text/plain": [
       "(20, 1.0)"
      ]
     },
     "execution_count": 51,
     "metadata": {},
     "output_type": "execute_result"
    }
   ],
   "source": [
    "addition()"
   ]
  },
  {
   "cell_type": "code",
   "execution_count": 48,
   "id": "7b045478-dca0-42fa-bd01-cdec5a536b6d",
   "metadata": {},
   "outputs": [
    {
     "ename": "NameError",
     "evalue": "name 'a' is not defined",
     "output_type": "error",
     "traceback": [
      "\u001b[1;31m---------------------------------------------------------------------------\u001b[0m",
      "\u001b[1;31mNameError\u001b[0m                                 Traceback (most recent call last)",
      "Cell \u001b[1;32mIn[48], line 1\u001b[0m\n\u001b[1;32m----> 1\u001b[0m a\n",
      "\u001b[1;31mNameError\u001b[0m: name 'a' is not defined"
     ]
    }
   ],
   "source": [
    "a # local variable"
   ]
  },
  {
   "cell_type": "code",
   "execution_count": 49,
   "id": "8f56eb10-6844-443a-aeee-42c13ec0c589",
   "metadata": {},
   "outputs": [
    {
     "ename": "NameError",
     "evalue": "name 'b' is not defined",
     "output_type": "error",
     "traceback": [
      "\u001b[1;31m---------------------------------------------------------------------------\u001b[0m",
      "\u001b[1;31mNameError\u001b[0m                                 Traceback (most recent call last)",
      "Cell \u001b[1;32mIn[49], line 1\u001b[0m\n\u001b[1;32m----> 1\u001b[0m b\n",
      "\u001b[1;31mNameError\u001b[0m: name 'b' is not defined"
     ]
    }
   ],
   "source": [
    "b # local variable"
   ]
  },
  {
   "cell_type": "code",
   "execution_count": 52,
   "id": "226982b8-4b4c-404c-b564-11dc50499317",
   "metadata": {},
   "outputs": [
    {
     "name": "stdout",
     "output_type": "stream",
     "text": [
      "Global variable before function call: 100\n",
      "Accessing global variable inside function: 100\n",
      "Modified global variable inside function: 150\n",
      "Global variable after function call: 150\n"
     ]
    }
   ],
   "source": [
    "# Global variable\n",
    "global_var = 100\n",
    "\n",
    "def access_global():\n",
    "    print(f\"Accessing global variable inside function: {global_var}\")\n",
    "\n",
    "def modify_global():\n",
    "    global global_var  # Declare global to modify it\n",
    "    global_var += 50\n",
    "    print(f\"Modified global variable inside function: {global_var}\")\n",
    "\n",
    "# Access global variable\n",
    "print(f\"Global variable before function call: {global_var}\")\n",
    "access_global()\n",
    "\n",
    "# Modify global variable\n",
    "modify_global()\n",
    "print(f\"Global variable after function call: {global_var}\")\n"
   ]
  },
  {
   "cell_type": "markdown",
   "id": "9d03cb28-69ee-4191-8e47-225f58906f6f",
   "metadata": {
    "jp-MarkdownHeadingCollapsed": true
   },
   "source": [
    "### Nested Functions"
   ]
  },
  {
   "cell_type": "markdown",
   "id": "a69ea9e1-3650-4df7-965b-f0ed19130a4a",
   "metadata": {},
   "source": [
    "- create a function names func_total_sales that take atleast 3 parameters i.e, gulshan, statdium, dha\n",
    "- calculate the total_sales using above function\n",
    "- calculate another function names def sales_after_tax it should take one args i.e, total_sales"
   ]
  },
  {
   "cell_type": "code",
   "execution_count": 55,
   "id": "77a25e4e-4faa-4e32-8e7a-96320ecb8781",
   "metadata": {},
   "outputs": [
    {
     "name": "stdin",
     "output_type": "stream",
     "text": [
      "Enter total sales of gulshan branch:  250\n",
      "Enter total sales of nursery brance: 250\n",
      "Enter total sales of tariq Road branch: 500\n"
     ]
    },
    {
     "data": {
      "text/plain": [
       "220.0"
      ]
     },
     "execution_count": 55,
     "metadata": {},
     "output_type": "execute_result"
    }
   ],
   "source": [
    "def sales_after_tax(total_sales):\n",
    "        return total_sales * 0.22\n",
    "\n",
    "def total_sales(gulshan, nursery, tariqroad):\n",
    "    total_sales = gulshan + nursery + tariqroad\n",
    "    return sales_after_tax(total_sales)\n",
    "\n",
    "gulshan = int(input('Enter total sales of gulshan branch: '))\n",
    "nursery = int(input ('Enter total sales of nursery brance:'))\n",
    "tariqroad = int(input('Enter total sales of tariq Road branch:'))\n",
    "\n",
    "total_sales(gulshan, nursery, tariqroad)"
   ]
  },
  {
   "cell_type": "markdown",
   "id": "b30326ac-809c-4ced-9254-db8a64a11824",
   "metadata": {},
   "source": [
    "### While Loops\n",
    "- while loop condition and set it True\n",
    "- when condition meets then make that to False"
   ]
  },
  {
   "cell_type": "code",
   "execution_count": 56,
   "id": "4d4d585c-1492-4109-9a2c-f09919c71f8c",
   "metadata": {},
   "outputs": [],
   "source": [
    "cities = ['karachi', 'lahore', 'peshawar', 'islamabad','hyderabad']\n"
   ]
  },
  {
   "cell_type": "code",
   "execution_count": 58,
   "id": "6c5c8dc5-f03f-4765-a362-34b57c5a6533",
   "metadata": {},
   "outputs": [
    {
     "name": "stdin",
     "output_type": "stream",
     "text": [
      "Enter city you want to find islamabad\n"
     ]
    },
    {
     "name": "stdout",
     "output_type": "stream",
     "text": [
      "Validation check for loop: karachi\n",
      "Validation check for loop: lahore\n",
      "Validation check for loop: peshawar\n",
      "Validation check for loop: islamabad\n",
      "islamabad is in clean cities\n"
     ]
    }
   ],
   "source": [
    "# for looop\n",
    "usr_input = input('Enter city you want to find')\n",
    "for city in cities:\n",
    "    print(f'Validation check for loop: {city}')\n",
    "    if usr_input == city:\n",
    "        print(f'{city} is in clean cities')\n",
    "        break\n",
    "    "
   ]
  },
  {
   "cell_type": "code",
   "execution_count": 59,
   "id": "e7f3ee22-6d85-4ba0-b550-7c8b36c19837",
   "metadata": {},
   "outputs": [
    {
     "name": "stdin",
     "output_type": "stream",
     "text": [
      "Enter city you want to find islamabad\n"
     ]
    }
   ],
   "source": [
    "# for looop\n",
    "usr_input = input('Enter city you want to find')\n"
   ]
  },
  {
   "cell_type": "code",
   "execution_count": 60,
   "id": "9cd8e7aa-9492-435e-98aa-b276f0c1805f",
   "metadata": {},
   "outputs": [
    {
     "name": "stdin",
     "output_type": "stream",
     "text": [
      "Enter city you want to find karachi\n"
     ]
    },
    {
     "name": "stdout",
     "output_type": "stream",
     "text": [
      "karachi is in clean cities list\n"
     ]
    }
   ],
   "source": [
    "while_cond = True\n",
    "while while_cond:\n",
    "    usr_input = input('Enter city you want to find')\n",
    "    if usr_input in cities:\n",
    "        print(f'{usr_input} is in clean cities list')\n",
    "        while_cond = False"
   ]
  },
  {
   "cell_type": "code",
   "execution_count": 61,
   "id": "a6221ec8-8a72-4017-9733-2c29f0905683",
   "metadata": {},
   "outputs": [
    {
     "name": "stdin",
     "output_type": "stream",
     "text": [
      "Enter city you want to find karachi\n"
     ]
    },
    {
     "name": "stdout",
     "output_type": "stream",
     "text": [
      "karachi is in clean cities list\n"
     ]
    },
    {
     "name": "stdin",
     "output_type": "stream",
     "text": [
      "Enter city you want to find q\n"
     ]
    }
   ],
   "source": [
    "usr_input = ''\n",
    "while usr_input != 'q':\n",
    "    usr_input = input('Enter city you want to find')\n",
    "    if usr_input in cities:\n",
    "        print(f'{usr_input} is in clean cities list')\n",
    "        "
   ]
  },
  {
   "cell_type": "code",
   "execution_count": null,
   "id": "9ef9fb64-c7ab-4bd3-8dfd-6b3c90a64c0a",
   "metadata": {},
   "outputs": [],
   "source": []
  }
 ],
 "metadata": {
  "kernelspec": {
   "display_name": "Python 3 (ipykernel)",
   "language": "python",
   "name": "python3"
  },
  "language_info": {
   "codemirror_mode": {
    "name": "ipython",
    "version": 3
   },
   "file_extension": ".py",
   "mimetype": "text/x-python",
   "name": "python",
   "nbconvert_exporter": "python",
   "pygments_lexer": "ipython3",
   "version": "3.11.7"
  }
 },
 "nbformat": 4,
 "nbformat_minor": 5
}
