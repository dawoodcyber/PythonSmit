{
 "cells": [
  {
   "cell_type": "markdown",
   "id": "aaf4ca2e-c4f9-4e0e-87b4-7a9f83bd9bf7",
   "metadata": {},
   "source": [
    "# Class_03"
   ]
  },
  {
   "cell_type": "markdown",
   "id": "a3beeff4-eb21-46ad-964b-7b22954c1dd6",
   "metadata": {
    "jp-MarkdownHeadingCollapsed": true
   },
   "source": [
    "### Recap of Class 2\n"
   ]
  },
  {
   "cell_type": "code",
   "execution_count": 2,
   "id": "1c935d0e-14f0-4b41-8abc-e8658a284d5f",
   "metadata": {},
   "outputs": [
    {
     "name": "stdout",
     "output_type": "stream",
     "text": [
      "Class 03\n"
     ]
    }
   ],
   "source": [
    "print(\"Class 03\")"
   ]
  },
  {
   "cell_type": "code",
   "execution_count": 13,
   "id": "77d64e74-e7d9-4719-90b6-e19154ad3326",
   "metadata": {},
   "outputs": [
    {
     "data": {
      "text/plain": [
       "('Dawood', 'ShaikhAli')"
      ]
     },
     "execution_count": 13,
     "metadata": {},
     "output_type": "execute_result"
    }
   ],
   "source": [
    "name = 'Dawood','Shaikh' + 'Ali'\n",
    "name"
   ]
  },
  {
   "cell_type": "code",
   "execution_count": 15,
   "id": "70eb1d9f-216d-451d-b218-a0d6901b6351",
   "metadata": {},
   "outputs": [
    {
     "data": {
      "text/plain": [
       "22"
      ]
     },
     "execution_count": 15,
     "metadata": {},
     "output_type": "execute_result"
    }
   ],
   "source": [
    "9+9+2**2"
   ]
  },
  {
   "cell_type": "code",
   "execution_count": 16,
   "id": "f6fbeff7-1404-448c-8988-bed9e5144012",
   "metadata": {},
   "outputs": [
    {
     "name": "stdout",
     "output_type": "stream",
     "text": [
      "\n",
      "Help on NoneType object:\n",
      "\n",
      "class NoneType(object)\n",
      " |  Methods defined here:\n",
      " |  \n",
      " |  __bool__(self, /)\n",
      " |      True if self else False\n",
      " |  \n",
      " |  __repr__(self, /)\n",
      " |      Return repr(self).\n",
      " |  \n",
      " |  ----------------------------------------------------------------------\n",
      " |  Static methods defined here:\n",
      " |  \n",
      " |  __new__(*args, **kwargs) from builtins.type\n",
      " |      Create and return a new object.  See help(type) for accurate signature.\n",
      "\n"
     ]
    }
   ],
   "source": [
    "#for help\n",
    "help(print())"
   ]
  },
  {
   "cell_type": "code",
   "execution_count": 25,
   "id": "dcda2765-2b37-485f-87e1-13741eb4c731",
   "metadata": {},
   "outputs": [
    {
     "data": {
      "text/plain": [
       "'My name is Dawood Shaikh'"
      ]
     },
     "execution_count": 25,
     "metadata": {},
     "output_type": "execute_result"
    }
   ],
   "source": [
    "name=\"Dawood\"\n",
    "lname=\"Shaikh\"\n",
    "f'My name is {name} {lname}'"
   ]
  },
  {
   "cell_type": "code",
   "execution_count": 30,
   "id": "86f8f1a3-5241-4178-9e69-8386b1db4c5e",
   "metadata": {},
   "outputs": [
    {
     "data": {
      "text/plain": [
       "'My name is Dawood Shaikh'"
      ]
     },
     "execution_count": 30,
     "metadata": {},
     "output_type": "execute_result"
    }
   ],
   "source": [
    "#Method 3 of Concatenation\n",
    "\"My name is {0} {1}\".format(name,lname)"
   ]
  },
  {
   "cell_type": "markdown",
   "id": "ca749098-3b0c-4f04-9d3c-6f4986c8a816",
   "metadata": {
    "jp-MarkdownHeadingCollapsed": true
   },
   "source": [
    "### Conditional Statements"
   ]
  },
  {
   "cell_type": "code",
   "execution_count": 33,
   "id": "0a6c728a-b829-412e-ba0b-0ced26b8420f",
   "metadata": {},
   "outputs": [
    {
     "ename": "SyntaxError",
     "evalue": "invalid syntax (1274681151.py, line 1)",
     "output_type": "error",
     "traceback": [
      "\u001b[1;36m  Cell \u001b[1;32mIn[33], line 1\u001b[1;36m\u001b[0m\n\u001b[1;33m    if<condition>:\u001b[0m\n\u001b[1;37m      ^\u001b[0m\n\u001b[1;31mSyntaxError\u001b[0m\u001b[1;31m:\u001b[0m invalid syntax\n"
     ]
    }
   ],
   "source": [
    "#syntax\n",
    "if<condition>:\n",
    "    <if body>\n",
    "else:\n",
    "    <else body>"
   ]
  },
  {
   "cell_type": "code",
   "execution_count": 44,
   "id": "b4d09b37-7d6c-4f1b-ad8f-5525ab54918d",
   "metadata": {},
   "outputs": [
    {
     "name": "stdout",
     "output_type": "stream",
     "text": [
      "Pakistani wll not celebrate\n"
     ]
    }
   ],
   "source": [
    "result =\"win\" #win/loss/Tie\n",
    "if result == \"win\":\n",
    "    print(\"Pakistani will celebrate\")\n",
    "else:\n",
    "   print(\"Pakistani wll not celebrate\")"
   ]
  },
  {
   "cell_type": "code",
   "execution_count": 47,
   "id": "17ec4aa3-5ff5-4b1b-9de2-5af2db7c302f",
   "metadata": {},
   "outputs": [
    {
     "data": {
      "text/plain": [
       "False"
      ]
     },
     "execution_count": 47,
     "metadata": {},
     "output_type": "execute_result"
    }
   ],
   "source": [
    "result == \"loss\""
   ]
  },
  {
   "cell_type": "code",
   "execution_count": 46,
   "id": "68f9ebda-6476-4e1e-a1aa-2ffc025f3507",
   "metadata": {},
   "outputs": [
    {
     "data": {
      "text/plain": [
       "True"
      ]
     },
     "execution_count": 46,
     "metadata": {},
     "output_type": "execute_result"
    }
   ],
   "source": [
    "result == \"win\""
   ]
  },
  {
   "cell_type": "markdown",
   "id": "22fa1b46-b7eb-49d8-85c0-3f0d89436b4a",
   "metadata": {
    "jp-MarkdownHeadingCollapsed": true
   },
   "source": [
    "### if - elif - else"
   ]
  },
  {
   "cell_type": "code",
   "execution_count": 54,
   "id": "a3f2c43c-14bc-46b4-af73-e198a137ceb5",
   "metadata": {},
   "outputs": [
    {
     "name": "stdout",
     "output_type": "stream",
     "text": [
      "Pakistani will not celebrate\n"
     ]
    }
   ],
   "source": [
    "result = \"tie\"\n",
    "if result == \"win\":\n",
    "    print(\"Pakistani will celebrate\")\n",
    "elif result == \"tie\":\n",
    "   print(\"Both teams will get 1 point\")\n",
    "else:\n",
    "    print(\"Pakistani will not celebrate\")"
   ]
  },
  {
   "cell_type": "markdown",
   "id": "232a5127-eb48-4976-8bc3-c9bd6ff9a611",
   "metadata": {},
   "source": [
    "#### Class - Task"
   ]
  },
  {
   "cell_type": "code",
   "execution_count": 60,
   "id": "6c3c97af-e56f-43ab-ae28-56837953564d",
   "metadata": {},
   "outputs": [
    {
     "name": "stdout",
     "output_type": "stream",
     "text": [
      "Your car name is G_wagon\n"
     ]
    }
   ],
   "source": [
    "#Example 01\n",
    "vehicle = \"G_wagon\"\n",
    "if vehicle == \"Carnival\":\n",
    "    print(f\"Your car name is {vehicle}\")\n",
    "elif vehicle == \"Bentley\":\n",
    "    print(f\"Your car name is {vehicle}\")\n",
    "elif vehicle == \"Sorento\":\n",
    "    print(f\"Your car name is {vehicle}\")\n",
    "elif (vehicle == \"G_wagon\"):\n",
    "    print(f\"Your car name is {vehicle}\")\n",
    "else:\n",
    "    print(\"You have a motorbike\")\n"
   ]
  },
  {
   "cell_type": "code",
   "execution_count": 69,
   "id": "401de7bc-21bb-4f20-a2ff-8be7ba90e0cd",
   "metadata": {},
   "outputs": [
    {
     "name": "stdout",
     "output_type": "stream",
     "text": [
      "Good boy\n"
     ]
    }
   ],
   "source": [
    "# 4 spaces will come for the body of if\n",
    "if name ==\"Dawood\":\n",
    "   print(\"Good boy\")"
   ]
  },
  {
   "cell_type": "code",
   "execution_count": 82,
   "id": "84afadfd-1502-4787-a64d-8c1f2278fb1f",
   "metadata": {},
   "outputs": [
    {
     "name": "stdout",
     "output_type": "stream",
     "text": [
      "Yep, it's cat of kingdom animal\n"
     ]
    }
   ],
   "source": [
    "#Example 02\n",
    "species = \"cat\"\n",
    "if(species == \"cat\"):\n",
    "    status = \"ok\"\n",
    "    kingdom = \"animal\"\n",
    "    print(f\"Yep, it's cat of kingdom {kingdom}\")"
   ]
  },
  {
   "cell_type": "code",
   "execution_count": 92,
   "id": "71b3f1ac-dc7f-4153-acdf-bee39752a30f",
   "metadata": {},
   "outputs": [
    {
     "name": "stdout",
     "output_type": "stream",
     "text": [
      "You are Fail sorry!, and percentage is 49.5%\n"
     ]
    }
   ],
   "source": [
    "#Example 03\n",
    "marks = 49.5 #static/hard code values\n",
    "if(marks >= 90):\n",
    "    print(f\"Your grade is A+ and percentage is {marks}%\")\n",
    "elif(marks >= 80):\n",
    "    print(f\"Your grade is A and percentage is {marks}%\")\n",
    "elif(marks >= 70):\n",
    "    print(f\"Your grade is B and percentage is {marks}%\")\n",
    "elif(marks >= 60):\n",
    "    print(f\"Your grade is C and percentage is {marks}%\")\n",
    "elif(marks >= 50):\n",
    "    print(f\"Your grade is D and percentage is {marks}%\")\n",
    "elif(marks < 50):\n",
    "    print(f\"You are Fail sorry!, and percentage is {marks}%\")\n",
    "else:\n",
    "    print(f\"Invalid marks = {marks}\")\n",
    "    \n",
    "    "
   ]
  },
  {
   "cell_type": "code",
   "execution_count": 105,
   "id": "a10af2be-4d5b-4028-8cac-8af119b93753",
   "metadata": {},
   "outputs": [
    {
     "name": "stdin",
     "output_type": "stream",
     "text": [
      "Enter your marks 50\n"
     ]
    },
    {
     "name": "stdout",
     "output_type": "stream",
     "text": [
      "Your grade is D and percentage is 50.0%\n"
     ]
    }
   ],
   "source": [
    "#for input from users\n",
    "# input(\"Enter your marks\") #Note: input() always return string \n",
    "# we do type caste to int\n",
    "marks = float(input(\"Enter your marks\"))\n",
    "if(marks<101):\n",
    "    if(marks >= 90):\n",
    "        print(f\"Your grade is A+ and percentage is {marks}%\")\n",
    "    elif(marks >= 80):\n",
    "        print(f\"Your grade is A and percentage is {marks}%\")\n",
    "    elif(marks >= 70):\n",
    "        print(f\"Your grade is B and percentage is {marks}%\")\n",
    "    elif(marks >= 60):\n",
    "        print(f\"Your grade is C and percentage is {marks}%\")\n",
    "    elif(marks >= 50):\n",
    "        print(f\"Your grade is D and percentage is {marks}%\")\n",
    "    else:\n",
    "        print(f\"You are Fail sorry!, and percentage is {marks}%\")\n",
    "    \n",
    "else:\n",
    "      print(f\"Invalid marks = {marks}\")"
   ]
  },
  {
   "cell_type": "markdown",
   "id": "a89b6371-187f-4399-845c-1ef0d2da018f",
   "metadata": {
    "jp-MarkdownHeadingCollapsed": true
   },
   "source": [
    "### Comparison Operator"
   ]
  },
  {
   "cell_type": "code",
   "execution_count": 106,
   "id": "05b8e811-1f2d-4d94-9f35-8793363bf034",
   "metadata": {},
   "outputs": [
    {
     "data": {
      "text/plain": [
       "True"
      ]
     },
     "execution_count": 106,
     "metadata": {},
     "output_type": "execute_result"
    }
   ],
   "source": [
    "95 != 90"
   ]
  },
  {
   "cell_type": "code",
   "execution_count": 107,
   "id": "0c2ee41a-513f-4f01-aa18-965555e6f77c",
   "metadata": {},
   "outputs": [
    {
     "data": {
      "text/plain": [
       "False"
      ]
     },
     "execution_count": 107,
     "metadata": {},
     "output_type": "execute_result"
    }
   ],
   "source": [
    "95 == 80"
   ]
  },
  {
   "cell_type": "code",
   "execution_count": 108,
   "id": "6b487d8e-12cd-4201-aaed-510f72ed2d07",
   "metadata": {},
   "outputs": [
    {
     "data": {
      "text/plain": [
       "True"
      ]
     },
     "execution_count": 108,
     "metadata": {},
     "output_type": "execute_result"
    }
   ],
   "source": [
    "95>=91"
   ]
  },
  {
   "cell_type": "code",
   "execution_count": 109,
   "id": "a62be0d2-86a3-48f9-853d-ae1945d3e2ff",
   "metadata": {},
   "outputs": [
    {
     "data": {
      "text/plain": [
       "True"
      ]
     },
     "execution_count": 109,
     "metadata": {},
     "output_type": "execute_result"
    }
   ],
   "source": [
    "95<=99"
   ]
  },
  {
   "cell_type": "code",
   "execution_count": 110,
   "id": "ed8e4cf8-06bd-4d49-b980-90b04ff365e0",
   "metadata": {},
   "outputs": [
    {
     "data": {
      "text/plain": [
       "True"
      ]
     },
     "execution_count": 110,
     "metadata": {},
     "output_type": "execute_result"
    }
   ],
   "source": [
    "95>80"
   ]
  },
  {
   "cell_type": "code",
   "execution_count": 111,
   "id": "718475d4-e81c-4536-a4d9-80c20a5d41d3",
   "metadata": {},
   "outputs": [
    {
     "name": "stdout",
     "output_type": "stream",
     "text": [
      "Better luck next time!\n"
     ]
    }
   ],
   "source": [
    "if result !=\"win\":\n",
    "    print(\"Better luck next time!\")"
   ]
  },
  {
   "cell_type": "code",
   "execution_count": 113,
   "id": "dc878a66-a0cc-4318-bbac-3c1f34192d59",
   "metadata": {},
   "outputs": [
    {
     "name": "stdout",
     "output_type": "stream",
     "text": [
      "15\n"
     ]
    }
   ],
   "source": [
    "allAvailable = True\n",
    "isFresh = True\n",
    "price = \"Average\" #Average, Low, High\n",
    "\n",
    "score = 0;\n",
    "if allAvailable:\n",
    "    score +=5\n",
    "if isFresh:\n",
    "    score +=5\n",
    "if price == \"Average\":\n",
    "    score +=5\n",
    "\n",
    "print(score)"
   ]
  },
  {
   "cell_type": "code",
   "execution_count": 116,
   "id": "6221648d-bf51-41ac-87f2-2dced6a4109d",
   "metadata": {},
   "outputs": [
    {
     "name": "stdout",
     "output_type": "stream",
     "text": [
      "dawood\n"
     ]
    }
   ],
   "source": [
    "name = [\"ali\", \"Ahsan\", \"dawood\"]\n",
    "print(name[2])"
   ]
  },
  {
   "cell_type": "markdown",
   "id": "8db5e961-637c-427a-a42b-4c72329bb9a8",
   "metadata": {},
   "source": [
    "### Testing Sets Condition"
   ]
  },
  {
   "cell_type": "markdown",
   "id": "9d17c137-968c-4a08-938b-5ba5335068ae",
   "metadata": {},
   "source": [
    "A B AND OR\n",
    "0 0  0  0\n",
    "1 0  0  1\n",
    "0 1  0  1\n",
    "1 1  1  1\n",
    "\n",
    "AND => all condition must be True\n",
    "OR => one condition must be True\n",
    "\n",
    "\n",
    "NOT\n",
    "0 --> 1\n",
    "1 --> 0"
   ]
  },
  {
   "cell_type": "code",
   "execution_count": 117,
   "id": "21281e65-f2ce-451a-b236-ea991013204a",
   "metadata": {},
   "outputs": [
    {
     "data": {
      "text/plain": [
       "0"
      ]
     },
     "execution_count": 117,
     "metadata": {},
     "output_type": "execute_result"
    }
   ],
   "source": [
    "0 and 0"
   ]
  },
  {
   "cell_type": "code",
   "execution_count": 118,
   "id": "ee9d2aff-6b1e-4828-a078-4cc8593c5d76",
   "metadata": {},
   "outputs": [
    {
     "data": {
      "text/plain": [
       "0"
      ]
     },
     "execution_count": 118,
     "metadata": {},
     "output_type": "execute_result"
    }
   ],
   "source": [
    "0 and 1"
   ]
  },
  {
   "cell_type": "code",
   "execution_count": 119,
   "id": "3e0b1e8e-2a96-497d-88cf-cbc27a4836f0",
   "metadata": {},
   "outputs": [
    {
     "data": {
      "text/plain": [
       "1"
      ]
     },
     "execution_count": 119,
     "metadata": {},
     "output_type": "execute_result"
    }
   ],
   "source": [
    "1 and 1"
   ]
  },
  {
   "cell_type": "code",
   "execution_count": 120,
   "id": "612b41af-2606-47a9-a66b-5d0328c157d0",
   "metadata": {},
   "outputs": [
    {
     "data": {
      "text/plain": [
       "0"
      ]
     },
     "execution_count": 120,
     "metadata": {},
     "output_type": "execute_result"
    }
   ],
   "source": [
    "1 and 0"
   ]
  },
  {
   "cell_type": "code",
   "execution_count": 121,
   "id": "12fc4cf2-30e9-409b-a566-db7b1697efb6",
   "metadata": {},
   "outputs": [
    {
     "data": {
      "text/plain": [
       "0"
      ]
     },
     "execution_count": 121,
     "metadata": {},
     "output_type": "execute_result"
    }
   ],
   "source": [
    "0  or 0"
   ]
  },
  {
   "cell_type": "code",
   "execution_count": 122,
   "id": "de0e06c6-05a1-4373-9948-9cd15cbc3e02",
   "metadata": {},
   "outputs": [
    {
     "data": {
      "text/plain": [
       "1"
      ]
     },
     "execution_count": 122,
     "metadata": {},
     "output_type": "execute_result"
    }
   ],
   "source": [
    "0 or 1"
   ]
  },
  {
   "cell_type": "code",
   "execution_count": 123,
   "id": "30351469-ba97-429c-8c33-f8f168183919",
   "metadata": {},
   "outputs": [
    {
     "data": {
      "text/plain": [
       "1"
      ]
     },
     "execution_count": 123,
     "metadata": {},
     "output_type": "execute_result"
    }
   ],
   "source": [
    "1 | 1"
   ]
  },
  {
   "cell_type": "code",
   "execution_count": 125,
   "id": "a8a5b4e2-c3e4-4d48-9136-344593815177",
   "metadata": {},
   "outputs": [
    {
     "data": {
      "text/plain": [
       "1"
      ]
     },
     "execution_count": 125,
     "metadata": {},
     "output_type": "execute_result"
    }
   ],
   "source": [
    "1 & 1"
   ]
  },
  {
   "cell_type": "code",
   "execution_count": 126,
   "id": "e3179975-582a-48d3-8cdb-4a2a66c6ee67",
   "metadata": {},
   "outputs": [
    {
     "data": {
      "text/plain": [
       "1"
      ]
     },
     "execution_count": 126,
     "metadata": {},
     "output_type": "execute_result"
    }
   ],
   "source": [
    "1 or 1"
   ]
  },
  {
   "cell_type": "code",
   "execution_count": 133,
   "id": "0bec2e55-52a6-4cbe-8870-ce2630c3ec4e",
   "metadata": {},
   "outputs": [
    {
     "name": "stdin",
     "output_type": "stream",
     "text": [
      "Enter your percentage: 45\n",
      "Enter your Age: 19\n"
     ]
    },
    {
     "name": "stdout",
     "output_type": "stream",
     "text": [
      "Not eligible to take admission in University\n"
     ]
    }
   ],
   "source": [
    "interPercentage = int(input(\"Enter your percentage:\"))\n",
    "ageLimit = int(input(\"Enter your Age:\"))\n",
    "if((interPercentage > 60) and (ageLimit >= 18)):\n",
    "    print(\"Eligible to take admission in University\")\n",
    "else:\n",
    "    print(\"Not eligible to take admission in University\")"
   ]
  },
  {
   "cell_type": "code",
   "execution_count": 134,
   "id": "71fd57c0-3447-47d6-b10d-7369a773d0e1",
   "metadata": {},
   "outputs": [
    {
     "name": "stdin",
     "output_type": "stream",
     "text": [
      "Enter your percentage: 44\n",
      "Enter your Age: 19\n"
     ]
    },
    {
     "name": "stdout",
     "output_type": "stream",
     "text": [
      "Eligible to take admission in University\n"
     ]
    }
   ],
   "source": [
    "interPercentage = int(input(\"Enter your percentage:\"))\n",
    "ageLimit = int(input(\"Enter your Age:\"))\n",
    "if((interPercentage > 60) or (ageLimit >= 18)):\n",
    "    print(\"Eligible to take admission in University\")\n",
    "else:\n",
    "    print(\"Not eligible to take admission in University\")"
   ]
  },
  {
   "cell_type": "code",
   "execution_count": 135,
   "id": "b2eb6e64-4262-4d45-ad4a-98ce236f5272",
   "metadata": {},
   "outputs": [
    {
     "data": {
      "text/plain": [
       "False"
      ]
     },
     "execution_count": 135,
     "metadata": {},
     "output_type": "execute_result"
    }
   ],
   "source": [
    "not True\n"
   ]
  },
  {
   "cell_type": "code",
   "execution_count": 136,
   "id": "eed22713-23c2-4ad5-b288-9249f6bc54ca",
   "metadata": {},
   "outputs": [
    {
     "data": {
      "text/plain": [
       "True"
      ]
     },
     "execution_count": 136,
     "metadata": {},
     "output_type": "execute_result"
    }
   ],
   "source": [
    "not False"
   ]
  },
  {
   "cell_type": "code",
   "execution_count": 137,
   "id": "ac69965d-b62e-4b17-b483-23a31e85a30b",
   "metadata": {},
   "outputs": [
    {
     "data": {
      "text/plain": [
       "False"
      ]
     },
     "execution_count": 137,
     "metadata": {},
     "output_type": "execute_result"
    }
   ],
   "source": [
    "not 1"
   ]
  },
  {
   "cell_type": "code",
   "execution_count": 138,
   "id": "a4745218-b4e6-4e49-aee5-006bb6c81605",
   "metadata": {},
   "outputs": [
    {
     "data": {
      "text/plain": [
       "True"
      ]
     },
     "execution_count": 138,
     "metadata": {},
     "output_type": "execute_result"
    }
   ],
   "source": [
    "not 0"
   ]
  },
  {
   "cell_type": "code",
   "execution_count": 139,
   "id": "f7782cfa-4bff-4a12-b08e-f938916c303b",
   "metadata": {},
   "outputs": [
    {
     "data": {
      "text/plain": [
       "False"
      ]
     },
     "execution_count": 139,
     "metadata": {},
     "output_type": "execute_result"
    }
   ],
   "source": [
    "not 23"
   ]
  },
  {
   "cell_type": "code",
   "execution_count": null,
   "id": "ccccc567-8ce6-4acc-9216-f657376693ae",
   "metadata": {},
   "outputs": [],
   "source": []
  }
 ],
 "metadata": {
  "kernelspec": {
   "display_name": "Python 3 (ipykernel)",
   "language": "python",
   "name": "python3"
  },
  "language_info": {
   "codemirror_mode": {
    "name": "ipython",
    "version": 3
   },
   "file_extension": ".py",
   "mimetype": "text/x-python",
   "name": "python",
   "nbconvert_exporter": "python",
   "pygments_lexer": "ipython3",
   "version": "3.11.7"
  }
 },
 "nbformat": 4,
 "nbformat_minor": 5
}
