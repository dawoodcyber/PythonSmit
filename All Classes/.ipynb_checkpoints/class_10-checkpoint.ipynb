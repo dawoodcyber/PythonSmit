{
 "cells": [
  {
   "cell_type": "markdown",
   "id": "96a5bb72-1114-443c-b2a2-fed7d6aa768a",
   "metadata": {},
   "source": [
    "### OOP & Classes"
   ]
  },
  {
   "cell_type": "code",
   "execution_count": 2,
   "id": "e011b557-9069-4cce-bf76-ba7860a0061f",
   "metadata": {},
   "outputs": [],
   "source": [
    "name = 'Dawood'"
   ]
  },
  {
   "cell_type": "code",
   "execution_count": 4,
   "id": "4f0794c2-428d-442b-ba53-c58236c0c964",
   "metadata": {},
   "outputs": [
    {
     "name": "stdout",
     "output_type": "stream",
     "text": [
      "<class 'str'>\n"
     ]
    }
   ],
   "source": [
    "print(type(name))"
   ]
  },
  {
   "cell_type": "code",
   "execution_count": 5,
   "id": "8d99dc9e-3475-41e4-82f5-f81f5f0b9b68",
   "metadata": {},
   "outputs": [],
   "source": [
    "lst = [1, True, 'Dawood', 1.15] #lst as object initialized"
   ]
  },
  {
   "cell_type": "code",
   "execution_count": 6,
   "id": "51d713a7-6d0e-4513-9c57-b1b55537afff",
   "metadata": {},
   "outputs": [
    {
     "name": "stdout",
     "output_type": "stream",
     "text": [
      "<class 'list'>\n"
     ]
    }
   ],
   "source": [
    "print(type(lst))"
   ]
  },
  {
   "cell_type": "code",
   "execution_count": 7,
   "id": "7fe20982-1139-43ed-bb96-cd649163a1f5",
   "metadata": {},
   "outputs": [],
   "source": [
    "lst.append('Shaikh') # lst is an object and calling its methods\n",
    "\n",
    "# this is an activity  ---> functionality\n",
    "# METHODS: are nothing but a part of behaviour of any class\n",
    "# OBJECT: is nothing but an instance, that possess the blueprint of the class"
   ]
  },
  {
   "cell_type": "code",
   "execution_count": 9,
   "id": "afe06364-7968-4584-8a72-b447dd931949",
   "metadata": {},
   "outputs": [
    {
     "data": {
      "text/plain": [
       "['__add__',\n",
       " '__class__',\n",
       " '__class_getitem__',\n",
       " '__contains__',\n",
       " '__delattr__',\n",
       " '__delitem__',\n",
       " '__dir__',\n",
       " '__doc__',\n",
       " '__eq__',\n",
       " '__format__',\n",
       " '__ge__',\n",
       " '__getattribute__',\n",
       " '__getitem__',\n",
       " '__getstate__',\n",
       " '__gt__',\n",
       " '__hash__',\n",
       " '__iadd__',\n",
       " '__imul__',\n",
       " '__init__',\n",
       " '__init_subclass__',\n",
       " '__iter__',\n",
       " '__le__',\n",
       " '__len__',\n",
       " '__lt__',\n",
       " '__mul__',\n",
       " '__ne__',\n",
       " '__new__',\n",
       " '__reduce__',\n",
       " '__reduce_ex__',\n",
       " '__repr__',\n",
       " '__reversed__',\n",
       " '__rmul__',\n",
       " '__setattr__',\n",
       " '__setitem__',\n",
       " '__sizeof__',\n",
       " '__str__',\n",
       " '__subclasshook__',\n",
       " 'append',\n",
       " 'clear',\n",
       " 'copy',\n",
       " 'count',\n",
       " 'extend',\n",
       " 'index',\n",
       " 'insert',\n",
       " 'pop',\n",
       " 'remove',\n",
       " 'reverse',\n",
       " 'sort']"
      ]
     },
     "execution_count": 9,
     "metadata": {},
     "output_type": "execute_result"
    }
   ],
   "source": [
    "dir(lst) #____add___ everything method starts/ends is called dunder methods"
   ]
  },
  {
   "cell_type": "markdown",
   "id": "ba553350-efb9-4d84-88fe-c6bd1a41ddf4",
   "metadata": {},
   "source": [
    "- ATTRIBUTES: charcteristics of class are called attributes\n",
    "- CLASSES: Are a blue print that possess attributes/characteristics/variable and methods/behaviour\n",
    "- CONSTRUCTOR:\n",
    "    - Special type of a methods\n",
    "    - Initializes class attributes"
   ]
  },
  {
   "cell_type": "markdown",
   "id": "367512a8-983d-45e7-ab88-764194e1ef8a",
   "metadata": {},
   "source": [
    "### Classes\n",
    "- Constructor(special type of method)\n",
    "- Attributes\n",
    "- Methods\n",
    "- Initialize objects"
   ]
  },
  {
   "cell_type": "markdown",
   "id": "63c4d7cc-4bec-4b77-b159-505d9d659922",
   "metadata": {},
   "source": [
    "#### Example: Suppose we're working in automobile (cars) company\n",
    "\n",
    "- class ==> Automobiles\n",
    "- attributes(characteristics) ==> model, color, year, brand\n",
    "- methods(behaviors) ==> travelling, drifting, racing, carrying"
   ]
  },
  {
   "cell_type": "code",
   "execution_count": 21,
   "id": "8ef963bb-d183-423b-97d6-0cf5ceee15ab",
   "metadata": {},
   "outputs": [],
   "source": [
    "class Automobiles():\n",
    "    #constructor\n",
    "    def __init__(this, model_year, name, color, brand): # this, or self is the class attribute to init things\n",
    "        this.model_year = model_year #attributes\n",
    "        this.name = name\n",
    "        this.color = color\n",
    "        this.brand = brand\n",
    "\n",
    "    #method-1\n",
    "    def travel(this, passenger:str) -> None:# passenger variable is just of this methods, however the above methods in constructor are for\n",
    "    # all methods or for full class\n",
    "        print(f'{passenger} is travelling in {this.name}')\n",
    "\n",
    "    #method-2\n",
    "    def carry(this, weight:float , goods:str) ->None :\n",
    "        print(f'{this.name} is carrying {goods} of weight {weight}')\n",
    "        "
   ]
  },
  {
   "cell_type": "code",
   "execution_count": 22,
   "id": "5a983590-9507-431e-bec8-739e5dc186cd",
   "metadata": {},
   "outputs": [],
   "source": [
    "car1 = Automobiles(2030, 'bolan', 'black', 'suzuki')"
   ]
  },
  {
   "cell_type": "code",
   "execution_count": 23,
   "id": "648d7cb0-358d-48d1-b203-ce572af9af67",
   "metadata": {},
   "outputs": [
    {
     "data": {
      "text/plain": [
       "'black'"
      ]
     },
     "execution_count": 23,
     "metadata": {},
     "output_type": "execute_result"
    }
   ],
   "source": [
    "car1.color"
   ]
  },
  {
   "cell_type": "code",
   "execution_count": 24,
   "id": "94fda52d-b5fe-44a7-8098-1e9047bb1c68",
   "metadata": {},
   "outputs": [
    {
     "name": "stdout",
     "output_type": "stream",
     "text": [
      "bolan is carrying 12tons of weight 12kg\n"
     ]
    }
   ],
   "source": [
    "car1.carry('12kg', '12tons') # press shift + Tab to check what it needs as a parameter"
   ]
  },
  {
   "cell_type": "code",
   "execution_count": 25,
   "id": "f96dbfa4-c7eb-4d3f-b731-d3acc0f23ab1",
   "metadata": {},
   "outputs": [
    {
     "name": "stdout",
     "output_type": "stream",
     "text": [
      "Dawood is travelling in bolan\n"
     ]
    }
   ],
   "source": [
    "car1.travel('Dawood')"
   ]
  },
  {
   "cell_type": "code",
   "execution_count": 26,
   "id": "4f69c3ba-81b0-4257-bd2b-37478b817531",
   "metadata": {},
   "outputs": [
    {
     "name": "stdout",
     "output_type": "stream",
     "text": [
      "3 is travelling in bolan\n"
     ]
    }
   ],
   "source": [
    "car1.travel(3)"
   ]
  },
  {
   "cell_type": "markdown",
   "id": "c63d4f93-8251-4dca-baa4-3de51c2bafaf",
   "metadata": {},
   "source": [
    "TASK: creat class for saylani and also create atleast 2 attributes and 1 method and 2 class attributes"
   ]
  },
  {
   "cell_type": "code",
   "execution_count": 70,
   "id": "438e6120-e4dd-436f-9036-22e8361317b8",
   "metadata": {},
   "outputs": [],
   "source": [
    "class Saylani:\n",
    "    #Class variables\n",
    "    batch = 0\n",
    "    saylaniNumber = '+92 482 348 9234'\n",
    "    \n",
    "    #constructor\n",
    "    def __init__(this, courses, teacher):\n",
    "        this.courses = courses\n",
    "        this.teacher = teacher\n",
    "        Saylani.batch +=1\n",
    "\n",
    "    def dataEngineeringCourse(this, stdName:str, stdAge:int)->None:\n",
    "        print(f'{stdName} is allowed to enroll in {this.courses}\\nHe is {stdAge} years old.\\nTeacher name is {this.teacher}')\n",
    "\n"
   ]
  },
  {
   "cell_type": "code",
   "execution_count": 71,
   "id": "b51fa194-e429-4e99-a6b6-33ecd046cf31",
   "metadata": {},
   "outputs": [
    {
     "name": "stdout",
     "output_type": "stream",
     "text": [
      "Class variables batch 0\n",
      "Class variables batch 1\n",
      "Course: Data Engineer\n",
      "Teacher Name: Qasim Hassan\n",
      "Dawood Shaikh is allowed to enroll in Data Engineer\n",
      "He is 19 years old.\n",
      "Teacher name is Qasim Hassan\n"
     ]
    }
   ],
   "source": [
    "print(f'Class variables batch {Saylani.batch}')\n",
    "\n",
    "std1 = Saylani('Data Engineer', 'Qasim Hassan')\n",
    "print(f'Class variables batch {Saylani.batch}')\n",
    "\n",
    "\n",
    "print(f'Course: {std1.courses}')\n",
    "print(f'Teacher Name: {std1.teacher}')\n",
    "std1.dataEngineeringCourse('Dawood Shaikh', 19)"
   ]
  },
  {
   "cell_type": "markdown",
   "id": "2e57ad92-6429-4d9b-ab85-27137e1a658e",
   "metadata": {},
   "source": [
    "Example : 02\n",
    "\n",
    "- class: Teachers\n",
    "- attributes: name, course, timings\n",
    "- methods: details, teaching"
   ]
  },
  {
   "cell_type": "code",
   "execution_count": 72,
   "id": "1a225274-8cfa-4cf7-8926-cfc4e7526a76",
   "metadata": {},
   "outputs": [],
   "source": [
    "class Teacher:\n",
    "    #class variables\n",
    "    counter = 0\n",
    "    org = 'Saylani Mass I.T Training'\n",
    "\n",
    "    \n",
    "    #constructor\n",
    "    def __init__ (self, name, courses, timings):\n",
    "        self.name = name\n",
    "        self.courses = courses\n",
    "        self.timings = timings\n",
    "        Teacher.counter += 1\n",
    "\n",
    "    #methods\n",
    "    def details(self):\n",
    "        print(f'Teacher {self.name} is teaching {self.courses} at {self.timings}')\n",
    "\n",
    "\n",
    "    def teaching(self, course):\n",
    "        print(f'right now course {self.name} is teaching {course}')\n",
    "    "
   ]
  },
  {
   "cell_type": "code",
   "execution_count": 73,
   "id": "b0a25f28-0af0-4e51-8f00-775f8f77b39b",
   "metadata": {},
   "outputs": [
    {
     "name": "stdout",
     "output_type": "stream",
     "text": [
      "1\n"
     ]
    }
   ],
   "source": [
    "obj1 = Teacher('Dawood Shaikh', 'Python Programming', '9to11')\n",
    "print(obj1.counter)"
   ]
  },
  {
   "cell_type": "code",
   "execution_count": 74,
   "id": "3f4bcd6c-1222-4309-bf40-e535afd723d5",
   "metadata": {},
   "outputs": [
    {
     "name": "stdout",
     "output_type": "stream",
     "text": [
      "2\n"
     ]
    }
   ],
   "source": [
    "obj2 = Teacher('Qasim', 'Data Engineering', '2to5')\n",
    "print(obj2.counter)"
   ]
  },
  {
   "cell_type": "code",
   "execution_count": 75,
   "id": "a4484ba7-384b-46f6-901c-00613490ade3",
   "metadata": {},
   "outputs": [
    {
     "data": {
      "text/plain": [
       "2"
      ]
     },
     "execution_count": 75,
     "metadata": {},
     "output_type": "execute_result"
    }
   ],
   "source": [
    "Teacher.counter"
   ]
  },
  {
   "cell_type": "code",
   "execution_count": 76,
   "id": "efb26a92-536b-41fb-a06b-5d03a23d315c",
   "metadata": {},
   "outputs": [
    {
     "name": "stdout",
     "output_type": "stream",
     "text": [
      "2\n",
      "Saylani Mass I.T Training\n"
     ]
    }
   ],
   "source": [
    "print(Teacher.counter)\n",
    "print(Teacher.org)"
   ]
  },
  {
   "cell_type": "markdown",
   "id": "a1373e49-2280-4bc3-9bf5-841c51ca1e6d",
   "metadata": {},
   "source": [
    "OOP --> object oriented programming\n",
    "Pillars of OOP\n",
    " - Inheritance\n",
    " - Polymorphism\n",
    " - Abstraction\n",
    " - Encapsulation\n"
   ]
  },
  {
   "cell_type": "code",
   "execution_count": null,
   "id": "4b60d88f-f350-439d-88de-a2b66d64a6e7",
   "metadata": {},
   "outputs": [],
   "source": []
  }
 ],
 "metadata": {
  "kernelspec": {
   "display_name": "Python 3 (ipykernel)",
   "language": "python",
   "name": "python3"
  },
  "language_info": {
   "codemirror_mode": {
    "name": "ipython",
    "version": 3
   },
   "file_extension": ".py",
   "mimetype": "text/x-python",
   "name": "python",
   "nbconvert_exporter": "python",
   "pygments_lexer": "ipython3",
   "version": "3.11.7"
  }
 },
 "nbformat": 4,
 "nbformat_minor": 5
}
