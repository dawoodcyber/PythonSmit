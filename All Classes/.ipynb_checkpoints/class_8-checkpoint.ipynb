{
 "cells": [
  {
   "cell_type": "code",
   "execution_count": 1,
   "id": "e8ea26af-82ad-4bd1-aa70-b54777a5a516",
   "metadata": {},
   "outputs": [
    {
     "data": {
      "text/plain": [
       "' Scenario 01: Employee Performance Evaluation\\n\\nIn a large corporation, the HR department needs to evaluate the performance of employees based on \\ntheir sales records and customer satisfaction ratings. They want to identify the top-performing employees\\nbased on a weighted score that combines sales performance and customer satisfaction.\\n\\nHint: Use List comprehemsion & Lambda Functions\\n\\n# Sample data: List of tuples containing employee names, sales figures, and customer satisfaction ratings\\n\\nemployees = [\\n    (\"John\", 50000, 4.5),\\n    (\"Alice\", 60000, 4.7),\\n    (\"Bob\", 45000, 4.2),\\n    (\"Emma\", 55000, 4.6),\\n    (\"James\", 48000, 4.4)\\n]\\n\\n# Define weights for sales performance and customer satisfaction ratings\\nsales_weight = 0.6\\nsatisfaction_weight = 0.4'"
      ]
     },
     "execution_count": 1,
     "metadata": {},
     "output_type": "execute_result"
    }
   ],
   "source": [
    "''' Scenario 01: Employee Performance Evaluation\n",
    "\n",
    "In a large corporation, the HR department needs to evaluate the performance of employees based on \n",
    "their sales records and customer satisfaction ratings. They want to identify the top-performing employees\n",
    "based on a weighted score that combines sales performance and customer satisfaction.\n",
    "\n",
    "Hint: Use List comprehemsion & Lambda Functions\n",
    "\n",
    "# Sample data: List of tuples containing employee names, sales figures, and customer satisfaction ratings\n",
    "\n",
    "employees = [\n",
    "    (\"John\", 50000, 4.5),\n",
    "    (\"Alice\", 60000, 4.7),\n",
    "    (\"Bob\", 45000, 4.2),\n",
    "    (\"Emma\", 55000, 4.6),\n",
    "    (\"James\", 48000, 4.4)\n",
    "]\n",
    "\n",
    "# Define weights for sales performance and customer satisfaction ratings\n",
    "sales_weight = 0.6\n",
    "satisfaction_weight = 0.4'''"
   ]
  },
  {
   "cell_type": "code",
   "execution_count": 21,
   "id": "57bfb45e-a575-4cb8-a3b4-28aa87313774",
   "metadata": {},
   "outputs": [
    {
     "name": "stdout",
     "output_type": "stream",
     "text": [
      "[30001.8, 36001.88, 27001.68, 33001.84, 28801.76]\n"
     ]
    },
    {
     "data": {
      "text/plain": [
       "'sales = []\\nrating=[]\\nfor name in employees:\\n    sales.append((name[1]*100)/100000)\\n    rating.append((name[2]*100)/5)\\n\\nprint(sales)\\nprint(rating)'"
      ]
     },
     "execution_count": 21,
     "metadata": {},
     "output_type": "execute_result"
    }
   ],
   "source": [
    "employees = [\n",
    "    (\"John\", 50000, 4.5),\n",
    "    (\"Alice\", 60000, 4.7),\n",
    "    (\"Bob\", 45000, 4.2),\n",
    "    (\"Emma\", 55000, 4.6),\n",
    "    (\"James\", 48000, 4.4)\n",
    "]\n",
    "\n",
    "list = []\n",
    "for name in employees:\n",
    "    list.append((name[1]*0.6)+(name[2]*0.4))\n",
    "\n",
    "print(list)\n",
    "\n",
    "\n",
    "\n",
    "\n",
    "'''sales = []\n",
    "rating=[]\n",
    "for name in employees:\n",
    "    sales.append((name[1]*100)/100000)\n",
    "    rating.append((name[2]*100)/5)\n",
    "\n",
    "print(sales)\n",
    "print(rating)'''"
   ]
  },
  {
   "cell_type": "code",
   "execution_count": 41,
   "id": "b5057843-5bed-4289-9d89-28e1ac9ccb1d",
   "metadata": {},
   "outputs": [
    {
     "name": "stdout",
     "output_type": "stream",
     "text": [
      "Employee has the high performance rate ('Alice', 60000, 4.7)\n",
      "36001.88\n"
     ]
    }
   ],
   "source": [
    "employees = [\n",
    "    (\"John\", 50000, 4.5),\n",
    "    (\"Alice\", 60000, 4.7),\n",
    "    (\"Bob\", 45000, 4.2),\n",
    "    (\"Emma\", 55000, 4.6),\n",
    "    (\"James\", 48000, 4.4)\n",
    "]\n",
    "\n",
    "list = []\n",
    "for name in employees:\n",
    "    list.append((name[1]*0.6)+(name[2]*0.4))\n",
    "\n",
    "x=0\n",
    "for value in list:\n",
    "    if x<value:\n",
    "        x=value\n",
    "\n",
    "#print(list.index(x))\n",
    "\n",
    "print('Employee has the high performance rate '+str(employees[list.index(x)]))\n",
    "print(x)\n",
    "        "
   ]
  },
  {
   "cell_type": "code",
   "execution_count": 6,
   "id": "51f96bb7-cc82-4343-b154-05f3efe92da6",
   "metadata": {},
   "outputs": [
    {
     "name": "stdout",
     "output_type": "stream",
     "text": [
      "0.0\n",
      "1.4142135623730951\n",
      "2.0\n",
      "2.449489742783178\n",
      "2.8284271247461903\n",
      "3.1622776601683795\n",
      "3.4641016151377544\n",
      "3.7416573867739413\n",
      "4.0\n",
      "4.242640687119285\n",
      "4.47213595499958\n",
      "4.69041575982343\n",
      "4.898979485566356\n",
      "5.0990195135927845\n",
      "5.291502622129181\n",
      "5.477225575051661\n",
      "5.656854249492381\n",
      "5.830951894845301\n",
      "6.0\n",
      "6.164414002968976\n",
      "6.324555320336759\n",
      "6.48074069840786\n",
      "6.6332495807108\n",
      "6.782329983125268\n",
      "6.928203230275509\n",
      "7.0710678118654755\n",
      "7.211102550927978\n",
      "7.3484692283495345\n",
      "7.483314773547883\n",
      "7.615773105863909\n",
      "7.745966692414834\n",
      "7.874007874011811\n",
      "8.0\n",
      "8.12403840463596\n",
      "8.246211251235321\n",
      "8.366600265340756\n",
      "8.48528137423857\n",
      "8.602325267042627\n",
      "8.717797887081348\n",
      "8.831760866327848\n",
      "8.94427190999916\n",
      "9.055385138137417\n",
      "9.16515138991168\n",
      "9.273618495495704\n",
      "9.38083151964686\n",
      "9.486832980505138\n",
      "9.591663046625438\n",
      "9.695359714832659\n",
      "9.797958971132712\n",
      "9.899494936611665\n"
     ]
    }
   ],
   "source": [
    "#Scenario 02: Calculating square rtoots of even numbers;\n",
    "import math\n",
    "num = 100\n",
    "\n",
    "for i in range(num):\n",
    "    if i%2==0:\n",
    "        print(math.sqrt(i))"
   ]
  },
  {
   "cell_type": "code",
   "execution_count": 4,
   "id": "61baabdf-b15e-4708-989e-6dc8b083b838",
   "metadata": {},
   "outputs": [
    {
     "name": "stdout",
     "output_type": "stream",
     "text": [
      "1. Add items?\n",
      "2. Remove items?\n",
      "3. Display items?\n",
      "4. Exit Shopping\n"
     ]
    },
    {
     "name": "stdin",
     "output_type": "stream",
     "text": [
      " 1\n"
     ]
    },
    {
     "name": "stdout",
     "output_type": "stream",
     "text": [
      "Enter Item you want to add\n"
     ]
    },
    {
     "name": "stdin",
     "output_type": "stream",
     "text": [
      " Meat\n"
     ]
    },
    {
     "name": "stdout",
     "output_type": "stream",
     "text": [
      "Item added successfully\n",
      "1. Add items?\n",
      "2. Remove items?\n",
      "3. Display items?\n",
      "4. Exit Shopping\n"
     ]
    },
    {
     "name": "stdin",
     "output_type": "stream",
     "text": [
      " 3\n"
     ]
    },
    {
     "name": "stdout",
     "output_type": "stream",
     "text": [
      "['apples', 'tomato', 'rice', 'milk', 'cookie', 'Meat']\n",
      "1. Add items?\n",
      "2. Remove items?\n",
      "3. Display items?\n",
      "4. Exit Shopping\n"
     ]
    },
    {
     "name": "stdin",
     "output_type": "stream",
     "text": [
      " 2\n"
     ]
    },
    {
     "name": "stdout",
     "output_type": "stream",
     "text": [
      "['apples', 'tomato', 'rice', 'milk', 'cookie', 'Meat']\n",
      "Enter Item you want to remove\n"
     ]
    },
    {
     "name": "stdin",
     "output_type": "stream",
     "text": [
      " rice\n"
     ]
    },
    {
     "name": "stdout",
     "output_type": "stream",
     "text": [
      "Item removed successfully\n",
      "1. Add items?\n",
      "2. Remove items?\n",
      "3. Display items?\n",
      "4. Exit Shopping\n"
     ]
    },
    {
     "name": "stdin",
     "output_type": "stream",
     "text": [
      " 3\n"
     ]
    },
    {
     "name": "stdout",
     "output_type": "stream",
     "text": [
      "['apples', 'tomato', 'milk', 'cookie', 'Meat']\n",
      "1. Add items?\n",
      "2. Remove items?\n",
      "3. Display items?\n",
      "4. Exit Shopping\n"
     ]
    },
    {
     "name": "stdin",
     "output_type": "stream",
     "text": [
      " 4\n"
     ]
    }
   ],
   "source": [
    "'''Assignment #02\n",
    "Scenario 1: Grocery Shopping LIst\n",
    "You are creating a program to manage a grocery shopping list. Users should be able to add itmes, \n",
    "remove itmes, and display the current list'''\n",
    "\n",
    "\n",
    "\n",
    "lists=['apples', 'tomato', 'rice', 'milk','cookie']\n",
    "\n",
    "\n",
    "def addItems():\n",
    "    print('Enter Item you want to add')\n",
    "    lists.append(input())\n",
    "    print('Item added successfully')\n",
    "\n",
    "def removeItems():\n",
    "    print(lists)\n",
    "    print('Enter Item you want to remove')    \n",
    "    lists.remove(input())\n",
    "    print('Item removed successfully')\n",
    "\n",
    "def displayItems():\n",
    "    print(lists)\n",
    "\n",
    "\n",
    "\n",
    "\n",
    "choice = True\n",
    "while choice != False:\n",
    "    print('1. Add items?')\n",
    "    print('2. Remove items?')\n",
    "    print('3. Display items?')\n",
    "    print('4. Exit Shopping')\n",
    "    choice = int(input())\n",
    "\n",
    "    if choice == 1:\n",
    "        addItems()\n",
    "    elif choice ==2:\n",
    "        removeItems()\n",
    "    elif choice == 3:\n",
    "        displayItems()\n",
    "    elif choice ==4:\n",
    "        choice = False\n",
    "\n"
   ]
  },
  {
   "cell_type": "code",
   "execution_count": 31,
   "id": "ce4a8044-104e-47fe-b845-98f3c68c67d1",
   "metadata": {},
   "outputs": [
    {
     "name": "stdout",
     "output_type": "stream",
     "text": [
      "Average Grade is 69.0\n"
     ]
    }
   ],
   "source": [
    "''' Assigment 02\n",
    "Scenario 02: \n",
    "You are managing student grades using a dictionary. You need to calculate the average grade. take alteast\n",
    "5 students grades & then calculate the average.'''\n",
    "\n",
    "students = {'std1':{'physics':85,\n",
    "                    'math':99,\n",
    "                    'biology':89},\n",
    "            'std2':{'physics':75,\n",
    "                    'math':87,\n",
    "                    'biology':45},\n",
    "            'std3':{'physics':65,\n",
    "                    'math':98,\n",
    "                    'biology':69},\n",
    "            'std4':{'physics':55,\n",
    "                    'math':77,\n",
    "                    'biology':15},\n",
    "            'std5':{'physics':53,\n",
    "                    'math':77,\n",
    "                    'biology':60},}\n",
    "marks = []\n",
    "for key, value in students.items():\n",
    "    marks.append(((int(value['physics'])+int(value['math'])+int(value['biology']))*100/300))\n",
    "    \n",
    "grade = 0\n",
    "for i in marks:\n",
    "    grade += i\n",
    "\n",
    "grade = grade//len(marks)\n",
    "\n",
    "print('Average Grade is ' + str(grade))\n",
    "\n",
    "\n",
    "\n",
    "    "
   ]
  },
  {
   "cell_type": "code",
   "execution_count": 60,
   "id": "e48776db-044e-46b4-b232-e2e10facdf29",
   "metadata": {},
   "outputs": [
    {
     "name": "stdout",
     "output_type": "stream",
     "text": [
      "{'apple': 2, 'banana': 2, 'orange': 1, 'grape': 1}\n"
     ]
    }
   ],
   "source": [
    "''' Assignment 02:\n",
    "Scenario 3: Word Frequency Counter \n",
    "You are given a list of words, and you need to coun the frequency of each word.\n",
    "word_list = ['apple', 'banana', 'orange', 'banana', 'grape', 'apple']\n",
    "'''\n",
    "word_list = ['apple', 'banana', 'orange', 'banana', 'grape', 'apple']\n",
    "\n",
    "word_count = {}\n",
    "\n",
    "for word in word_list:\n",
    "    if word in word_count:\n",
    "        word_count[word]+=1\n",
    "    else: \n",
    "        word_count[word] = 1\n",
    "\n",
    "print(word_count)\n",
    "    \n",
    "            "
   ]
  },
  {
   "cell_type": "code",
   "execution_count": 64,
   "id": "f4e7d241-bf2b-4735-b003-cad9125d6856",
   "metadata": {},
   "outputs": [
    {
     "name": "stdout",
     "output_type": "stream",
     "text": [
      "Entepass = r your password\n"
     ]
    },
    {
     "name": "stdin",
     "output_type": "stream",
     "text": [
      " jsdlfa\n"
     ]
    },
    {
     "name": "stdout",
     "output_type": "stream",
     "text": [
      "password is strong\n"
     ]
    }
   ],
   "source": [
    " ''' Assignment 02:\n",
    " Scenarion 3: Password Strength Checker\n",
    "You are creating a program to check the strength of passwords based on certain criteria\n",
    " . Pass should be at least 8 characters long.\n",
    " . Pass shoould contain at least on digit\n",
    " . Pass should contatin at least one letter '''\n",
    "\n",
    "import re\n",
    "print('Entepass = r your password')\n",
    "pas = input()\n",
    "check = r\"\\d{0,8}\"\n",
    "match  = re.match(check, pas)\n",
    "if match:\n",
    "    print(\"password is strong\")\n",
    "else:\n",
    "    print('weak password')\n"
   ]
  },
  {
   "cell_type": "code",
   "execution_count": 80,
   "id": "591e78c3-85c9-4c52-89ee-d449a85b700f",
   "metadata": {},
   "outputs": [
    {
     "name": "stdout",
     "output_type": "stream",
     "text": [
      "Enter your password\n"
     ]
    },
    {
     "name": "stdin",
     "output_type": "stream",
     "text": [
      " o47293479238\n"
     ]
    },
    {
     "name": "stdout",
     "output_type": "stream",
     "text": [
      "Your password is strong\n"
     ]
    }
   ],
   "source": [
    "''' Assignment 02:\n",
    " Scenarion 3: Password Strength Checker\n",
    "You are creating a program to check the strength of passwords based on certain criteria\n",
    " . Pass should be at least 8 characters long.\n",
    " . Pass shoould contain at least on digit\n",
    " . Pass should contatin at least one letter '''\n",
    "\n",
    "import re\n",
    "print('Enter your password')\n",
    "pas = input()\n",
    "\n",
    "def check(pwd):\n",
    "    if len(pwd) >=8:\n",
    "        if re.search(r'\\d',pwd) and re.search(r'[a-zA-Z]',pwd):\n",
    "            print('Your password is strong')\n",
    "        else:\n",
    "            print('Your password is weak')\n",
    "    else:\n",
    "        print('Your password is week')\n",
    "\n",
    "check(pas)\n"
   ]
  },
  {
   "cell_type": "code",
   "execution_count": null,
   "id": "3cec7c0b-540f-4115-9477-dba1819f0400",
   "metadata": {},
   "outputs": [],
   "source": [
    "'''Assignemnt 02:\n",
    "Scenario 04: Voting System ( Annual Employee recognition awards)\n",
    "you are developing a simple voting system for a contest. Users can vote for their favourite option,\n",
    "and you need to count the votes\n",
    "'''\n",
    "\n",
    "votingTemplate = {'Employee of the Year':{'Candidate A':0, 'Candidate B':0, 'Candidate C':0, 'Candidate D':0},\n",
    "                  'Team Play of the Year':{'Candidate A':0, 'Candidate B':0, 'Candidate C':0, 'Candidate D':0},\n",
    "                  'Innovation Award' : {'Candidate A':0, 'Candidate B':0, 'Candidate C':0, 'Candidate D':0}}\n",
    "\n",
    "print('Select your Type of vote')\n",
    "\n",
    "choice = True\n",
    "while choice != False:\n",
    "    print('1. Employee of the Year')\n",
    "    print('2. Team Player of the Year')\n",
    "    print('3. Innovation Award')\n",
    "    choice  = input()\n"
   ]
  }
 ],
 "metadata": {
  "kernelspec": {
   "display_name": "Python 3 (ipykernel)",
   "language": "python",
   "name": "python3"
  },
  "language_info": {
   "codemirror_mode": {
    "name": "ipython",
    "version": 3
   },
   "file_extension": ".py",
   "mimetype": "text/x-python",
   "name": "python",
   "nbconvert_exporter": "python",
   "pygments_lexer": "ipython3",
   "version": "3.11.7"
  }
 },
 "nbformat": 4,
 "nbformat_minor": 5
}
