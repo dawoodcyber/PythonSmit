{
 "cells": [
  {
   "cell_type": "markdown",
   "id": "88650cc2-6968-433f-bae7-503f0f6eb575",
   "metadata": {
    "jp-MarkdownHeadingCollapsed": true
   },
   "source": [
    "### Reviewing Dictionaries"
   ]
  },
  {
   "cell_type": "code",
   "execution_count": null,
   "id": "98d06553-4693-42a9-aa6a-b305c01ccb8f",
   "metadata": {},
   "outputs": [],
   "source": []
  },
  {
   "cell_type": "code",
   "execution_count": 14,
   "id": "2eabe6b4-87a3-4331-9859-87e7df1046ed",
   "metadata": {},
   "outputs": [
    {
     "data": {
      "text/plain": [
       "dict_keys(['first_name', 'last_name', 'address'])"
      ]
     },
     "execution_count": 14,
     "metadata": {},
     "output_type": "execute_result"
    }
   ],
   "source": [
    "personal_bio = {\n",
    "                'first_name':'Dawood',\n",
    "                'last_name': 'Shaikh',\n",
    "                'address':'karachi'\n",
    "                }\n",
    "\n",
    "personal_bio.keys()"
   ]
  },
  {
   "cell_type": "code",
   "execution_count": 15,
   "id": "23088711-6a8a-4a28-9389-4f95c6cabea8",
   "metadata": {},
   "outputs": [
    {
     "data": {
      "text/plain": [
       "dict_values(['Dawood', 'Shaikh', 'karachi'])"
      ]
     },
     "execution_count": 15,
     "metadata": {},
     "output_type": "execute_result"
    }
   ],
   "source": [
    "personal_bio.values()"
   ]
  },
  {
   "cell_type": "code",
   "execution_count": 16,
   "id": "2b2af3c4-9078-4906-bfd5-8ce830ed27d9",
   "metadata": {},
   "outputs": [
    {
     "data": {
      "text/plain": [
       "dict_items([('first_name', 'Dawood'), ('last_name', 'Shaikh'), ('address', 'karachi')])"
      ]
     },
     "execution_count": 16,
     "metadata": {},
     "output_type": "execute_result"
    }
   ],
   "source": [
    "personal_bio.items()"
   ]
  },
  {
   "cell_type": "code",
   "execution_count": 20,
   "id": "bf4ac380-a6d4-41a8-a954-814787ce751c",
   "metadata": {},
   "outputs": [
    {
     "data": {
      "text/plain": [
       "dict_items"
      ]
     },
     "execution_count": 20,
     "metadata": {},
     "output_type": "execute_result"
    }
   ],
   "source": [
    "type(personal_bio.items())"
   ]
  },
  {
   "cell_type": "code",
   "execution_count": 23,
   "id": "ea9de7d5-a5c3-49ae-9a0a-3ae7fc264b81",
   "metadata": {},
   "outputs": [
    {
     "name": "stdout",
     "output_type": "stream",
     "text": [
      "Key is | \"first_name\" | and value is | \"Dawood\" |\n",
      "Key is | \"last_name\" | and value is | \"Shaikh\" |\n",
      "Key is | \"address\" | and value is | \"karachi\" |\n"
     ]
    }
   ],
   "source": [
    "for key , values in personal_bio.items():\n",
    "    print(f'Key is | \\\"{key}\\\" | and value is | \\\"{values}\\\" |')"
   ]
  },
  {
   "cell_type": "code",
   "execution_count": 26,
   "id": "4cdcedde-3a2c-499f-9ecd-19f7f3fe077b",
   "metadata": {},
   "outputs": [
    {
     "data": {
      "text/plain": [
       "'first_name'"
      ]
     },
     "execution_count": 26,
     "metadata": {},
     "output_type": "execute_result"
    }
   ],
   "source": [
    "# dictionaries items are unhashable\n",
    "list(personal_bio.items())[0][0]"
   ]
  },
  {
   "cell_type": "code",
   "execution_count": 27,
   "id": "3aa1593f-bed2-432a-b35d-f8ab883a82d3",
   "metadata": {},
   "outputs": [
    {
     "data": {
      "text/plain": [
       "{'first_name': 'Dawood', 'last_name': 'Shaikh', 'address': 'karachi'}"
      ]
     },
     "execution_count": 27,
     "metadata": {},
     "output_type": "execute_result"
    }
   ],
   "source": [
    "personal_bio"
   ]
  },
  {
   "cell_type": "code",
   "execution_count": 28,
   "id": "bf356d16-ef01-465d-8ccc-13af152b3853",
   "metadata": {},
   "outputs": [
    {
     "data": {
      "text/plain": [
       "[{'first_name': 'Dawood', 'last_name': 'Shaikh', 'address': 'karachi'}]"
      ]
     },
     "execution_count": 28,
     "metadata": {},
     "output_type": "execute_result"
    }
   ],
   "source": [
    "bio_list = [personal_bio]\n",
    "bio_list"
   ]
  },
  {
   "cell_type": "code",
   "execution_count": 31,
   "id": "bf81790f-db23-4c80-b9cd-8f44583e4a24",
   "metadata": {},
   "outputs": [
    {
     "name": "stdout",
     "output_type": "stream",
     "text": [
      "pechs karachi\n",
      "MA Jinnah Road karachi\n",
      "SMIT karachi\n"
     ]
    }
   ],
   "source": [
    "bio_list = [{'firstName': 'Dawood',\n",
    "  'lastName': 'Shaikh',\n",
    "  'address': 'pechs karachi',\n",
    "  'city': 'Karachi'},\n",
    " {'firstName': 'Huzaifa',\n",
    "  'lastName': 'Mateen',\n",
    "  'address': 'MA Jinnah Road karachi',\n",
    "  'city': 'Peshawar'},\n",
    " {'firstName': 'Qasim',\n",
    "  'lastName': 'Hassan',\n",
    "  'address': 'SMIT karachi',\n",
    "  'city': 'Islamabad'}]\n",
    "\n",
    "for i in bio_list:\n",
    "    print(i['address'])"
   ]
  },
  {
   "cell_type": "code",
   "execution_count": 33,
   "id": "48a77885-97bf-421f-ac7a-6b258eebd9fe",
   "metadata": {},
   "outputs": [
    {
     "data": {
      "text/plain": [
       "{'first_name': 'Dawood', 'last_name': 'Shaikh', 'address': 'karachi'}"
      ]
     },
     "execution_count": 33,
     "metadata": {},
     "output_type": "execute_result"
    }
   ],
   "source": [
    "personal_bio"
   ]
  },
  {
   "cell_type": "code",
   "execution_count": 34,
   "id": "180dc17f-ac14-444c-9c07-9a1581c6e99c",
   "metadata": {},
   "outputs": [],
   "source": [
    "bio_list.append(personal_bio)"
   ]
  },
  {
   "cell_type": "code",
   "execution_count": 35,
   "id": "8b3845f3-bc6a-4421-b9fb-ff3c571edc17",
   "metadata": {},
   "outputs": [
    {
     "data": {
      "text/plain": [
       "[{'firstName': 'Dawood',\n",
       "  'lastName': 'Shaikh',\n",
       "  'address': 'pechs karachi',\n",
       "  'city': 'Karachi'},\n",
       " {'firstName': 'Huzaifa',\n",
       "  'lastName': 'Mateen',\n",
       "  'address': 'MA Jinnah Road karachi',\n",
       "  'city': 'Peshawar'},\n",
       " {'firstName': 'Qasim',\n",
       "  'lastName': 'Hassan',\n",
       "  'address': 'SMIT karachi',\n",
       "  'city': 'Islamabad'},\n",
       " {'first_name': 'Dawood', 'last_name': 'Shaikh', 'address': 'karachi'}]"
      ]
     },
     "execution_count": 35,
     "metadata": {},
     "output_type": "execute_result"
    }
   ],
   "source": [
    "bio_list"
   ]
  },
  {
   "cell_type": "code",
   "execution_count": 36,
   "id": "cbb7456e-c84c-4d0e-94f7-a925a5111ebe",
   "metadata": {},
   "outputs": [
    {
     "data": {
      "text/plain": [
       "4"
      ]
     },
     "execution_count": 36,
     "metadata": {},
     "output_type": "execute_result"
    }
   ],
   "source": [
    "len(bio_list)"
   ]
  },
  {
   "cell_type": "code",
   "execution_count": 41,
   "id": "54d766ca-1db3-4a98-9c57-480fa99f5e04",
   "metadata": {},
   "outputs": [
    {
     "data": {
      "text/plain": [
       "[{'firstName': 'Dawood',\n",
       "  'lastName': 'Shaikh',\n",
       "  'address': 'pechs karachi',\n",
       "  'city': 'Karachi'},\n",
       " {'firstName': 'Huzaifa',\n",
       "  'lastName': 'Mateen',\n",
       "  'address': 'MA Jinnah Road karachi',\n",
       "  'city': 'Peshawar'},\n",
       " {'firstName': 'Qasim',\n",
       "  'lastName': 'Hassan',\n",
       "  'address': 'SMIT karachi',\n",
       "  'city': 'Islamabad'},\n",
       " {'first_name': 'Dawood', 'last_name': 'Shaikh', 'address': 'karachi'}]"
      ]
     },
     "execution_count": 41,
     "metadata": {},
     "output_type": "execute_result"
    }
   ],
   "source": []
  },
  {
   "cell_type": "code",
   "execution_count": 44,
   "id": "c1c2117f-08d3-47ca-a572-64e31c7191e0",
   "metadata": {},
   "outputs": [
    {
     "data": {
      "text/plain": [
       "{'firstName': 'Dawood',\n",
       " 'lastName': 'Shaikh',\n",
       " 'address': 'pechs karachi',\n",
       " 'city': 'Karachi'}"
      ]
     },
     "execution_count": 44,
     "metadata": {},
     "output_type": "execute_result"
    }
   ],
   "source": [
    "''' Creating dictionary that contains dictionary\n",
    "    nested dictionary and using keys as an customer id\n",
    "    that contains details of internal customers'''\n",
    "\n",
    "dict_customers = {0:{'firstName': 'Dawood',\n",
    "                      'lastName': 'Shaikh',\n",
    "                      'address': 'pechs karachi',\n",
    "                      'city': 'Karachi'},\n",
    "                  1:{'firstName': 'Huzaifa',\n",
    "                      'lastName': 'Mateen',\n",
    "                      'address': 'MA Jinnah Road karachi',\n",
    "                      'city': 'Peshawar'},\n",
    "                  2:{'firstName': 'Qasim',\n",
    "                      'lastName': 'Hassan',\n",
    "                      'address': 'SMIT karachi',\n",
    "                      'city': 'Islamabad'}}\n",
    "\n",
    "dict_customers[0]"
   ]
  },
  {
   "cell_type": "code",
   "execution_count": 62,
   "id": "dc800724-1f46-459b-ba98-6305a8b87226",
   "metadata": {},
   "outputs": [
    {
     "name": "stdout",
     "output_type": "stream",
     "text": [
      "pechs karachi\n",
      "MA Jinnah Road karachi\n",
      "SMIT karachi\n"
     ]
    }
   ],
   "source": [
    "for i in dict_customers: # by default keys return\n",
    "    print(dict_customers[i]['address'])\n",
    "\n"
   ]
  },
  {
   "cell_type": "code",
   "execution_count": 67,
   "id": "2405490e-8159-462d-9fbf-e13b2ecbe94d",
   "metadata": {},
   "outputs": [
    {
     "name": "stdout",
     "output_type": "stream",
     "text": [
      "pechs karachi\n",
      "MA Jinnah Road karachi\n",
      "SMIT karachi\n"
     ]
    }
   ],
   "source": [
    "for value in dict_customers.values():\n",
    "    print(value['address'])"
   ]
  },
  {
   "cell_type": "code",
   "execution_count": 79,
   "id": "9b0b065f-6996-434b-8576-62dd728e713b",
   "metadata": {},
   "outputs": [
    {
     "name": "stdout",
     "output_type": "stream",
     "text": [
      "pechs karachi\n",
      "MA Jinnah Road karachi\n",
      "SMIT karachi\n"
     ]
    }
   ],
   "source": [
    "for key, value in dict_customers.items(): # returns tuple with keys and values\n",
    "    print(value['address'])"
   ]
  },
  {
   "cell_type": "code",
   "execution_count": 92,
   "id": "d5013832-cdd0-4a48-a01f-77a1968dd8a7",
   "metadata": {},
   "outputs": [
    {
     "name": "stdout",
     "output_type": "stream",
     "text": [
      "Key is 0\n",
      "Addres of key 0 is pechs karachi\n",
      "----------------\n",
      "Value is {'firstName': 'Dawood', 'lastName': 'Shaikh', 'address': 'pechs karachi', 'city': 'Karachi'}\n",
      "Address of key 0 is pechs karachi\n",
      "-----L OO P ENDS--------\n",
      "Key is 1\n",
      "Addres of key 1 is MA Jinnah Road karachi\n",
      "----------------\n",
      "Value is {'firstName': 'Huzaifa', 'lastName': 'Mateen', 'address': 'MA Jinnah Road karachi', 'city': 'Peshawar'}\n",
      "Address of key 1 is MA Jinnah Road karachi\n",
      "-----L OO P ENDS--------\n",
      "Key is 2\n",
      "Addres of key 2 is SMIT karachi\n",
      "----------------\n",
      "Value is {'firstName': 'Qasim', 'lastName': 'Hassan', 'address': 'SMIT karachi', 'city': 'Islamabad'}\n",
      "Address of key 2 is SMIT karachi\n",
      "-----L OO P ENDS--------\n"
     ]
    }
   ],
   "source": [
    "for key, value in dict_customers.items(): # returns tuple with keys and values\n",
    "    print(f'Key is {key}')    \n",
    "    #extracting address using keys\n",
    "    print(f'Addres of key {key} is {dict_customers[key][\"address\"]}')\n",
    "    print('----------------')\n",
    "\n",
    "    #extracting address using values\n",
    "    print(f'Value is {value}')\n",
    "    print(f'Address of key {key} is {value[\"address\"]}')\n",
    "\n",
    "    print(\"-----L OO P ENDS--------\")"
   ]
  },
  {
   "cell_type": "code",
   "execution_count": 103,
   "id": "cee03e66-4617-4a29-90b8-acc9967e199f",
   "metadata": {},
   "outputs": [
    {
     "name": "stdout",
     "output_type": "stream",
     "text": [
      "Ayan\n",
      "Dawood\n",
      "----------------\n",
      "Ayan\n",
      "Dawood\n",
      "----------------\n",
      "Ayan\n",
      "Ayan\n",
      "----------------\n",
      "Dawood\n",
      "Dawood\n",
      "----------------\n"
     ]
    }
   ],
   "source": [
    "saylani = {\"python\":{'timings':'MWF', 'instructor':'Ayan'},\n",
    "           \"data eng\":{'timings':'TTS','instructor':'Dawood'}\n",
    "          }\n",
    "\n",
    "for i in saylani:\n",
    "    print(saylani[i]['instructor'])\n",
    "print('----------------')\n",
    "for i in saylani.values():\n",
    "    print(i['instructor'])\n",
    "\n",
    "print('----------------')\n",
    "for k,v in saylani.items():\n",
    "    print(v['instructor'])\n",
    "    print(saylani[k]['instructor'])\n",
    "    print('----------------')"
   ]
  },
  {
   "cell_type": "markdown",
   "id": "4671bd4f-1a75-4f84-9717-8f60671d743e",
   "metadata": {},
   "source": [
    "### Functions "
   ]
  },
  {
   "cell_type": "markdown",
   "id": "c77dad17-2094-472f-9244-9ef42538fd18",
   "metadata": {},
   "source": [
    "- print() anything that you pass will be printed on console\n",
    "- type() any varialbe that you pass, this fun will give the type so f that varible\n",
    "- id() any variable that you pass, this func will give the 'address' of that variable\n",
    "    \n",
    "- functions are like black box (we don't know how it does) that performs certain operations \n",
    "- input ---> function(operation) ---> desired result(based on operation)\n",
    "\n"
   ]
  },
  {
   "cell_type": "code",
   "execution_count": 106,
   "id": "c57ca647-9455-4fa8-bc9a-eda424fe374d",
   "metadata": {},
   "outputs": [
    {
     "data": {
      "text/plain": [
       "' syntax\\ndef <func_name>():\\n    <func_body> '"
      ]
     },
     "execution_count": 106,
     "metadata": {},
     "output_type": "execute_result"
    }
   ],
   "source": [
    "''' syntax\n",
    "def <func_name>():\n",
    "    <func_body> '''"
   ]
  },
  {
   "cell_type": "code",
   "execution_count": 2,
   "id": "805e3815-85b3-4320-ab85-2b89364a9f48",
   "metadata": {},
   "outputs": [
    {
     "name": "stdout",
     "output_type": "stream",
     "text": [
      "SMIT\n"
     ]
    }
   ],
   "source": [
    "def func():\n",
    "    print('SMIT')\n",
    "\n",
    "func()"
   ]
  },
  {
   "cell_type": "code",
   "execution_count": 3,
   "id": "8771f242-2b71-4dae-b290-68dadb40cf0c",
   "metadata": {},
   "outputs": [
    {
     "name": "stdout",
     "output_type": "stream",
     "text": [
      "20\n"
     ]
    }
   ],
   "source": [
    "def add():\n",
    "    num1 = 5\n",
    "    num2 = 15\n",
    "    total = num1 + num2\n",
    "    print(total)\n",
    "\n",
    "add() # function invoking or calling"
   ]
  },
  {
   "cell_type": "code",
   "execution_count": 6,
   "id": "a7a1722d-1a44-4a34-8012-f362a1345d99",
   "metadata": {},
   "outputs": [
    {
     "name": "stdout",
     "output_type": "stream",
     "text": [
      "20\n"
     ]
    }
   ],
   "source": [
    "add() # problem: addition of static numbers(hard code numbers) however we want it dynamically"
   ]
  },
  {
   "cell_type": "code",
   "execution_count": 7,
   "id": "6193e489-dc60-4c45-817f-172cea015ff9",
   "metadata": {},
   "outputs": [
    {
     "data": {
      "text/plain": [
       "' syntax with parameters\\ndef <func_name>(parameters):\\n    <func_body> '"
      ]
     },
     "execution_count": 7,
     "metadata": {},
     "output_type": "execute_result"
    }
   ],
   "source": [
    "''' syntax with parameters\n",
    "def <func_name>(parameters):\n",
    "    <func_body> '''"
   ]
  },
  {
   "cell_type": "code",
   "execution_count": 21,
   "id": "d1fd5175-0571-44df-af31-4873726935b0",
   "metadata": {},
   "outputs": [
    {
     "name": "stdout",
     "output_type": "stream",
     "text": [
      "100\n"
     ]
    }
   ],
   "source": [
    "def add(num1, num2):\n",
    "    total = num1 + num2\n",
    "    print(total)\n",
    "\n",
    "#Function: passing information\n",
    "add(80,20)"
   ]
  },
  {
   "cell_type": "code",
   "execution_count": 11,
   "id": "44d385f9-c6a0-4251-90c2-eac890bb48a2",
   "metadata": {},
   "outputs": [
    {
     "name": "stdout",
     "output_type": "stream",
     "text": [
      "100\n"
     ]
    }
   ],
   "source": [
    "add(101,-1)"
   ]
  },
  {
   "cell_type": "code",
   "execution_count": 12,
   "id": "61c8d603-12d5-4ad0-8d94-e8a9a671edb4",
   "metadata": {},
   "outputs": [
    {
     "name": "stdout",
     "output_type": "stream",
     "text": [
      "318.15\n"
     ]
    }
   ],
   "source": [
    "#Kelvin = Celsius + 273.15\n",
    "\n",
    "def temp_kelvin(temp_celsius, default_kelvin_value):\n",
    "    print(temp_celsius + default_kelvin_value)\n",
    "\n",
    "#temp in kelvin\n",
    "temp_kelvin(45,273.15)"
   ]
  },
  {
   "cell_type": "code",
   "execution_count": 16,
   "id": "b2a26986-b9bb-478d-8ba2-7a788e4b743b",
   "metadata": {},
   "outputs": [
    {
     "name": "stdout",
     "output_type": "stream",
     "text": [
      "318\n"
     ]
    }
   ],
   "source": [
    "# setting up the default value in function\n",
    "def temp_kelvin(temp_celsius, default_kelvin_value=273.15):\n",
    "    print(temp_celsius + default_kelvin_value)\n",
    "\n",
    "#temp in kelvin\n",
    "temp_kelvin(45,273)\n"
   ]
  },
  {
   "cell_type": "code",
   "execution_count": 17,
   "id": "fc652876-6a30-4d40-b2e2-0fc2bc536cf6",
   "metadata": {},
   "outputs": [
    {
     "name": "stdout",
     "output_type": "stream",
     "text": [
      "318.15\n"
     ]
    }
   ],
   "source": [
    "temp_kelvin(45)"
   ]
  },
  {
   "cell_type": "code",
   "execution_count": 22,
   "id": "d27142d3-d633-47bd-8acb-4eefd9787edb",
   "metadata": {},
   "outputs": [
    {
     "ename": "SyntaxError",
     "evalue": "non-default argument follows default argument (4028487811.py, line 3)",
     "output_type": "error",
     "traceback": [
      "\u001b[1;36m  Cell \u001b[1;32mIn[22], line 3\u001b[1;36m\u001b[0m\n\u001b[1;33m    def temp_kelvin(default_kelvin_value=273.15, temp_celsius):\u001b[0m\n\u001b[1;37m                                                 ^\u001b[0m\n\u001b[1;31mSyntaxError\u001b[0m\u001b[1;31m:\u001b[0m non-default argument follows default argument\n"
     ]
    }
   ],
   "source": [
    "# Functions: mixing positional and keyword arguments\n",
    "# just swapped the parameter -->default first\n",
    "def temp_kelvin(default_kelvin_value=273.15, temp_celsius):\n",
    "    print(temp_celsius + default_kelvin_value)\n",
    "\n",
    "# default param, should be in the end\n",
    "# otherwise it would raise an error\n"
   ]
  },
  {
   "cell_type": "code",
   "execution_count": 24,
   "id": "d753562b-3f0b-4091-bdbd-f6ed6d2d458f",
   "metadata": {},
   "outputs": [
    {
     "name": "stdout",
     "output_type": "stream",
     "text": [
      "Welcome! , to SMIT Dawood Shaikh\n"
     ]
    }
   ],
   "source": [
    "# Functions: mixing positional and keyword arguments\n",
    "#print greetings to any person coming to saylani\n",
    "\n",
    "def greetings(first_name, last_name,Greetings='Welcome! '):\n",
    "    print(f'{Greetings}, to SMIT {first_name} {last_name}')\n",
    "\n",
    "greetings('Dawood', 'Shaikh')   "
   ]
  },
  {
   "cell_type": "code",
   "execution_count": 25,
   "id": "dd0dd255-b840-458f-b0e1-206abf46ef60",
   "metadata": {},
   "outputs": [
    {
     "name": "stdout",
     "output_type": "stream",
     "text": [
      "Welcome! , to SMIT Shaikh Dawood\n"
     ]
    }
   ],
   "source": [
    "greetings('Shaikh', 'Dawood') #wrong output because first name is not shaikh\n"
   ]
  },
  {
   "cell_type": "code",
   "execution_count": 26,
   "id": "b8282b71-873e-44f6-a6b8-4d2265c5ce70",
   "metadata": {},
   "outputs": [
    {
     "name": "stdout",
     "output_type": "stream",
     "text": [
      "Welcome! , to SMIT Dawood Shaikh\n"
     ]
    }
   ],
   "source": [
    "# To solve above problem, using keyword argument instead of  positional argument\n",
    "\n",
    "greetings(last_name='Shaikh',first_name = 'Dawood')"
   ]
  },
  {
   "cell_type": "code",
   "execution_count": null,
   "id": "f22daecc-032f-4978-b2fb-012b6f5573f0",
   "metadata": {},
   "outputs": [],
   "source": []
  }
 ],
 "metadata": {
  "kernelspec": {
   "display_name": "Python 3 (ipykernel)",
   "language": "python",
   "name": "python3"
  },
  "language_info": {
   "codemirror_mode": {
    "name": "ipython",
    "version": 3
   },
   "file_extension": ".py",
   "mimetype": "text/x-python",
   "name": "python",
   "nbconvert_exporter": "python",
   "pygments_lexer": "ipython3",
   "version": "3.11.7"
  }
 },
 "nbformat": 4,
 "nbformat_minor": 5
}
