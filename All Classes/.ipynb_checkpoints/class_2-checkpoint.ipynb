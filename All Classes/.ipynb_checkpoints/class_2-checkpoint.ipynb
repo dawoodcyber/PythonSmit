{
 "cells": [
  {
   "cell_type": "markdown",
   "id": "86188ee5-f545-4cb5-8d1e-ea85b3acee35",
   "metadata": {
    "jp-MarkdownHeadingCollapsed": true
   },
   "source": [
    "# Class_02\n"
   ]
  },
  {
   "cell_type": "code",
   "execution_count": 3,
   "id": "77f6b973-47be-49ce-9868-7d95fa561aa9",
   "metadata": {},
   "outputs": [
    {
     "name": "stdout",
     "output_type": "stream",
     "text": [
      "Saylani SMIT\n"
     ]
    }
   ],
   "source": [
    "print(\"Saylani SMIT\") # print is builtin function, it take arguments/parameters to print on consoled"
   ]
  },
  {
   "cell_type": "code",
   "execution_count": null,
   "id": "071cc466-bc50-4d2c-81ff-fab0b9a203d9",
   "metadata": {},
   "outputs": [],
   "source": [
    "# shift + tab = to show the documentary of functions\n",
    "# for comments\n",
    "# esc + number = to make headings"
   ]
  },
  {
   "cell_type": "markdown",
   "id": "4b1ff85f-6763-435c-bef2-1e2d33da09ec",
   "metadata": {
    "jp-MarkdownHeadingCollapsed": true
   },
   "source": [
    "### i. Variables"
   ]
  },
  {
   "cell_type": "code",
   "execution_count": null,
   "id": "74a9d9f8-43d3-4a6d-a27f-3e56a1f5f6c7",
   "metadata": {},
   "outputs": [],
   "source": [
    "# variables are used to save things temporarily\n"
   ]
  },
  {
   "cell_type": "code",
   "execution_count": 4,
   "id": "84654538-6809-469d-99af-a0e2a8523252",
   "metadata": {},
   "outputs": [],
   "source": [
    "name = \"Dawood Shaikh\""
   ]
  },
  {
   "cell_type": "code",
   "execution_count": 5,
   "id": "9d73fb75-e371-46bd-b326-69a08f727514",
   "metadata": {},
   "outputs": [
    {
     "name": "stdout",
     "output_type": "stream",
     "text": [
      "Dawood Shaikh\n",
      "1515535448496\n"
     ]
    }
   ],
   "source": [
    "print(name) #String\n",
    "print(id(name))"
   ]
  },
  {
   "cell_type": "code",
   "execution_count": 6,
   "id": "98b5ebb1-a87e-4a51-9970-b146a2dd4e8f",
   "metadata": {},
   "outputs": [],
   "source": [
    "# id function = is availabe by default in pythong which tells the address of the variable"
   ]
  },
  {
   "cell_type": "code",
   "execution_count": 7,
   "id": "814ef573-1056-4b76-bacd-6219fbb8bb88",
   "metadata": {},
   "outputs": [],
   "source": [
    "# last line jupyter is automatically gets executed"
   ]
  },
  {
   "cell_type": "code",
   "execution_count": 9,
   "id": "a7dbca52-df4a-4688-9187-a6f2bc7b0be9",
   "metadata": {},
   "outputs": [
    {
     "name": "stdout",
     "output_type": "stream",
     "text": [
      "Dawood Shaikh\n"
     ]
    },
    {
     "data": {
      "text/plain": [
       "'Dawood Shaikh'"
      ]
     },
     "execution_count": 9,
     "metadata": {},
     "output_type": "execute_result"
    }
   ],
   "source": [
    "print(name)\n",
    "name\n"
   ]
  },
  {
   "cell_type": "code",
   "execution_count": 10,
   "id": "b751291f-6ade-48ee-8d03-3d2f6e025014",
   "metadata": {},
   "outputs": [
    {
     "name": "stdout",
     "output_type": "stream",
     "text": [
      "15\n"
     ]
    },
    {
     "data": {
      "text/plain": [
       "140703674778856"
      ]
     },
     "execution_count": 10,
     "metadata": {},
     "output_type": "execute_result"
    }
   ],
   "source": [
    "age = 15 #Integer\n",
    "print(age)\n",
    "id(age) #address defines"
   ]
  },
  {
   "cell_type": "code",
   "execution_count": 11,
   "id": "0b589422-70aa-4a61-bbab-e6c68957f169",
   "metadata": {},
   "outputs": [
    {
     "name": "stdout",
     "output_type": "stream",
     "text": [
      "55.34\n"
     ]
    },
    {
     "data": {
      "text/plain": [
       "1515534183920"
      ]
     },
     "execution_count": 11,
     "metadata": {},
     "output_type": "execute_result"
    }
   ],
   "source": [
    "weight = 55.34 # Float\n",
    "print(weight)\n",
    "id(weight)"
   ]
  },
  {
   "cell_type": "code",
   "execution_count": 14,
   "id": "0a21ddc5-8097-408a-98ef-e6ec6cad8ad6",
   "metadata": {},
   "outputs": [
    {
     "name": "stdout",
     "output_type": "stream",
     "text": [
      "True\n"
     ]
    },
    {
     "data": {
      "text/plain": [
       "140703673305664"
      ]
     },
     "execution_count": 14,
     "metadata": {},
     "output_type": "execute_result"
    }
   ],
   "source": [
    "isPresent = True #Boolean \n",
    "print(isPresent)\n",
    "id(isPresent)"
   ]
  },
  {
   "cell_type": "code",
   "execution_count": 15,
   "id": "5761213c-9380-472d-ad11-8711f08efeca",
   "metadata": {},
   "outputs": [
    {
     "name": "stdout",
     "output_type": "stream",
     "text": [
      "<class 'str'>\n"
     ]
    }
   ],
   "source": [
    "print(type(name)) # defines the type of variable through type()"
   ]
  },
  {
   "cell_type": "code",
   "execution_count": 17,
   "id": "42c1e7b0-a433-42b7-8887-d77f7a5559da",
   "metadata": {},
   "outputs": [
    {
     "name": "stdout",
     "output_type": "stream",
     "text": [
      "is a good boy\n",
      "<class 'str'>\n"
     ]
    }
   ],
   "source": [
    "lastName='is a good boy' # double or single qoutation , performs the same thing\n",
    "print(lastName)\n",
    "print(type(lastName))\n"
   ]
  },
  {
   "cell_type": "code",
   "execution_count": 19,
   "id": "b934c9e6-9bac-466c-b428-21c832062c58",
   "metadata": {},
   "outputs": [
    {
     "name": "stdout",
     "output_type": "stream",
     "text": [
      "Dawood said that, \"I'll come tomorrow\"\n"
     ]
    }
   ],
   "source": [
    "#Method to print qoutations\n",
    "print('Dawood said that, \"I\\'ll come tomorrow\"')"
   ]
  },
  {
   "cell_type": "code",
   "execution_count": 29,
   "id": "c30008c6-4328-4280-9781-8a6a9baf7486",
   "metadata": {},
   "outputs": [],
   "source": [
    "#printing more lines, multi-lines string, syntax ''' paragraph '''\n",
    "poem = \"\"\"Humpty Dumpty sat on a wall.\n",
    "Humpty Dumpty had a great fall.\n",
    "All the king's horses and all the king's men\n",
    "Couldn't put Humpty together again.\"\"\""
   ]
  },
  {
   "cell_type": "code",
   "execution_count": 24,
   "id": "ccccb5b9-480a-4a42-87d2-8c510d937029",
   "metadata": {},
   "outputs": [
    {
     "name": "stdout",
     "output_type": "stream",
     "text": [
      "Humpty Dumpty sat on a wall.\n",
      "Humpty Dumpty had a great fall.\n",
      "All the king's horses and all the king's men\n",
      "Couldn't put Humpty together again.\n"
     ]
    }
   ],
   "source": [
    "print(poem)"
   ]
  },
  {
   "cell_type": "code",
   "execution_count": 32,
   "id": "9a869e9e-91be-4d65-8035-dca32540b370",
   "metadata": {},
   "outputs": [
    {
     "name": "stdout",
     "output_type": "stream",
     "text": [
      "<class 'str'>\n"
     ]
    }
   ],
   "source": [
    "print(type(age)) # type of age"
   ]
  },
  {
   "cell_type": "code",
   "execution_count": 33,
   "id": "04300c7f-32a0-4f54-b308-61c2ddc94858",
   "metadata": {},
   "outputs": [
    {
     "name": "stdout",
     "output_type": "stream",
     "text": [
      "<class 'bool'>\n"
     ]
    }
   ],
   "source": [
    "print(type(isPresent)) # type of isPresent"
   ]
  },
  {
   "cell_type": "markdown",
   "id": "a98fad54-8586-402b-a962-37d386b7f4b4",
   "metadata": {
    "jp-MarkdownHeadingCollapsed": true
   },
   "source": [
    "### ii. Arithmetic Operators"
   ]
  },
  {
   "cell_type": "code",
   "execution_count": null,
   "id": "033ca330-ea3e-4636-b078-98595e6a10dd",
   "metadata": {},
   "outputs": [],
   "source": [
    "#Operations +,-,*,/,%"
   ]
  },
  {
   "cell_type": "code",
   "execution_count": 34,
   "id": "e9e0c38a-8854-4672-9917-69b8240f5958",
   "metadata": {},
   "outputs": [
    {
     "data": {
      "text/plain": [
       "4"
      ]
     },
     "execution_count": 34,
     "metadata": {},
     "output_type": "execute_result"
    }
   ],
   "source": [
    "2+2"
   ]
  },
  {
   "cell_type": "code",
   "execution_count": 35,
   "id": "7e5f43d0-245c-4e68-ab25-dcf220ccaedb",
   "metadata": {},
   "outputs": [
    {
     "data": {
      "text/plain": [
       "4"
      ]
     },
     "execution_count": 35,
     "metadata": {},
     "output_type": "execute_result"
    }
   ],
   "source": [
    "2*2"
   ]
  },
  {
   "cell_type": "code",
   "execution_count": 36,
   "id": "befea554-aa03-41e1-8d5f-b763133b19e0",
   "metadata": {},
   "outputs": [
    {
     "data": {
      "text/plain": [
       "1.0"
      ]
     },
     "execution_count": 36,
     "metadata": {},
     "output_type": "execute_result"
    }
   ],
   "source": [
    "2/2\n"
   ]
  },
  {
   "cell_type": "code",
   "execution_count": 37,
   "id": "897e460b-d0be-458d-8e5f-6acafe37b2ee",
   "metadata": {},
   "outputs": [
    {
     "data": {
      "text/plain": [
       "0"
      ]
     },
     "execution_count": 37,
     "metadata": {},
     "output_type": "execute_result"
    }
   ],
   "source": [
    "6%6\n"
   ]
  },
  {
   "cell_type": "code",
   "execution_count": 38,
   "id": "6a27fb24-3e26-4dea-8c72-a81e60ba50ce",
   "metadata": {},
   "outputs": [
    {
     "data": {
      "text/plain": [
       "0.0"
      ]
     },
     "execution_count": 38,
     "metadata": {},
     "output_type": "execute_result"
    }
   ],
   "source": [
    "0/2"
   ]
  },
  {
   "cell_type": "code",
   "execution_count": 40,
   "id": "ad480763-eecd-45ac-a642-0f955d4d57ac",
   "metadata": {},
   "outputs": [
    {
     "data": {
      "text/plain": [
       "2"
      ]
     },
     "execution_count": 40,
     "metadata": {},
     "output_type": "execute_result"
    }
   ],
   "source": [
    "#if we want answer in int\n",
    "int(4/2)"
   ]
  },
  {
   "cell_type": "code",
   "execution_count": 46,
   "id": "a9397883-7e2e-4fd7-bccc-ce48f401185b",
   "metadata": {},
   "outputs": [
    {
     "name": "stdout",
     "output_type": "stream",
     "text": [
      "27\n"
     ]
    },
    {
     "data": {
      "text/plain": [
       "512"
      ]
     },
     "execution_count": 46,
     "metadata": {},
     "output_type": "execute_result"
    }
   ],
   "source": [
    "# for powers\n",
    "print(3**3)\n",
    "2**9"
   ]
  },
  {
   "cell_type": "code",
   "execution_count": 47,
   "id": "0c3aa807-d82b-4b9f-9f4e-1d517e52786c",
   "metadata": {},
   "outputs": [
    {
     "data": {
      "text/plain": [
       "2"
      ]
     },
     "execution_count": 47,
     "metadata": {},
     "output_type": "execute_result"
    }
   ],
   "source": [
    "#floor , syntax // ---> round-off at lower point\n",
    "5//2"
   ]
  },
  {
   "cell_type": "code",
   "execution_count": 54,
   "id": "92f624be-9eab-4c21-915c-fb0c521ad693",
   "metadata": {},
   "outputs": [
    {
     "data": {
      "text/plain": [
       "3"
      ]
     },
     "execution_count": 54,
     "metadata": {},
     "output_type": "execute_result"
    }
   ],
   "source": [
    "#ceil , method math.ceil --> round-off at upper point\n",
    "import math;\n",
    "math.ceil(5/2)"
   ]
  },
  {
   "cell_type": "code",
   "execution_count": 61,
   "id": "01363e92-9244-4bf5-9c48-d897eb3421f7",
   "metadata": {},
   "outputs": [
    {
     "name": "stdout",
     "output_type": "stream",
     "text": [
      "3\n",
      "2\n",
      "25.0\n",
      "343\n"
     ]
    }
   ],
   "source": [
    "import math; # through library math;\n",
    "print(math.ceil(5/2))\n",
    "print(math.floor(5/2))\n",
    "print(math.sqrt(625))     #returns the sqaure\n",
    "print(abs(-343))          # return positive value"
   ]
  },
  {
   "cell_type": "markdown",
   "id": "a57b96f5-bd72-4e8d-84b0-00cda5fb28ee",
   "metadata": {
    "jp-MarkdownHeadingCollapsed": true
   },
   "source": [
    "### iii. KEYWORDS"
   ]
  },
  {
   "cell_type": "markdown",
   "id": "3cbd425f-93d6-4d07-8c37-840492e0e0cc",
   "metadata": {},
   "source": [
    "- and\r",
    "- \n",
    "as- \r\n",
    "asser- t\r\n",
    "bre- ak\r\n",
    "cl- ass\r\n",
    "cont- inue- \r\n",
    "de- f\r\n",
    "de- l\r\n",
    "el- if\r\n",
    "els- e\r\n",
    "exc- ept\r\n",
    "Fal- se\r\n",
    "- final- ly\r\n",
    "for- \r\n",
    "f- rom\r\n",
    "gl- oba- l\r\n",
    "- if\r\n",
    "imp- ort\r\n",
    "- in\r\n",
    "is\r\n",
    "l- ambd- a\r\n",
    "- None\r",
    "- \n",
    "nonlo- cal\r\n",
    "n- ot\r\n",
    "or\r",
    "- \n",
    "pass- \r\n",
    "pr- int\r\n",
    "r- aise\r",
    "- \n",
    "return\r\n",
    "True\r\n",
    "try\r\n",
    "while\r\n",
    "with\r\n",
    "yield"
   ]
  },
  {
   "cell_type": "markdown",
   "id": "8a60b201-d0a3-4027-844e-941e1d73d12a",
   "metadata": {
    "jp-MarkdownHeadingCollapsed": true
   },
   "source": [
    "### iv. Some more Operators"
   ]
  },
  {
   "cell_type": "code",
   "execution_count": 65,
   "id": "a6d24430-89ef-479f-ae37-5ddfeceb7525",
   "metadata": {},
   "outputs": [
    {
     "data": {
      "text/plain": [
       "1"
      ]
     },
     "execution_count": 65,
     "metadata": {},
     "output_type": "execute_result"
    }
   ],
   "source": [
    "#modulo % return remainder value\n",
    "9%4"
   ]
  },
  {
   "cell_type": "code",
   "execution_count": 71,
   "id": "576e2d76-2538-4045-9bb2-c392c0998e86",
   "metadata": {},
   "outputs": [
    {
     "data": {
      "text/plain": [
       "30"
      ]
     },
     "execution_count": 71,
     "metadata": {},
     "output_type": "execute_result"
    }
   ],
   "source": [
    "#incremental operators\n",
    "age = 20\n",
    "age\n",
    "age+5\n",
    "age +=5\n",
    "age = age + 5\n",
    "age\n"
   ]
  },
  {
   "cell_type": "code",
   "execution_count": 73,
   "id": "55c77085-ed15-4e49-9fae-6071a34b9e90",
   "metadata": {},
   "outputs": [
    {
     "data": {
      "text/plain": [
       "10"
      ]
     },
     "execution_count": 73,
     "metadata": {},
     "output_type": "execute_result"
    }
   ],
   "source": [
    "# decremental operators\n",
    "age = 20\n",
    "age\n",
    "age-5\n",
    "age -=5\n",
    "age = age - 5\n",
    "age"
   ]
  },
  {
   "cell_type": "code",
   "execution_count": 74,
   "id": "a882c192-4200-42ce-9543-b09d878e5811",
   "metadata": {},
   "outputs": [
    {
     "data": {
      "text/plain": [
       "10"
      ]
     },
     "execution_count": 74,
     "metadata": {},
     "output_type": "execute_result"
    }
   ],
   "source": [
    "age"
   ]
  },
  {
   "cell_type": "code",
   "execution_count": 76,
   "id": "94b06760-2afb-4cde-b7f0-32515f7c1b29",
   "metadata": {},
   "outputs": [
    {
     "data": {
      "text/plain": [
       "2.5"
      ]
     },
     "execution_count": 76,
     "metadata": {},
     "output_type": "execute_result"
    }
   ],
   "source": [
    "age/=2\n",
    "age"
   ]
  },
  {
   "cell_type": "code",
   "execution_count": 77,
   "id": "1d097f10-c95d-4c33-bf74-9a3431966e79",
   "metadata": {},
   "outputs": [
    {
     "data": {
      "text/plain": [
       "2.5"
      ]
     },
     "execution_count": 77,
     "metadata": {},
     "output_type": "execute_result"
    }
   ],
   "source": [
    "age"
   ]
  },
  {
   "cell_type": "code",
   "execution_count": 79,
   "id": "bc8c50fd-1efb-41b8-a9b2-68979ce84987",
   "metadata": {},
   "outputs": [
    {
     "data": {
      "text/plain": [
       "10.0"
      ]
     },
     "execution_count": 79,
     "metadata": {},
     "output_type": "execute_result"
    }
   ],
   "source": [
    "age*=2\n",
    "age"
   ]
  },
  {
   "cell_type": "markdown",
   "id": "e49b8ffe-b857-4b47-8f73-3740aebc5a45",
   "metadata": {
    "jp-MarkdownHeadingCollapsed": true
   },
   "source": [
    "### v. Expressions\n",
    "=1+3-2*4 ---> Applying BODMAS rule<br>\n",
    "=1+3-8 <br>\n",
    "=4-8<br>\n",
    "=-4<br>"
   ]
  },
  {
   "cell_type": "code",
   "execution_count": 80,
   "id": "1056c7cf-92f6-4f15-926f-22a1ff767196",
   "metadata": {},
   "outputs": [
    {
     "data": {
      "text/plain": [
       "-4"
      ]
     },
     "execution_count": 80,
     "metadata": {},
     "output_type": "execute_result"
    }
   ],
   "source": [
    "1+3-2*4"
   ]
  },
  {
   "cell_type": "code",
   "execution_count": 81,
   "id": "c227c5d2-8c31-4b5b-b0dd-4561bc944172",
   "metadata": {},
   "outputs": [
    {
     "data": {
      "text/plain": [
       "5"
      ]
     },
     "execution_count": 81,
     "metadata": {},
     "output_type": "execute_result"
    }
   ],
   "source": [
    "1+(3-2)*4 #-->BODMAS RUlE"
   ]
  },
  {
   "cell_type": "code",
   "execution_count": 82,
   "id": "4a04b4f0-1a1b-41b4-adfb-2f089c80f548",
   "metadata": {},
   "outputs": [
    {
     "data": {
      "text/plain": [
       "18"
      ]
     },
     "execution_count": 82,
     "metadata": {},
     "output_type": "execute_result"
    }
   ],
   "source": [
    "# power is on top  in precedence, power will always at first place\n",
    "1+(3-2)+2**4"
   ]
  },
  {
   "cell_type": "code",
   "execution_count": 84,
   "id": "8ca345e8-29eb-4093-a068-5f2c3e0c91bf",
   "metadata": {},
   "outputs": [
    {
     "data": {
      "text/plain": [
       "34"
      ]
     },
     "execution_count": 84,
     "metadata": {},
     "output_type": "execute_result"
    }
   ],
   "source": [
    "((2*4)*4)+2 # first inner bracket, then outer bracket"
   ]
  },
  {
   "cell_type": "markdown",
   "id": "27d3f838-6dfa-4b7a-8c98-765f6744f631",
   "metadata": {
    "jp-MarkdownHeadingCollapsed": true
   },
   "source": [
    "### vi. Concatenation"
   ]
  },
  {
   "cell_type": "code",
   "execution_count": 93,
   "id": "a3ddf11a-74dd-4c45-b244-738fff1ccb00",
   "metadata": {},
   "outputs": [
    {
     "data": {
      "text/plain": [
       "'Dawood Shaikh'"
      ]
     },
     "execution_count": 93,
     "metadata": {},
     "output_type": "execute_result"
    }
   ],
   "source": [
    "name = \"Dawood \"+\"Shaikh\"\n",
    "name"
   ]
  },
  {
   "cell_type": "code",
   "execution_count": 88,
   "id": "f22f80e8-9c20-4394-a9e6-16d0766d9607",
   "metadata": {},
   "outputs": [
    {
     "data": {
      "text/plain": [
       "('Dawood', 'Hassan')"
      ]
     },
     "execution_count": 88,
     "metadata": {},
     "output_type": "execute_result"
    }
   ],
   "source": [
    "\"Dawood\", \"Hassan\"  # will convert it into tuple"
   ]
  },
  {
   "cell_type": "code",
   "execution_count": 90,
   "id": "0a08b8d0-c09e-421e-bcf1-af792792d62b",
   "metadata": {},
   "outputs": [
    {
     "name": "stdout",
     "output_type": "stream",
     "text": [
      "Dawood  Shaikh\n"
     ]
    }
   ],
   "source": [
    "print(\"Dawood \", \"Shaikh\")"
   ]
  },
  {
   "cell_type": "code",
   "execution_count": 94,
   "id": "f30c74c3-61da-4aa8-affd-35627260dcba",
   "metadata": {},
   "outputs": [
    {
     "data": {
      "text/plain": [
       "'Dawood Shaikh'"
      ]
     },
     "execution_count": 94,
     "metadata": {},
     "output_type": "execute_result"
    }
   ],
   "source": [
    "name"
   ]
  },
  {
   "cell_type": "code",
   "execution_count": 96,
   "id": "da419f0d-7c0e-4d36-b6fa-246cde75bfe3",
   "metadata": {},
   "outputs": [
    {
     "data": {
      "text/plain": [
       "('Dawood Shaikh', 10.0, 55.34, True)"
      ]
     },
     "execution_count": 96,
     "metadata": {},
     "output_type": "execute_result"
    }
   ],
   "source": [
    "name, age, weight, isPresent #--> this converting into tuples"
   ]
  },
  {
   "cell_type": "code",
   "execution_count": 98,
   "id": "eec333b8-725d-4572-969a-8aef0c7315b1",
   "metadata": {},
   "outputs": [
    {
     "name": "stdout",
     "output_type": "stream",
     "text": [
      "Student Name: Dawood Shaikh\n",
      "Student Age: 10.0\n",
      "Student weight: 55.34\n",
      "Student is Present: True\n"
     ]
    }
   ],
   "source": [
    "#Method 01: Concatenation\n",
    "#, doesn't require typecasting\n",
    "print(\"Student Name:\",name);\n",
    "print(\"Student Age:\", age); # , also do typecasting , where string are adding with int\n",
    "print(\"Student weight:\",weight);\n",
    "print(\"Student is Present:\", isPresent);"
   ]
  },
  {
   "cell_type": "code",
   "execution_count": 100,
   "id": "5cffdf3f-18ee-4384-b508-1c291f4f8b42",
   "metadata": {},
   "outputs": [
    {
     "name": "stdout",
     "output_type": "stream",
     "text": [
      "Student Name:Dawood Shaikh\n",
      "Student Age:10.0\n",
      "Student weight:55.34\n",
      "Student is Present:True\n"
     ]
    }
   ],
   "source": [
    "# + requires typecasting\n",
    "print(\"Student Name:\"+name); \n",
    "print(\"Student Age:\"+ str(age)); # error string cannot be added into int\n",
    "print(\"Student weight:\"+ str(weight)); #error\n",
    "print(\"Student is Present:\"+ str(isPresent)); # error"
   ]
  },
  {
   "cell_type": "code",
   "execution_count": 101,
   "id": "37c9d6c1-9b46-4e5a-bc0b-7b57283213c0",
   "metadata": {},
   "outputs": [
    {
     "name": "stdout",
     "output_type": "stream",
     "text": [
      "Student Name:Dawood Shaikh\n",
      "Student Age:10.0\n",
      "Student weight:55.34\n",
      "Student is Present:True\n"
     ]
    }
   ],
   "source": [
    "# Concatenation with f --->formatting, needs {} to assign variables in it.\n",
    "print(f\"Student Name:{name}\");\n",
    "print(f\"Student Age:{age}\"); \n",
    "print(f\"Student weight:{weight}\");\n",
    "print(f\"Student is Present:{isPresent}\");"
   ]
  },
  {
   "cell_type": "code",
   "execution_count": 102,
   "id": "2a19464d-ff79-4d8f-baa4-8c62e4c2ae5e",
   "metadata": {},
   "outputs": [
    {
     "name": "stdout",
     "output_type": "stream",
     "text": [
      "Hello, World!\n"
     ]
    }
   ],
   "source": [
    "greeting = \"Hello\"\n",
    "separators = \", \"\n",
    "addressee = \"World\"\n",
    "punc = \"!\"\n",
    "whole_greeting = greeting + separators + addressee + punc\n",
    "print(whole_greeting)\n"
   ]
  },
  {
   "cell_type": "markdown",
   "id": "ad462053-9845-4331-83f0-a9a394e4f0fa",
   "metadata": {
    "jp-MarkdownHeadingCollapsed": true
   },
   "source": [
    "### vii. GitHub\n"
   ]
  },
  {
   "cell_type": "markdown",
   "id": "b06850e5-cd3b-4fd4-9bb5-d67de2b0735b",
   "metadata": {},
   "source": [
    "- Version control system\n",
    "- Team work with Branching"
   ]
  },
  {
   "cell_type": "code",
   "execution_count": null,
   "id": "44ab4536-4d77-4075-9a3f-8f3c82369e1d",
   "metadata": {},
   "outputs": [],
   "source": []
  }
 ],
 "metadata": {
  "kernelspec": {
   "display_name": "Python 3 (ipykernel)",
   "language": "python",
   "name": "python3"
  },
  "language_info": {
   "codemirror_mode": {
    "name": "ipython",
    "version": 3
   },
   "file_extension": ".py",
   "mimetype": "text/x-python",
   "name": "python",
   "nbconvert_exporter": "python",
   "pygments_lexer": "ipython3",
   "version": "3.11.7"
  }
 },
 "nbformat": 4,
 "nbformat_minor": 5
}
