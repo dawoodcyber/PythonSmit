{
 "cells": [
  {
   "cell_type": "code",
   "execution_count": 3,
   "id": "8896401e-b5a6-44ad-b91b-cb0bc112823a",
   "metadata": {},
   "outputs": [
    {
     "name": "stdout",
     "output_type": "stream",
     "text": [
      "My child class\n"
     ]
    }
   ],
   "source": [
    "class parentClass:\n",
    "    def myAbstraction(self):\n",
    "        pass\n",
    "\n",
    "class childClass(parentClass):\n",
    "    def myAbstraction(self):\n",
    "        print('My child class')\n",
    "\n",
    "obj = childClass()\n",
    "\n",
    "obj.myAbstraction()"
   ]
  },
  {
   "cell_type": "code",
   "execution_count": 6,
   "id": "2b60b760-e4a6-4b22-9fa5-b5dc16935120",
   "metadata": {},
   "outputs": [],
   "source": [
    "class saylani():\n",
    "    def __init__(self):\n",
    "        self.helpline = '786' #static attribute, public\n",
    "        self._batch = 'Python' # underscore, protected\n",
    "        self.__result = '70%'   #static attribute, private\n",
    "        \n",
    "        "
   ]
  },
  {
   "cell_type": "code",
   "execution_count": 7,
   "id": "c056dbc2-d78b-45c1-88b6-0749354a9bc4",
   "metadata": {},
   "outputs": [],
   "source": [
    "inst = saylani()"
   ]
  },
  {
   "cell_type": "code",
   "execution_count": 8,
   "id": "80ee4c35-87c8-4283-be6e-dd6c9cc2d10f",
   "metadata": {},
   "outputs": [
    {
     "data": {
      "text/plain": [
       "'786'"
      ]
     },
     "execution_count": 8,
     "metadata": {},
     "output_type": "execute_result"
    }
   ],
   "source": [
    "inst.helpline # simple"
   ]
  },
  {
   "cell_type": "code",
   "execution_count": 12,
   "id": "56328431-f8d5-4f99-bd6d-22686c4fc6fb",
   "metadata": {},
   "outputs": [
    {
     "data": {
      "text/plain": [
       "'Python'"
      ]
     },
     "execution_count": 12,
     "metadata": {},
     "output_type": "execute_result"
    }
   ],
   "source": [
    "inst._batch # it is protected"
   ]
  },
  {
   "cell_type": "code",
   "execution_count": 13,
   "id": "9832ce2d-f0ab-4b8d-ac6d-51cd4a458e5f",
   "metadata": {},
   "outputs": [
    {
     "ename": "AttributeError",
     "evalue": "'saylani' object has no attribute '__result'",
     "output_type": "error",
     "traceback": [
      "\u001b[1;31m---------------------------------------------------------------------------\u001b[0m",
      "\u001b[1;31mAttributeError\u001b[0m                            Traceback (most recent call last)",
      "Cell \u001b[1;32mIn[13], line 1\u001b[0m\n\u001b[1;32m----> 1\u001b[0m inst\u001b[38;5;241m.\u001b[39m__result\n",
      "\u001b[1;31mAttributeError\u001b[0m: 'saylani' object has no attribute '__result'"
     ]
    }
   ],
   "source": [
    "inst.__result #cause it is private"
   ]
  },
  {
   "cell_type": "code",
   "execution_count": 16,
   "id": "8f87ef31-908b-4815-8420-5ba342c21bef",
   "metadata": {},
   "outputs": [],
   "source": [
    "inst.helpline = '1020' # trying to update"
   ]
  },
  {
   "cell_type": "code",
   "execution_count": 17,
   "id": "f73dfe25-37a9-4402-ae0f-b2c903390559",
   "metadata": {},
   "outputs": [
    {
     "data": {
      "text/plain": [
       "'1020'"
      ]
     },
     "execution_count": 17,
     "metadata": {},
     "output_type": "execute_result"
    }
   ],
   "source": [
    "inst.helpline"
   ]
  },
  {
   "cell_type": "code",
   "execution_count": 18,
   "id": "598c3a1c-6e4a-48d8-be38-ac8de6472634",
   "metadata": {},
   "outputs": [],
   "source": [
    "inst._batch = 'DE' # trying to update"
   ]
  },
  {
   "cell_type": "code",
   "execution_count": 19,
   "id": "cd34cb02-095d-4f6e-a269-dc4b6c743fe0",
   "metadata": {},
   "outputs": [
    {
     "data": {
      "text/plain": [
       "'DE'"
      ]
     },
     "execution_count": 19,
     "metadata": {},
     "output_type": "execute_result"
    }
   ],
   "source": [
    "inst._batch"
   ]
  },
  {
   "cell_type": "markdown",
   "id": "e565824a-52e5-47cb-8a17-5a437b97056f",
   "metadata": {},
   "source": [
    "TASK:\n",
    "- Use encapsulation for class i:e., StudentLogin():\n",
    "- Initialize two static but _private_ attributes i:e, user_name, password\n",
    "- Create one _private_ method name __dbconnectivity() that will validate your username & password. If\n",
    "- both are valid then should print 'valid user' otherwise 'not valid'\n",
    "- create one public methods i:e, update password & it should update your private passord\n"
   ]
  },
  {
   "cell_type": "code",
   "execution_count": 64,
   "id": "5bfd24bb-c670-44f5-bc51-b13aebab204a",
   "metadata": {},
   "outputs": [],
   "source": [
    "class StudentLogin():\n",
    "    def __init__(self):\n",
    "        self.__user_name = 'dawood'\n",
    "        self.__password = '123456'\n",
    "        \n",
    "    def __dbConnection(self, name, passw):\n",
    "        if self.__user_name == name and self.__password == passw:\n",
    "            print('Valid User')\n",
    "        else:\n",
    "            print('Not a valid user')\n",
    "\n",
    "    def updatePass(self, old_password, new_password):\n",
    "        if old_password == self.__password:\n",
    "            self.__password = new_password\n",
    "            print(\"Password updated successfully!\")\n",
    "        else:\n",
    "            print(\"Incorrect old password. Cannot update.\")\n",
    "\n",
    "    def checkConnection(self, user, pwd):\n",
    "        self.__dbConnection(user,pwd)\n",
    "\n",
    "\n",
    "        "
   ]
  },
  {
   "cell_type": "code",
   "execution_count": 65,
   "id": "0375623d-148f-4a45-9226-5205b1048206",
   "metadata": {},
   "outputs": [],
   "source": [
    "obj = StudentLogin()"
   ]
  },
  {
   "cell_type": "code",
   "execution_count": 66,
   "id": "0673cc5e-d62b-4788-a3fa-d6aca683e913",
   "metadata": {},
   "outputs": [
    {
     "name": "stdout",
     "output_type": "stream",
     "text": [
      "Valid User\n"
     ]
    }
   ],
   "source": [
    "obj.checkConnection('dawood','123456')"
   ]
  },
  {
   "cell_type": "code",
   "execution_count": 67,
   "id": "a4409712-a665-4895-99ec-04c626d629e8",
   "metadata": {},
   "outputs": [
    {
     "name": "stdout",
     "output_type": "stream",
     "text": [
      "Password updated successfully!\n"
     ]
    }
   ],
   "source": [
    "obj.updatePass('123456', 'shaikh')"
   ]
  },
  {
   "cell_type": "code",
   "execution_count": 69,
   "id": "df84a0c5-9d12-4ffe-babb-27382bd083c6",
   "metadata": {},
   "outputs": [
    {
     "name": "stdout",
     "output_type": "stream",
     "text": [
      "Valid User\n"
     ]
    }
   ],
   "source": [
    "obj.checkConnection('dawood', 'shaikh')"
   ]
  },
  {
   "cell_type": "code",
   "execution_count": null,
   "id": "7720f9d8-5a03-4eb1-aca2-7044a27e131c",
   "metadata": {},
   "outputs": [],
   "source": []
  },
  {
   "cell_type": "code",
   "execution_count": 72,
   "id": "0a11119b-6edc-4456-86b5-7eb6982e4c5b",
   "metadata": {},
   "outputs": [
    {
     "name": "stdout",
     "output_type": "stream",
     "text": [
      "Dawood Shaikh\n",
      "Account Holder: Dawood Shaikh, Balance: 1000000000000000\n",
      "Balance updated! New balance: 999999999999000\n"
     ]
    }
   ],
   "source": [
    "class BankAccount:\n",
    "    # Public attribute\n",
    "    account_holder = \"Dawood Shaikh\"  # Can be accessed and modified from anywhere\n",
    "    \n",
    "    # Protected attribute (meant to be used by the class and subclasses)\n",
    "    _account_balance = 1000000000000000 # Should only be modified by BankAccount or derived classes\n",
    "    \n",
    "    # Private attribute (not accessible directly outside the class)\n",
    "    __pin = \"1234\"  # Only accessible inside the class\n",
    "    \n",
    "    # Public method (anyone can use this to get account details)\n",
    "    def get_account_info(self):\n",
    "        return f\"Account Holder: {self.account_holder}, Balance: {self._account_balance}\"\n",
    "    \n",
    "    # Protected method (accessible in the class and subclasses)\n",
    "    def _update_balance(self, amount):\n",
    "        if amount < 0 and abs(amount) > self._account_balance:\n",
    "            print(\"Insufficient funds!\")\n",
    "        else:\n",
    "            self._account_balance += amount\n",
    "            print(f\"Balance updated! New balance: {self._account_balance}\")\n",
    "    \n",
    "    # Private method (used only within this class for PIN verification)\n",
    "    def __verify_pin(self, pin):\n",
    "        return pin == self.__pin\n",
    "    \n",
    "    # Public method to withdraw money\n",
    "    def withdraw(self, amount, pin):\n",
    "        if self.__verify_pin(pin):  # Private method accessed inside the class\n",
    "            self._update_balance(-amount)  # Protected method can also be accessed here\n",
    "        else:\n",
    "            print(\"Invalid PIN! Cannot withdraw funds.\")\n",
    "\n",
    "# Example usage:\n",
    "account = BankAccount()\n",
    "\n",
    "# Access public attribute\n",
    "print(account.account_holder)  # John Doe\n",
    "\n",
    "# Public method usage\n",
    "print(account.get_account_info())  # Account details and balance\n",
    "\n",
    "# Withdraw money using public method\n",
    "account.withdraw(1000, \"1234\")  # Valid PIN, will withdraw money\n",
    "\n",
    "# Trying to access private or protected members outside the class:\n",
    "# print(account.__pin)  # This will raise an AttributeError\n",
    "# account.__verify_pin(\"1234\")  # This will also raise an AttributeError\n",
    "# account._update_balance(1000)  # This can be accessed, but it is not recommended\n",
    "\n",
    "    "
   ]
  },
  {
   "cell_type": "code",
   "execution_count": null,
   "id": "bce97ff8-dbde-4f11-a282-83f156303313",
   "metadata": {},
   "outputs": [],
   "source": []
  }
 ],
 "metadata": {
  "kernelspec": {
   "display_name": "Python 3 (ipykernel)",
   "language": "python",
   "name": "python3"
  },
  "language_info": {
   "codemirror_mode": {
    "name": "ipython",
    "version": 3
   },
   "file_extension": ".py",
   "mimetype": "text/x-python",
   "name": "python",
   "nbconvert_exporter": "python",
   "pygments_lexer": "ipython3",
   "version": "3.11.7"
  }
 },
 "nbformat": 4,
 "nbformat_minor": 5
}
