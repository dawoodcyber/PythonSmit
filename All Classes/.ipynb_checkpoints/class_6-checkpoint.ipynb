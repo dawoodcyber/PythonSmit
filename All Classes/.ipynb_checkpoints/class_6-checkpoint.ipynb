{
 "cells": [
  {
   "cell_type": "markdown",
   "id": "93337278-3186-4479-89d6-4b51fd433164",
   "metadata": {
    "jp-MarkdownHeadingCollapsed": true
   },
   "source": [
    "### LIST"
   ]
  },
  {
   "cell_type": "code",
   "execution_count": 3,
   "id": "16daf946-9255-4031-83c0-1f657ab573f9",
   "metadata": {},
   "outputs": [
    {
     "data": {
      "text/plain": [
       "['Dawood', 'Student', '9 to 12']"
      ]
     },
     "execution_count": 3,
     "metadata": {},
     "output_type": "execute_result"
    }
   ],
   "source": [
    "# collection of data in same category\n",
    "bio_data = ['Dawood', 'Student', '9 to 12']\n",
    "bio_data"
   ]
  },
  {
   "cell_type": "markdown",
   "id": "ba5ea630-34b2-4695-bc69-6ca4f7fd7bd2",
   "metadata": {
    "jp-MarkdownHeadingCollapsed": true
   },
   "source": [
    "### Tuples"
   ]
  },
  {
   "cell_type": "code",
   "execution_count": null,
   "id": "2c2a3c15-3f30-4060-939b-ad9fc6a94a77",
   "metadata": {},
   "outputs": [],
   "source": []
  },
  {
   "cell_type": "markdown",
   "id": "d753b8d3-b7a3-4927-8135-527b8d92e8a6",
   "metadata": {},
   "source": [
    "- Lists are mutable (can be changed)\n",
    "- Tuples are immutable (can not be changed)"
   ]
  },
  {
   "cell_type": "code",
   "execution_count": 6,
   "id": "cb2767d7-a858-40fe-8919-33e179dedfa6",
   "metadata": {},
   "outputs": [
    {
     "data": {
      "text/plain": [
       "('Dawood', 'Student', '9 to 12')"
      ]
     },
     "execution_count": 6,
     "metadata": {},
     "output_type": "execute_result"
    }
   ],
   "source": [
    "tp_bio_data = ('Dawood', 'Student','9 to 12')\n",
    "tp_bio_data"
   ]
  },
  {
   "cell_type": "code",
   "execution_count": 7,
   "id": "10385675-b84a-449d-915e-ea385a8e93ab",
   "metadata": {},
   "outputs": [
    {
     "data": {
      "text/plain": [
       "tuple"
      ]
     },
     "execution_count": 7,
     "metadata": {},
     "output_type": "execute_result"
    }
   ],
   "source": [
    "type(tp_bio_data)"
   ]
  },
  {
   "cell_type": "code",
   "execution_count": 12,
   "id": "6d3b332c-9248-4716-994e-92b437f39a82",
   "metadata": {},
   "outputs": [
    {
     "name": "stdout",
     "output_type": "stream",
     "text": [
      "<class 'list'>\n",
      "<class 'int'>\n"
     ]
    }
   ],
   "source": [
    "lst = [1]\n",
    "print(type(lst))\n",
    "\n",
    "tp = (1)\n",
    "print(type(tp))\n",
    "\n",
    "# here python is  confused what tp is that's why it is showing int randomly"
   ]
  },
  {
   "cell_type": "code",
   "execution_count": 11,
   "id": "67f2446d-d1bb-4049-9fbd-32594cb46954",
   "metadata": {},
   "outputs": [
    {
     "name": "stdout",
     "output_type": "stream",
     "text": [
      "<class 'tuple'>\n"
     ]
    }
   ],
   "source": [
    "tp = (1,)\n",
    "print(type(tp))"
   ]
  },
  {
   "cell_type": "code",
   "execution_count": 13,
   "id": "6fccd270-e1a5-4153-9657-a1e945033ce9",
   "metadata": {},
   "outputs": [
    {
     "data": {
      "text/plain": [
       "'Student'"
      ]
     },
     "execution_count": 13,
     "metadata": {},
     "output_type": "execute_result"
    }
   ],
   "source": [
    "tp_bio_data[1]"
   ]
  },
  {
   "cell_type": "code",
   "execution_count": 21,
   "id": "d2ce37ec-4b74-44a6-af9f-1649eb3904d6",
   "metadata": {},
   "outputs": [
    {
     "data": {
      "text/plain": [
       "1"
      ]
     },
     "execution_count": 21,
     "metadata": {},
     "output_type": "execute_result"
    }
   ],
   "source": [
    "# count() method takes one argument and print the occurence of the argument\n",
    "# argument type can be any and return num\n",
    "tp_bio_data.count('Dawood')"
   ]
  },
  {
   "cell_type": "code",
   "execution_count": 24,
   "id": "0175e94d-2266-48fe-8c74-73bce55e886a",
   "metadata": {},
   "outputs": [
    {
     "data": {
      "text/plain": [
       "0"
      ]
     },
     "execution_count": 24,
     "metadata": {},
     "output_type": "execute_result"
    }
   ],
   "source": [
    "#index() method takes one argument and print the index value of it\n",
    "\n",
    "tp_bio_data.index('Dawood')"
   ]
  },
  {
   "cell_type": "code",
   "execution_count": 26,
   "id": "c07e077e-a1a6-45ca-b103-9998d9fa6431",
   "metadata": {},
   "outputs": [
    {
     "name": "stdout",
     "output_type": "stream",
     "text": [
      "1\n",
      "2\n"
     ]
    }
   ],
   "source": [
    "personal_bio = ('Dawood',19,'5.7 feet',19)\n",
    "print(personal_bio.index(19))\n",
    "print(personal_bio.count(19))"
   ]
  },
  {
   "cell_type": "code",
   "execution_count": 35,
   "id": "b512db74-981e-4a7a-b0f6-3a718cbc847f",
   "metadata": {},
   "outputs": [
    {
     "data": {
      "text/plain": [
       "'\\nfor <temp_var> in <iterator>:\\n        <body> '"
      ]
     },
     "execution_count": 35,
     "metadata": {},
     "output_type": "execute_result"
    }
   ],
   "source": [
    "\"\"\"\n",
    "for <temp_var> in <iterator>:\n",
    "        <body> \"\"\""
   ]
  },
  {
   "cell_type": "code",
   "execution_count": 36,
   "id": "062eabda-e810-4992-a640-76967febee0d",
   "metadata": {},
   "outputs": [
    {
     "name": "stdout",
     "output_type": "stream",
     "text": [
      "Apple\n",
      "Mango\n",
      "Grapes\n",
      "Banana\n",
      "Orange\n",
      "Strawberry\n",
      "Melon\n"
     ]
    }
   ],
   "source": [
    "fruits = ['Apple', 'Mango', 'Grapes', 'Banana', 'Orange', 'Strawberry','Melon']\n",
    "#printing through loops\n",
    "\n",
    "for fruit in fruits:\n",
    "    print(fruit)"
   ]
  },
  {
   "cell_type": "markdown",
   "id": "ec21a39a-2d7b-4fb2-aaf2-2db32d6c107c",
   "metadata": {
    "jp-MarkdownHeadingCollapsed": true
   },
   "source": [
    "### Loops"
   ]
  },
  {
   "cell_type": "code",
   "execution_count": 37,
   "id": "41ff2c5c-8ad3-4bf5-af39-ecb878dd4583",
   "metadata": {},
   "outputs": [
    {
     "name": "stdout",
     "output_type": "stream",
     "text": [
      "Dawood\n",
      "Student\n",
      "9 to 12\n"
     ]
    }
   ],
   "source": [
    "# loops on tuples\n",
    "for data in tp_bio_data:\n",
    "    print(data)"
   ]
  },
  {
   "cell_type": "code",
   "execution_count": 43,
   "id": "7acdf485-8d90-4dcf-a7d0-7fa199800d17",
   "metadata": {},
   "outputs": [
    {
     "name": "stdout",
     "output_type": "stream",
     "text": [
      "Data: Dawood, data is at 0\n",
      "Data: Student, data is at 1\n",
      "Data: 9 to 12, data is at 2\n"
     ]
    }
   ],
   "source": [
    "for index in range(len(tp_bio_data)):\n",
    "    print(f\"Data: {tp_bio_data[index]}, data is at {index}\")"
   ]
  },
  {
   "cell_type": "code",
   "execution_count": 44,
   "id": "eb5c17a8-6e5d-45ac-9210-c85983a7384d",
   "metadata": {},
   "outputs": [
    {
     "data": {
      "text/plain": [
       "<enumerate at 0x1e1acaef6a0>"
      ]
     },
     "execution_count": 44,
     "metadata": {},
     "output_type": "execute_result"
    }
   ],
   "source": [
    "em_fruits = enumerate(fruits)\n",
    "em_fruits"
   ]
  },
  {
   "cell_type": "code",
   "execution_count": 45,
   "id": "6729d3e6-81aa-41bd-8a0d-45aac2f7d57a",
   "metadata": {},
   "outputs": [
    {
     "data": {
      "text/plain": [
       "[(0, 'Apple'),\n",
       " (1, 'Mango'),\n",
       " (2, 'Grapes'),\n",
       " (3, 'Banana'),\n",
       " (4, 'Orange'),\n",
       " (5, 'Strawberry'),\n",
       " (6, 'Melon')]"
      ]
     },
     "execution_count": 45,
     "metadata": {},
     "output_type": "execute_result"
    }
   ],
   "source": [
    "list(em_fruits)"
   ]
  },
  {
   "cell_type": "code",
   "execution_count": 48,
   "id": "60239d41-de4b-48e7-b191-a22ac368dcbb",
   "metadata": {},
   "outputs": [
    {
     "name": "stdout",
     "output_type": "stream",
     "text": [
      "(0, 'Apple')\n",
      "(1, 'Mango')\n",
      "(2, 'Grapes')\n",
      "(3, 'Banana')\n",
      "(4, 'Orange')\n",
      "(5, 'Strawberry')\n",
      "(6, 'Melon')\n"
     ]
    }
   ],
   "source": [
    "for fruit in enumerate(fruits):\n",
    "    print(fruit)"
   ]
  },
  {
   "cell_type": "code",
   "execution_count": 52,
   "id": "6b3c48b0-2f65-49db-820c-ff20b961100f",
   "metadata": {},
   "outputs": [
    {
     "name": "stdout",
     "output_type": "stream",
     "text": [
      "Apple is at 0 index\n",
      "Mango is at 1 index\n",
      "Grapes is at 2 index\n",
      "Banana is at 3 index\n",
      "Orange is at 4 index\n",
      "Strawberry is at 5 index\n",
      "Melon is at 6 index\n"
     ]
    }
   ],
   "source": [
    "for fruit in enumerate(fruits):\n",
    "    print(f\"{fruit[1]} is at {fruit[0]} index\")"
   ]
  },
  {
   "cell_type": "code",
   "execution_count": 54,
   "id": "18b2ee25-ce56-410e-8812-c376fef1c05d",
   "metadata": {},
   "outputs": [
    {
     "data": {
      "text/plain": [
       "['Apple', 'Mango', 'Grapes', 'Banana', 'Orange', 'Strawberry', 'Melon']"
      ]
     },
     "execution_count": 54,
     "metadata": {},
     "output_type": "execute_result"
    }
   ],
   "source": [
    "fruits"
   ]
  },
  {
   "cell_type": "code",
   "execution_count": 55,
   "id": "0a02e672-67f8-4620-b13e-e27632c9ce5b",
   "metadata": {},
   "outputs": [
    {
     "name": "stdout",
     "output_type": "stream",
     "text": [
      "[0, 1, 2, 3, 4, 5, 6]\n",
      "['Apple', 'Mango', 'Grapes', 'Banana', 'Orange', 'Strawberry', 'Melon']\n"
     ]
    }
   ],
   "source": [
    "fruits_index = [0,1,2,3,4,5,6]\n",
    "print(fruits_index)\n",
    "print(fruits)"
   ]
  },
  {
   "cell_type": "code",
   "execution_count": 56,
   "id": "2d5f2f1c-4f80-4d4b-a54b-94b1528b19fb",
   "metadata": {},
   "outputs": [
    {
     "data": {
      "text/plain": [
       "<zip at 0x1e1acb0da40>"
      ]
     },
     "execution_count": 56,
     "metadata": {},
     "output_type": "execute_result"
    }
   ],
   "source": [
    "#for merging both the indext and fruits\n",
    "\n",
    "zip(fruits_index, fruits)"
   ]
  },
  {
   "cell_type": "code",
   "execution_count": 58,
   "id": "0322b2c8-3f80-423d-9f18-bc4ae7a5fce4",
   "metadata": {},
   "outputs": [
    {
     "name": "stdout",
     "output_type": "stream",
     "text": [
      "(0, 'Apple')\n",
      "(1, 'Mango')\n",
      "(2, 'Grapes')\n",
      "(3, 'Banana')\n",
      "(4, 'Orange')\n",
      "(5, 'Strawberry')\n",
      "(6, 'Melon')\n"
     ]
    }
   ],
   "source": [
    "for fruit in zip(fruits_index,fruits):\n",
    "    print(fruit)"
   ]
  },
  {
   "cell_type": "code",
   "execution_count": 62,
   "id": "f6fa63cd-bbba-4df7-880a-be2c987ad244",
   "metadata": {},
   "outputs": [
    {
     "name": "stdout",
     "output_type": "stream",
     "text": [
      "(1, 'Apple')\n",
      "(2, 'Mango')\n",
      "(5, 'Grapes')\n",
      "(66, 'Banana')\n",
      "(5, 'Orange')\n",
      "(2, 'Strawberry')\n",
      "(3, 'Melon')\n"
     ]
    }
   ],
   "source": [
    "\n",
    "# zip methods is to combine two lists or tuples\n",
    "# only paired values will be printed if any one has more value than the other list or tuples\n",
    "\n",
    "\n",
    "fruits_index = [1,2,5,66,5,2,3,5]\n",
    "for fruit in zip(fruits_index,fruits):\n",
    "    print(fruit)"
   ]
  },
  {
   "cell_type": "code",
   "execution_count": 68,
   "id": "8cfc685f-4b47-4869-bb3b-85166e1bf5c3",
   "metadata": {},
   "outputs": [
    {
     "name": "stdout",
     "output_type": "stream",
     "text": [
      "0\n",
      "1\n",
      "2\n",
      "3\n",
      "4\n",
      "5\n"
     ]
    }
   ],
   "source": [
    "#generator is a range() function that remembers the previous state\n",
    "# first argument is the start and included\n",
    "# second argment is the stopped value and not included\n",
    "# third and last argument is the step value \n",
    "for temp in range(6):\n",
    "    print(temp)"
   ]
  },
  {
   "cell_type": "code",
   "execution_count": 65,
   "id": "958410fd-380b-48e9-98e4-694531f9849b",
   "metadata": {},
   "outputs": [
    {
     "name": "stdout",
     "output_type": "stream",
     "text": [
      "2\n",
      "3\n",
      "4\n",
      "5\n",
      "6\n",
      "7\n"
     ]
    }
   ],
   "source": [
    "for temp in range(2,8):\n",
    "    print(temp)"
   ]
  },
  {
   "cell_type": "code",
   "execution_count": 66,
   "id": "7143ef70-4311-4c62-ab25-7d45de993d90",
   "metadata": {},
   "outputs": [
    {
     "name": "stdout",
     "output_type": "stream",
     "text": [
      "2\n",
      "4\n",
      "6\n",
      "8\n",
      "10\n",
      "12\n",
      "14\n",
      "16\n",
      "18\n",
      "20\n"
     ]
    }
   ],
   "source": [
    "for temp in range(2,21,2):\n",
    "    print(temp)"
   ]
  },
  {
   "cell_type": "code",
   "execution_count": 70,
   "id": "5387266b-57b2-461d-a716-2fefb640383f",
   "metadata": {},
   "outputs": [
    {
     "name": "stdout",
     "output_type": "stream",
     "text": [
      "Apple\n",
      "Apple\n"
     ]
    }
   ],
   "source": [
    "for values in range(20,26,3):\n",
    "    print(values)"
   ]
  },
  {
   "cell_type": "code",
   "execution_count": 71,
   "id": "5b619bfa-5499-402a-83dc-b9cdf609359e",
   "metadata": {},
   "outputs": [
    {
     "name": "stdout",
     "output_type": "stream",
     "text": [
      "Apples\n",
      "Apples\n",
      "Apples\n",
      "Apples\n",
      "Apples\n",
      "Apples\n",
      "Apples\n",
      "Apples\n",
      "Apples\n",
      "Apples\n",
      "Apples\n",
      "Apples\n",
      "Apples\n",
      "Apples\n",
      "Apples\n"
     ]
    }
   ],
   "source": [
    "for value in range(15):\n",
    "    print(\"Apples\")"
   ]
  },
  {
   "cell_type": "code",
   "execution_count": 75,
   "id": "259f50a9-f333-48b8-bc6b-5d5819bf08bd",
   "metadata": {},
   "outputs": [
    {
     "name": "stdout",
     "output_type": "stream",
     "text": [
      "Apples\n",
      "Apples\n",
      "Apples\n",
      "Apples\n",
      "Apples\n",
      "Apples\n",
      "Apples\n",
      "Apples\n",
      "Apples\n",
      "Apples\n",
      "Apples\n",
      "Apples\n",
      "Apples\n",
      "Apples\n",
      "Apples\n",
      "\n"
     ]
    }
   ],
   "source": [
    "print('Apples\\n'*15)"
   ]
  },
  {
   "cell_type": "code",
   "execution_count": 96,
   "id": "e753fad0-b662-4166-bfe5-109e411d5da5",
   "metadata": {},
   "outputs": [
    {
     "name": "stdout",
     "output_type": "stream",
     "text": [
      "Write city name:\n"
     ]
    },
    {
     "name": "stdin",
     "output_type": "stream",
     "text": [
      " quiete\n"
     ]
    },
    {
     "name": "stdout",
     "output_type": "stream",
     "text": [
      "Not cleaned cities\n",
      "['quiete']\n"
     ]
    }
   ],
   "source": [
    "clean_cities = ['Karachi', 'Lahore', 'Islamabad']\n",
    "not_cleaned_cities=[]\n",
    "print('Write city name:')\n",
    "user_input = input()\n",
    "\n",
    "for i in range(len(clean_cities)):\n",
    "    if clean_cities[i] == user_input:\n",
    "        print('City is cleaned')\n",
    "        break\n",
    "    else:\n",
    "        print('Not cleaned cities')\n",
    "        not_cleaned_cities.append(user_input)\n",
    "        break\n",
    "\n",
    " "
   ]
  },
  {
   "cell_type": "code",
   "execution_count": 97,
   "id": "4aba6531-5678-4747-91b9-a6567e87f12d",
   "metadata": {},
   "outputs": [
    {
     "data": {
      "text/plain": [
       "['quiete']"
      ]
     },
     "execution_count": 97,
     "metadata": {},
     "output_type": "execute_result"
    }
   ],
   "source": [
    "not_cleaned_cities"
   ]
  },
  {
   "cell_type": "code",
   "execution_count": 107,
   "id": "1b8b502f-2a6f-427b-9007-ca1b532a9aeb",
   "metadata": {},
   "outputs": [
    {
     "name": "stdout",
     "output_type": "stream",
     "text": [
      "Multan  VS  Multan\n",
      "Matched\n",
      "Multan  VS  Quetta\n",
      "Multan  VS  Peshawar\n",
      "Lahore  VS  Multan\n",
      "Lahore  VS  Quetta\n",
      "Lahore  VS  Peshawar\n",
      "Islamabad  VS  Multan\n",
      "Islamabad  VS  Quetta\n",
      "Islamabad  VS  Peshawar\n"
     ]
    }
   ],
   "source": [
    "group_A = ['Karachi', 'Lahore', 'Islamabad']\n",
    "group_B = ['Multan', 'Quetta', 'Peshawar']\n",
    "\n",
    "for a in range(len(group_A)):\n",
    "    for b in range(len(group_B)):\n",
    "        print(group_A[a],' VS ',group_B[b]);\n",
    "        if group_A[a] == group_B[b]:\n",
    "                print('Matched');"
   ]
  },
  {
   "cell_type": "code",
   "execution_count": 109,
   "id": "e04b63b6-2b13-47d3-a256-232995514272",
   "metadata": {},
   "outputs": [
    {
     "name": "stdout",
     "output_type": "stream",
     "text": [
      "Karachi   VS  Multan\n",
      "Karachi   VS  Quetta\n",
      "Karachi   VS  Peshawar\n",
      "Lahore   VS  Multan\n",
      "Lahore   VS  Quetta\n",
      "Lahore   VS  Peshawar\n",
      "Islamabad   VS  Multan\n",
      "Islamabad   VS  Quetta\n",
      "Islamabad   VS  Peshawar\n"
     ]
    }
   ],
   "source": [
    "group_A = ['Karachi', 'Lahore', 'Islamabad']\n",
    "group_B = ['Multan', 'Quetta', 'Peshawar']\n",
    "\n",
    "for listA in group_A:\n",
    "    for listB in group_B:\n",
    "        print(listA, '  VS ', listB)"
   ]
  },
  {
   "cell_type": "code",
   "execution_count": 111,
   "id": "d3326d69-06df-4ad6-9852-4b779a153259",
   "metadata": {},
   "outputs": [
    {
     "data": {
      "text/plain": [
       "'DAWOOD'"
      ]
     },
     "execution_count": 111,
     "metadata": {},
     "output_type": "execute_result"
    }
   ],
   "source": [
    "# casing can only be applied on string\n",
    "#upper, lower, and title\n",
    "'dawood'.upper()"
   ]
  },
  {
   "cell_type": "code",
   "execution_count": 112,
   "id": "cae5e732-9b24-492a-a979-4519f9730f50",
   "metadata": {},
   "outputs": [
    {
     "data": {
      "text/plain": [
       "'dawood'"
      ]
     },
     "execution_count": 112,
     "metadata": {},
     "output_type": "execute_result"
    }
   ],
   "source": [
    "'DAWOOD'.lower()"
   ]
  },
  {
   "cell_type": "code",
   "execution_count": 113,
   "id": "c9c04674-08ad-4fa5-b58b-593ff66b249d",
   "metadata": {},
   "outputs": [
    {
     "data": {
      "text/plain": [
       "'Dawood'"
      ]
     },
     "execution_count": 113,
     "metadata": {},
     "output_type": "execute_result"
    }
   ],
   "source": [
    "'DAWooD'.title()"
   ]
  },
  {
   "cell_type": "code",
   "execution_count": 114,
   "id": "c7debcc5-4d7c-42cc-9459-1cac8c01f6f4",
   "metadata": {},
   "outputs": [
    {
     "data": {
      "text/plain": [
       "'3'"
      ]
     },
     "execution_count": 114,
     "metadata": {},
     "output_type": "execute_result"
    }
   ],
   "source": [
    "'3'.lower()"
   ]
  },
  {
   "cell_type": "code",
   "execution_count": 126,
   "id": "456127f2-f60a-4b03-bdd1-74431926bda8",
   "metadata": {},
   "outputs": [
    {
     "data": {
      "text/plain": [
       "dict"
      ]
     },
     "execution_count": 126,
     "metadata": {},
     "output_type": "execute_result"
    }
   ],
   "source": [
    "#normal list\n",
    "list = [15,15]\n",
    "\n",
    "#dictionary\n",
    "dict = {'age':15,'weight':19}\n",
    "type(dict)"
   ]
  },
  {
   "cell_type": "markdown",
   "id": "9ff0a5c3-f8b4-4e9b-85f6-f7d614b16e73",
   "metadata": {
    "jp-MarkdownHeadingCollapsed": true
   },
   "source": [
    "### DICTIONARIES\n",
    "\n",
    "- Key, value pairs\n",
    "- key:value"
   ]
  },
  {
   "cell_type": "code",
   "execution_count": 127,
   "id": "58ae4981-9db8-4935-b0cf-e0b472cc0fdc",
   "metadata": {},
   "outputs": [
    {
     "data": {
      "text/plain": [
       "19"
      ]
     },
     "execution_count": 127,
     "metadata": {},
     "output_type": "execute_result"
    }
   ],
   "source": [
    "# dict[1] error\n",
    "dict['age']"
   ]
  },
  {
   "cell_type": "code",
   "execution_count": 128,
   "id": "2f07e435-95c5-45aa-aeb4-091813568551",
   "metadata": {},
   "outputs": [
    {
     "data": {
      "text/plain": [
       "'Shaikh'"
      ]
     },
     "execution_count": 128,
     "metadata": {},
     "output_type": "execute_result"
    }
   ],
   "source": [
    "customer = {'firstName':'Dawood','lastName':'Shaikh','address':'pechs karachi'};\n",
    "\n",
    "customer['lastName']"
   ]
  },
  {
   "cell_type": "code",
   "execution_count": 129,
   "id": "d65bbfa1-47ac-4f99-b2a9-28efe2dd0d42",
   "metadata": {},
   "outputs": [
    {
     "data": {
      "text/plain": [
       "'Dawood'"
      ]
     },
     "execution_count": 129,
     "metadata": {},
     "output_type": "execute_result"
    }
   ],
   "source": [
    "#verstaility means you can change\n",
    "#1-Keys can be a number\n",
    "#values can be a number\n",
    "#key and values an be both a number or string\n",
    "dict_versitality ={1:'Qasim', 2:'Hasan',3:'Dawood'}\n",
    "dict_versitality[3]\n"
   ]
  },
  {
   "cell_type": "code",
   "execution_count": 134,
   "id": "0a0c9b97-a45a-4235-8aee-8f9d8b7718a4",
   "metadata": {},
   "outputs": [
    {
     "data": {
      "text/plain": [
       "1"
      ]
     },
     "execution_count": 134,
     "metadata": {},
     "output_type": "execute_result"
    }
   ],
   "source": [
    "dict_versitality ={'Qasim':1, 'Hasan':2, 'Dawood':3}\n",
    "dict_versitality['Qasim']"
   ]
  },
  {
   "cell_type": "code",
   "execution_count": 135,
   "id": "580382cd-9e49-4bcf-98cd-e3a02970ab15",
   "metadata": {},
   "outputs": [
    {
     "data": {
      "text/plain": [
       "{'firstName': 'Dawood', 'lastName': 'Shaikh', 'address': 'pechs karachi'}"
      ]
     },
     "execution_count": 135,
     "metadata": {},
     "output_type": "execute_result"
    }
   ],
   "source": [
    "customer"
   ]
  },
  {
   "cell_type": "code",
   "execution_count": 141,
   "id": "110a8040-f7d1-4c18-99ff-a332fe8eb9fe",
   "metadata": {},
   "outputs": [
    {
     "data": {
      "text/plain": [
       "{'firstName': 'Dawood',\n",
       " 'lastName': 'Shaikh',\n",
       " 'address': 'pechs karachi',\n",
       " 'phone': '+9234873927'}"
      ]
     },
     "execution_count": 141,
     "metadata": {},
     "output_type": "execute_result"
    }
   ],
   "source": [
    "#adding values in dictionary\n",
    "customer[\"phone\"] = \"+9234873927\"\n",
    "customer"
   ]
  },
  {
   "cell_type": "code",
   "execution_count": 142,
   "id": "6200dfbd-27f6-47ea-930f-80e6483dc192",
   "metadata": {},
   "outputs": [
    {
     "data": {
      "text/plain": [
       "{'firstName': 'Dawood',\n",
       " 'lastName': 'Shaikh',\n",
       " 'address': 'pechs karachi',\n",
       " 'phone': '+9234873927',\n",
       " 'city': 'Karachi'}"
      ]
     },
     "execution_count": 142,
     "metadata": {},
     "output_type": "execute_result"
    }
   ],
   "source": [
    "#adding city\n",
    "customer['city'] = \"Karachi\"\n",
    "customer"
   ]
  },
  {
   "cell_type": "code",
   "execution_count": 148,
   "id": "13bf8d1d-55ba-432c-a686-9791c1aea9c8",
   "metadata": {},
   "outputs": [
    {
     "name": "stdin",
     "output_type": "stream",
     "text": [
      "How many tasks you want to do today 3\n"
     ]
    },
    {
     "name": "stdout",
     "output_type": "stream",
     "text": [
      "Enter task no: 0\n"
     ]
    },
    {
     "name": "stdin",
     "output_type": "stream",
     "text": [
      " cooking\n"
     ]
    },
    {
     "name": "stdout",
     "output_type": "stream",
     "text": [
      "Enter task no: 1\n"
     ]
    },
    {
     "name": "stdin",
     "output_type": "stream",
     "text": [
      " reading\n"
     ]
    },
    {
     "name": "stdout",
     "output_type": "stream",
     "text": [
      "Enter task no: 2\n"
     ]
    },
    {
     "name": "stdin",
     "output_type": "stream",
     "text": [
      " swimming\n"
     ]
    },
    {
     "data": {
      "text/plain": [
       "{'Task 0': 'cooking', 'Task 1': 'reading', 'Task 2': 'swimming'}"
      ]
     },
     "execution_count": 148,
     "metadata": {},
     "output_type": "execute_result"
    }
   ],
   "source": [
    "# adding values in dictionary\n",
    "\n",
    "list = {}\n",
    "user_tasks = input('How many tasks you want to do today')\n",
    "\n",
    "for values in range(int(user_tasks)):\n",
    "    print(\"Enter task no:\",values);\n",
    "    list['Task '+str(values)]=input();\n",
    "\n",
    "list"
   ]
  },
  {
   "cell_type": "code",
   "execution_count": 149,
   "id": "646f39a4-e415-4edc-88c4-5465a0e83177",
   "metadata": {},
   "outputs": [
    {
     "data": {
      "text/plain": [
       "{'firstName': 'Dawood',\n",
       " 'lastName': 'Shaikh',\n",
       " 'address': 'pechs karachi',\n",
       " 'phone': '+9234873927',\n",
       " 'city': 'Karachi'}"
      ]
     },
     "execution_count": 149,
     "metadata": {},
     "output_type": "execute_result"
    }
   ],
   "source": [
    "customer"
   ]
  },
  {
   "cell_type": "code",
   "execution_count": 151,
   "id": "9db34bcf-0ec3-43e4-a40c-b8357469a1b1",
   "metadata": {},
   "outputs": [
    {
     "data": {
      "text/plain": [
       "{'firstName': 'Dawood',\n",
       " 'lastName': 'Shaikh',\n",
       " 'address': 'pechs karachi',\n",
       " 'phone': '+9234873927',\n",
       " 'city': 'LA'}"
      ]
     },
     "execution_count": 151,
     "metadata": {},
     "output_type": "execute_result"
    }
   ],
   "source": [
    "customer['city'] = \"LA\"\n",
    "customer"
   ]
  },
  {
   "cell_type": "code",
   "execution_count": 154,
   "id": "6e72431e-dd2a-418b-b0bb-3de274e3b871",
   "metadata": {},
   "outputs": [
    {
     "ename": "KeyError",
     "evalue": "'phone'",
     "output_type": "error",
     "traceback": [
      "\u001b[1;31m---------------------------------------------------------------------------\u001b[0m",
      "\u001b[1;31mKeyError\u001b[0m                                  Traceback (most recent call last)",
      "Cell \u001b[1;32mIn[154], line 4\u001b[0m\n\u001b[0;32m      1\u001b[0m \u001b[38;5;66;03m# to delete key value pair from dictionary , key can't be empty while deleting\u001b[39;00m\n\u001b[0;32m      2\u001b[0m \u001b[38;5;66;03m#other wise it will generate an error\u001b[39;00m\n\u001b[1;32m----> 4\u001b[0m \u001b[38;5;28;01mdel\u001b[39;00m customer[\u001b[38;5;124m'\u001b[39m\u001b[38;5;124mphone\u001b[39m\u001b[38;5;124m'\u001b[39m]\n\u001b[0;32m      5\u001b[0m customer\n",
      "\u001b[1;31mKeyError\u001b[0m: 'phone'"
     ]
    }
   ],
   "source": [
    "# to delete key value pair from dictionary , key can't be empty while deleting\n",
    "#other wise it will generate an error\n",
    "\n",
    "del customer['phone']\n",
    "customer"
   ]
  },
  {
   "cell_type": "code",
   "execution_count": 156,
   "id": "9be02038-6e71-4773-b5d9-f3939faa5e5f",
   "metadata": {},
   "outputs": [
    {
     "data": {
      "text/plain": [
       "{'firstName': 'Dawood',\n",
       " 'lastName': 'Shaikh',\n",
       " 'address': 'pechs karachi',\n",
       " 'city': 'LA'}"
      ]
     },
     "execution_count": 156,
     "metadata": {},
     "output_type": "execute_result"
    }
   ],
   "source": [
    "customer"
   ]
  },
  {
   "cell_type": "code",
   "execution_count": 157,
   "id": "81723386-9e93-4fb2-9b1a-72fad939840b",
   "metadata": {},
   "outputs": [
    {
     "name": "stdout",
     "output_type": "stream",
     "text": [
      "firstName\n",
      "lastName\n",
      "address\n",
      "city\n"
     ]
    }
   ],
   "source": [
    "# by default it will bring keys, and with keys() method as well\n",
    "# for values we should use .values() method\n",
    "# for both keys and values we can use .items() method\n",
    "for key in customer:\n",
    "    print(key)"
   ]
  },
  {
   "cell_type": "code",
   "execution_count": 160,
   "id": "4f0b159c-a224-40e8-9ade-1107dce53f30",
   "metadata": {},
   "outputs": [
    {
     "name": "stdout",
     "output_type": "stream",
     "text": [
      "firstName\n",
      "lastName\n",
      "address\n",
      "city\n"
     ]
    }
   ],
   "source": [
    "for key in customer.keys():\n",
    "    print(key)"
   ]
  },
  {
   "cell_type": "code",
   "execution_count": 161,
   "id": "8bd97867-4403-4317-86f0-4f79ddbe1b6f",
   "metadata": {},
   "outputs": [
    {
     "name": "stdout",
     "output_type": "stream",
     "text": [
      "Dawood\n",
      "Shaikh\n",
      "pechs karachi\n",
      "LA\n"
     ]
    }
   ],
   "source": [
    "for key in customer.values():\n",
    "    print(key)"
   ]
  },
  {
   "cell_type": "code",
   "execution_count": 162,
   "id": "52cb13ca-7de4-4e91-949d-8d53c93fd0b4",
   "metadata": {},
   "outputs": [
    {
     "name": "stdout",
     "output_type": "stream",
     "text": [
      "('firstName', 'Dawood')\n",
      "('lastName', 'Shaikh')\n",
      "('address', 'pechs karachi')\n",
      "('city', 'LA')\n"
     ]
    }
   ],
   "source": [
    "for key in customer.items():\n",
    "    print(key)"
   ]
  },
  {
   "cell_type": "code",
   "execution_count": 165,
   "id": "dc72a799-180f-4dc1-8848-316e7bc6142d",
   "metadata": {},
   "outputs": [
    {
     "name": "stdout",
     "output_type": "stream",
     "text": [
      "firstName --> Dawood\n",
      "lastName --> Shaikh\n",
      "address --> pechs karachi\n",
      "city --> LA\n"
     ]
    }
   ],
   "source": [
    "for key,value in customer.items():\n",
    "    print(key + ' --> ' +value)"
   ]
  },
  {
   "cell_type": "markdown",
   "id": "4754f307-4d6d-48c4-a223-ee73eadd8400",
   "metadata": {},
   "source": [
    "### List of Dictionaries"
   ]
  },
  {
   "cell_type": "code",
   "execution_count": 166,
   "id": "1ffc5543-f79f-4aff-bd23-eaa7bce288a1",
   "metadata": {},
   "outputs": [
    {
     "data": {
      "text/plain": [
       "{'firstName': 'Dawood',\n",
       " 'lastName': 'Shaikh',\n",
       " 'address': 'pechs karachi',\n",
       " 'city': 'LA'}"
      ]
     },
     "execution_count": 166,
     "metadata": {},
     "output_type": "execute_result"
    }
   ],
   "source": [
    "customer"
   ]
  },
  {
   "cell_type": "code",
   "execution_count": 168,
   "id": "58499dc4-7365-4069-b3a1-8653b6caf92d",
   "metadata": {},
   "outputs": [
    {
     "data": {
      "text/plain": [
       "[{'firstName': 'Dawood',\n",
       "  'lastName': 'Shaikh',\n",
       "  'address': 'pechs karachi',\n",
       "  'city': 'Karachi'},\n",
       " {'firstName': 'Huzaifa',\n",
       "  'lastName': 'Mateen',\n",
       "  'address': 'MA Jinnah Road karachi',\n",
       "  'city': 'Peshawar'},\n",
       " {'firstName': 'Qasim',\n",
       "  'lastName': 'Hassan',\n",
       "  'address': 'SMIT karachi',\n",
       "  'city': 'Islamabad'}]"
      ]
     },
     "execution_count": 168,
     "metadata": {},
     "output_type": "execute_result"
    }
   ],
   "source": [
    "listOfDict = [{'firstName': 'Dawood',\n",
    " 'lastName': 'Shaikh',\n",
    " 'address': 'pechs karachi',\n",
    " 'city': 'Karachi'},{'firstName': 'Huzaifa',\n",
    " 'lastName': 'Mateen',\n",
    " 'address': 'MA Jinnah Road karachi',\n",
    " 'city': 'Peshawar'},{'firstName': 'Qasim',\n",
    " 'lastName': 'Hassan',\n",
    " 'address': 'SMIT karachi',\n",
    " 'city': 'Islamabad'}]\n",
    "\n",
    "listOfDict"
   ]
  },
  {
   "cell_type": "code",
   "execution_count": 171,
   "id": "3f80137d-add1-443b-96f5-efac867f7cb4",
   "metadata": {},
   "outputs": [
    {
     "name": "stdout",
     "output_type": "stream",
     "text": [
      "pechs karachi\n",
      "MA Jinnah Road karachi\n",
      "SMIT karachi\n"
     ]
    }
   ],
   "source": [
    "#for list we'll pass index and for dictionary we pass key\n",
    "\n",
    "for value in range(len(listOfDict)):\n",
    "    print(listOfDict[value]['address'])"
   ]
  },
  {
   "cell_type": "code",
   "execution_count": null,
   "id": "ba08c4b0-8dda-4b85-bd8e-de10c415d0a8",
   "metadata": {},
   "outputs": [],
   "source": []
  }
 ],
 "metadata": {
  "kernelspec": {
   "display_name": "Python 3 (ipykernel)",
   "language": "python",
   "name": "python3"
  },
  "language_info": {
   "codemirror_mode": {
    "name": "ipython",
    "version": 3
   },
   "file_extension": ".py",
   "mimetype": "text/x-python",
   "name": "python",
   "nbconvert_exporter": "python",
   "pygments_lexer": "ipython3",
   "version": "3.11.7"
  }
 },
 "nbformat": 4,
 "nbformat_minor": 5
}
