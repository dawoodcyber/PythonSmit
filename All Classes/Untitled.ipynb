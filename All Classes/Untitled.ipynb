{
 "cells": [
  {
   "cell_type": "markdown",
   "id": "ec6ea0e3-06e5-46d1-b56d-e44ac917222c",
   "metadata": {},
   "source": [
    "### File Handling"
   ]
  },
  {
   "cell_type": "code",
   "execution_count": 7,
   "id": "527b736b-d3e5-4c2d-86ed-76e90b91e661",
   "metadata": {},
   "outputs": [
    {
     "name": "stdout",
     "output_type": "stream",
     "text": [
      "next semester is coming soon...\n"
     ]
    }
   ],
   "source": [
    "file = open('C:/Users/user/OneDrive/Desktop/dawood.txt', 'w')\n",
    "content = file.write('J')\n",
    "\n",
    "file = open('C:/Users/user/OneDrive/Desktop/dawood.txt', 'r')\n",
    "content = file.read()\n",
    "print(content)\n"
   ]
  },
  {
   "cell_type": "code",
   "execution_count": 20,
   "id": "b96d3053-60ac-4c71-bcb8-c27533b26ba7",
   "metadata": {},
   "outputs": [
    {
     "name": "stdout",
     "output_type": "stream",
     "text": [
      "2329439943408\n",
      "2329438537200\n",
      "hawood ShaikD\n"
     ]
    }
   ],
   "source": [
    "name = \"Dawood Shaikh\"\n",
    "print(id(name))\n",
    "name = name[-1] + name[1:-1] + name[0]\n",
    "print(id(name))\n",
    "print(name)"
   ]
  },
  {
   "cell_type": "code",
   "execution_count": 32,
   "id": "c198610a-23fd-4157-8ea0-f1b338b3ac31",
   "metadata": {},
   "outputs": [
    {
     "name": "stdout",
     "output_type": "stream",
     "text": [
      "15\n",
      "30\n"
     ]
    }
   ],
   "source": [
    "a = 30\n",
    "b = 15\n",
    "\n",
    "a, b = b, a\n"
   ]
  },
  {
   "cell_type": "code",
   "execution_count": 33,
   "id": "d710c657-fa8f-47d0-a0e8-9c37927f7c1c",
   "metadata": {},
   "outputs": [
    {
     "name": "stdout",
     "output_type": "stream",
     "text": [
      "file does not exist [Errno 2] No such file or directory: 'dvwa.txt'\n"
     ]
    }
   ],
   "source": [
    "try:\n",
    "    file = open('dvwa.txt','r')\n",
    "    content = file.read()\n",
    "except FileNotFoundError as e:\n",
    "    print('file does not exist', e)"
   ]
  },
  {
   "cell_type": "code",
   "execution_count": 34,
   "id": "f836c415-5d9b-4a0f-99cb-cbb42aa396e9",
   "metadata": {},
   "outputs": [],
   "source": [
    "import csv\n",
    "with open('output.csv', 'w', newline='') as file:\n",
    "    writer = csv.writer(file)\n",
    "    writer.writerow(['Name','Age','Occupation'])\n",
    "    writer.writerow(['Dawood', 19,'Entrepreneur'])"
   ]
  },
  {
   "cell_type": "code",
   "execution_count": null,
   "id": "4a81edbb-babe-46d1-9ad6-5fd02420b643",
   "metadata": {},
   "outputs": [],
   "source": []
  }
 ],
 "metadata": {
  "kernelspec": {
   "display_name": "Python 3 (ipykernel)",
   "language": "python",
   "name": "python3"
  },
  "language_info": {
   "codemirror_mode": {
    "name": "ipython",
    "version": 3
   },
   "file_extension": ".py",
   "mimetype": "text/x-python",
   "name": "python",
   "nbconvert_exporter": "python",
   "pygments_lexer": "ipython3",
   "version": "3.11.7"
  }
 },
 "nbformat": 4,
 "nbformat_minor": 5
}
