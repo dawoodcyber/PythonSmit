{
 "cells": [
  {
   "cell_type": "markdown",
   "id": "dcc4bca1-4ceb-4082-a102-45927c2431fa",
   "metadata": {},
   "source": [
    "Scenario: Student Grade Management System\n",
    "You are tasked with creating a basic Student Grade Management System for a small class. The system should allow you to:\n",
    "\n",
    "Add new students to the system.\n",
    "Record grades for each student in different subjects.\n",
    "Calculate the average grade for each student.\n",
    "Display the list of all students with their grades and averages.\n",
    "Find and display the student with the highest average grade."
   ]
  },
  {
   "cell_type": "code",
   "execution_count": null,
   "id": "93cc75f4-c2b7-4e7c-b54c-33620410ad55",
   "metadata": {},
   "outputs": [],
   "source": [
    "sample_students = {\n",
    "    \"Alice\": {\n",
    "        \"Math\": 88,\n",
    "        \"Science\": 92,\n",
    "        \"English\": 85\n",
    "    },\n",
    "    \"Bob\": {\n",
    "        \"Math\": 75,\n",
    "        \"Science\": 80,\n",
    "        \"History\": 78\n",
    "    },\n",
    "    \"Charlie\": {\n",
    "        \"Math\": 90,\n",
    "        \"Science\": 85,\n",
    "        \"English\": 87,\n",
    "        \"History\": 80\n",
    "    },\n",
    "    \"David\": {\n",
    "        \"Math\": 70,\n",
    "        \"Science\": 72,\n",
    "        \"English\": 75\n",
    "    },\n",
    "    \"Eve\": {\n",
    "        \"Math\": 95,\n",
    "        \"Science\": 90,\n",
    "        \"History\": 85\n",
    "    }\n",
    "}\n",
    "\n",
    "\n",
    "choice = True\n",
    "while choice != False:\n",
    "    print(\"\\nMenu:\")\n",
    "    print(\"1. Add Student\")\n",
    "    print(\"2. Record Grade\")\n",
    "    print(\"3. Calculate Average Grade\")\n",
    "    print(\"4. Display All Students\")\n",
    "    print(\"5. Find Top Student\")\n",
    "    print(\"6. Exit\")\n",
    "    choice = input()\n",
    "\n",
    "    if choice == 1:\n",
    "        addStudents()\n",
    "    elif choice ==2:\n",
    "        recordGrade()\n",
    "    elif choice == 3:\n",
    "        calculateGrade()\n",
    "    elif choice ==4:\n",
    "        displayStudents()\n",
    "    elif choice ==5:\n",
    "        topStudents()\n",
    "    elif choice ==6:\n",
    "        choice = False\n",
    "    else:\n",
    "        print('Invalid choice')"
   ]
  },
  {
   "cell_type": "code",
   "execution_count": null,
   "id": "008ee8b8-a263-4d38-a43d-025f1ad222f6",
   "metadata": {},
   "outputs": [],
   "source": []
  }
 ],
 "metadata": {
  "kernelspec": {
   "display_name": "Python 3 (ipykernel)",
   "language": "python",
   "name": "python3"
  },
  "language_info": {
   "codemirror_mode": {
    "name": "ipython",
    "version": 3
   },
   "file_extension": ".py",
   "mimetype": "text/x-python",
   "name": "python",
   "nbconvert_exporter": "python",
   "pygments_lexer": "ipython3",
   "version": "3.11.7"
  }
 },
 "nbformat": 4,
 "nbformat_minor": 5
}
