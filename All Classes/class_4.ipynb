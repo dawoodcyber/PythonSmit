{
 "cells": [
  {
   "cell_type": "markdown",
   "id": "79eb1b48-522f-44a9-82b4-61938100ff7d",
   "metadata": {
    "jp-MarkdownHeadingCollapsed": true
   },
   "source": [
    "## Class 04 (NESTED IF ELSE)"
   ]
  },
  {
   "cell_type": "code",
   "execution_count": 3,
   "id": "5caaa415-e156-4dac-9bb6-c38958bc8535",
   "metadata": {},
   "outputs": [
    {
     "name": "stdout",
     "output_type": "stream",
     "text": [
      "Nested if else\n"
     ]
    }
   ],
   "source": [
    "print(\"Nested if else\")"
   ]
  },
  {
   "cell_type": "code",
   "execution_count": 10,
   "id": "35b06b3a-2402-4913-8b04-2b067ac33b61",
   "metadata": {},
   "outputs": [
    {
     "name": "stdout",
     "output_type": "stream",
     "text": [
      "Atleast matric is the minimum requirement\n"
     ]
    }
   ],
   "source": [
    "matric_pass = False\n",
    "\n",
    "#Conditionnal statements\n",
    "\n",
    "if matric_pass:\n",
    "    print(f\"Can proceed with the Test\")\n",
    "else:\n",
    "    print(f\"Atleast matric is the minimum requirement\")\n",
    "    \n"
   ]
  },
  {
   "cell_type": "code",
   "execution_count": 28,
   "id": "9efe4874-71c2-4c2c-87d8-35c4bfca217e",
   "metadata": {},
   "outputs": [
    {
     "name": "stdin",
     "output_type": "stream",
     "text": [
      "Enter educational status (True/False): true\n",
      "Status of test (pass/fail): pass\n"
     ]
    },
    {
     "name": "stdout",
     "output_type": "stream",
     "text": [
      "Can take admission\n"
     ]
    }
   ],
   "source": [
    "# multi-line comments\n",
    "''' Task: Write a program that check if the student has cleared test and matric then\n",
    " he/she can take admission otherwise not. '''\n",
    "matric_pass = bool(input(\"Enter educational status (True/False):\")\n",
    "test_cleared = input(\"Status of test (pass/fail):\")\n",
    "\n",
    "# try to use minimum if-else, for fast performance\n",
    "\n",
    "if matric_pass and (test_cleared==\"Pass\" or test_cleared == \"pass\"):\n",
    "    print(f\"Can take admission\")\n",
    "elif matric_pass and (test_cleared==\"Fail\" or test_cleared == \"fail\"):\n",
    "    print(f\"You are on waiting list\")\n",
    "else:\n",
    "    print(f\"Can not take admission\")"
   ]
  },
  {
   "cell_type": "markdown",
   "id": "de8aeaac-1d8b-44e4-8ffe-75d6eb3708be",
   "metadata": {
    "jp-MarkdownHeadingCollapsed": true
   },
   "source": [
    "## LIST\n",
    "Problem: Can't store similar tyep of values in variables <br>\n",
    "Solution: List introduction a way to store same collection of values"
   ]
  },
  {
   "cell_type": "code",
   "execution_count": null,
   "id": "ccd95289-54d9-46f6-961b-7d045e70d1cb",
   "metadata": {},
   "outputs": [],
   "source": [
    "# not the right way to do\n",
    "city_0 = \"Karachi\"\n",
    "city_1 = \"Islamabad\"\n",
    "city_2 = \"Lahore\"\n",
    "city_3 = \"Peshawar\""
   ]
  },
  {
   "cell_type": "code",
   "execution_count": null,
   "id": "949ebf8f-c839-4df4-a454-21971b50497b",
   "metadata": {},
   "outputs": [],
   "source": [
    "#syntax of list\n",
    "list_name = [value1, value2]"
   ]
  },
  {
   "cell_type": "code",
   "execution_count": 30,
   "id": "ce6c65b3-0e04-4e38-8adf-929d5cf4e1d0",
   "metadata": {},
   "outputs": [],
   "source": [
    "cities = [\"Karachi\", \"Islamabad\", \"Lahore\", \"Peshawar\"]"
   ]
  },
  {
   "cell_type": "code",
   "execution_count": 33,
   "id": "4899ccf0-6eff-4a2e-8903-c42e03b7e003",
   "metadata": {},
   "outputs": [
    {
     "name": "stdout",
     "output_type": "stream",
     "text": [
      "<class 'list'>\n"
     ]
    },
    {
     "data": {
      "text/plain": [
       "list"
      ]
     },
     "execution_count": 33,
     "metadata": {},
     "output_type": "execute_result"
    }
   ],
   "source": [
    "print(type(cities))\n",
    "type(cities)"
   ]
  },
  {
   "cell_type": "code",
   "execution_count": 36,
   "id": "8f834061-81fa-4eea-874c-8c315c18a8b2",
   "metadata": {},
   "outputs": [
    {
     "data": {
      "text/plain": [
       "('Karachi', 'Islamabad', 'Lahore', 'Peshawar')"
      ]
     },
     "execution_count": 36,
     "metadata": {},
     "output_type": "execute_result"
    }
   ],
   "source": [
    "#fetching from list\n",
    "cities[0], cities[1], cities[2], cities[3] #, cities[4] error index out of range"
   ]
  },
  {
   "cell_type": "code",
   "execution_count": 40,
   "id": "9ea51192-5458-4674-ac89-caae3e114259",
   "metadata": {
    "jp-MarkdownHeadingCollapsed": true
   },
   "outputs": [
    {
     "data": {
      "text/plain": [
       "('Karachi', 'Islamabad', 'Lahore', 'Peshawar')"
      ]
     },
     "execution_count": 40,
     "metadata": {},
     "output_type": "execute_result"
    }
   ],
   "source": [
    "#Extracting values from list\n",
    "# for right to left negative numbers, for left to right positive indexes\n",
    "           # 0            1           2          3\n",
    "cities = [\"Karachi\", \"Islamabad\", \"Lahore\", \"Peshawar\"]\n",
    "           # -4         -3           -2          -1\n",
    "cities[-4],cities[-3],cities[-2], cities[-1]"
   ]
  },
  {
   "cell_type": "markdown",
   "id": "34f28938-5bb5-47bb-9d96-7e6dbb680386",
   "metadata": {
    "jp-MarkdownHeadingCollapsed": true
   },
   "source": [
    "### Slicing"
   ]
  },
  {
   "cell_type": "code",
   "execution_count": 41,
   "id": "9bd8275b-03e5-44b0-857d-8acc543726f4",
   "metadata": {},
   "outputs": [
    {
     "data": {
      "text/plain": [
       "['Karachi', 'Islamabad', 'Lahore']"
      ]
     },
     "execution_count": 41,
     "metadata": {},
     "output_type": "execute_result"
    }
   ],
   "source": [
    "cities[:3] # last index is excluded"
   ]
  },
  {
   "cell_type": "code",
   "execution_count": 46,
   "id": "f7a4e834-3a22-44eb-a2c8-71bc0cc5f4ae",
   "metadata": {},
   "outputs": [
    {
     "data": {
      "text/plain": [
       "['Lahore', 'Peshawar']"
      ]
     },
     "execution_count": 46,
     "metadata": {},
     "output_type": "execute_result"
    }
   ],
   "source": [
    "cities[2:4] # first index value is included however last index value is excludedS"
   ]
  },
  {
   "cell_type": "markdown",
   "id": "46979f8d-8400-4a20-9c5a-62b8d1e8f821",
   "metadata": {},
   "source": [
    "NOTE: first index value is included however last index value is excluded"
   ]
  },
  {
   "cell_type": "code",
   "execution_count": 49,
   "id": "20e493fc-59fe-4d20-9c20-85a27736a83f",
   "metadata": {},
   "outputs": [
    {
     "data": {
      "text/plain": [
       "['Denver', 'Los Angeles']"
      ]
     },
     "execution_count": 49,
     "metadata": {},
     "output_type": "execute_result"
    }
   ],
   "source": [
    "citiess = [\"Atlanta\", \"Baltimore\", \"Chicago\", \"Denver\", \"Los Angeles\", \"Seattle\"]\n",
    "citiess[-3:-1] # same slicing rules is applied"
   ]
  },
  {
   "cell_type": "code",
   "execution_count": 50,
   "id": "c51baa76-a6e6-49b6-971a-b0df7333ade9",
   "metadata": {},
   "outputs": [
    {
     "data": {
      "text/plain": [
       "'Denver'"
      ]
     },
     "execution_count": 50,
     "metadata": {},
     "output_type": "execute_result"
    }
   ],
   "source": [
    "citiess[-3] # : is compulsory to call all values after -3"
   ]
  },
  {
   "cell_type": "code",
   "execution_count": 52,
   "id": "abbd67b6-0b24-480f-8ea3-e3d2d671e7e7",
   "metadata": {},
   "outputs": [
    {
     "data": {
      "text/plain": [
       "['Denver', 'Los Angeles', 'Seattle']"
      ]
     },
     "execution_count": 52,
     "metadata": {},
     "output_type": "execute_result"
    }
   ],
   "source": [
    "citiess[-3:]"
   ]
  },
  {
   "cell_type": "code",
   "execution_count": 58,
   "id": "46ba0179-8bdf-4cd4-a482-a33336e74ec6",
   "metadata": {},
   "outputs": [
    {
     "data": {
      "text/plain": [
       "['Atlanta', 'Baltimore', 'Chicago', 'Denver', 'Los Angeles', 'Seattle']"
      ]
     },
     "execution_count": 58,
     "metadata": {},
     "output_type": "execute_result"
    }
   ],
   "source": [
    "citiess[::1] # 1skip syntax"
   ]
  },
  {
   "cell_type": "code",
   "execution_count": 64,
   "id": "ef79215b-1b26-4dbc-926f-6095f9e3998b",
   "metadata": {},
   "outputs": [
    {
     "data": {
      "text/plain": [
       "['Atlanta', 'Chicago', 'Los Angeles']"
      ]
     },
     "execution_count": 64,
     "metadata": {},
     "output_type": "execute_result"
    }
   ],
   "source": [
    "citiess[::2] # 2skip syntax"
   ]
  },
  {
   "cell_type": "code",
   "execution_count": 66,
   "id": "e43eb6d1-30d9-4fe8-99c2-74ca7a1b8bc0",
   "metadata": {},
   "outputs": [
    {
     "data": {
      "text/plain": [
       "['Atlanta', 'Baltimore', 'Chicago', 'Denver', 'Los Angeles', 'Seattle']"
      ]
     },
     "execution_count": 66,
     "metadata": {},
     "output_type": "execute_result"
    }
   ],
   "source": [
    "citiess"
   ]
  },
  {
   "cell_type": "code",
   "execution_count": 68,
   "id": "15855700-feb8-43cd-8b0e-6c3a943344e2",
   "metadata": {},
   "outputs": [
    {
     "data": {
      "text/plain": [
       "['Seattle', 'Los Angeles', 'Denver', 'Chicago', 'Baltimore', 'Atlanta']"
      ]
     },
     "execution_count": 68,
     "metadata": {},
     "output_type": "execute_result"
    }
   ],
   "source": [
    "citiess[::-1] # for reverse list printing"
   ]
  },
  {
   "cell_type": "markdown",
   "id": "8cc0e721-67de-474a-80f6-fe2231fa8e8a",
   "metadata": {},
   "source": [
    "## Adding and Inserting values in LIST\n"
   ]
  },
  {
   "cell_type": "code",
   "execution_count": 69,
   "id": "e48e32c3-b260-4c09-8428-0709cbdbf383",
   "metadata": {},
   "outputs": [
    {
     "data": {
      "text/plain": [
       "['Atlanta', 'Baltimore', 'Chicago', 'Denver', 'Los Angeles', 'Seattle']"
      ]
     },
     "execution_count": 69,
     "metadata": {},
     "output_type": "execute_result"
    }
   ],
   "source": [
    "citiess. # methods - 1 : press tab to get intelligence regarding available functions"
   ]
  },
  {
   "cell_type": "code",
   "execution_count": 73,
   "id": "88ece563-bce7-4ae8-900f-b81a155c3010",
   "metadata": {},
   "outputs": [
    {
     "data": {
      "text/plain": [
       "['__add__',\n",
       " '__class__',\n",
       " '__class_getitem__',\n",
       " '__contains__',\n",
       " '__delattr__',\n",
       " '__delitem__',\n",
       " '__dir__',\n",
       " '__doc__',\n",
       " '__eq__',\n",
       " '__format__',\n",
       " '__ge__',\n",
       " '__getattribute__',\n",
       " '__getitem__',\n",
       " '__getstate__',\n",
       " '__gt__',\n",
       " '__hash__',\n",
       " '__iadd__',\n",
       " '__imul__',\n",
       " '__init__',\n",
       " '__init_subclass__',\n",
       " '__iter__',\n",
       " '__le__',\n",
       " '__len__',\n",
       " '__lt__',\n",
       " '__mul__',\n",
       " '__ne__',\n",
       " '__new__',\n",
       " '__reduce__',\n",
       " '__reduce_ex__',\n",
       " '__repr__',\n",
       " '__reversed__',\n",
       " '__rmul__',\n",
       " '__setattr__',\n",
       " '__setitem__',\n",
       " '__sizeof__',\n",
       " '__str__',\n",
       " '__subclasshook__',\n",
       " 'append',\n",
       " 'clear',\n",
       " 'copy',\n",
       " 'count',\n",
       " 'extend',\n",
       " 'index',\n",
       " 'insert',\n",
       " 'pop',\n",
       " 'remove',\n",
       " 'reverse',\n",
       " 'sort']"
      ]
     },
     "execution_count": 73,
     "metadata": {},
     "output_type": "execute_result"
    }
   ],
   "source": [
    "#for adding values\n",
    "dir(cities) # mthod- 2 : to list the attributes ( methods, behaivors), and above undersocre methods called dender methods"
   ]
  },
  {
   "cell_type": "code",
   "execution_count": 75,
   "id": "7337aa99-1409-4b99-8777-8996ecef9d0f",
   "metadata": {},
   "outputs": [
    {
     "data": {
      "text/plain": [
       "['Atlanta', 'Baltimore', 'Chicago', 'Denver', 'Los Angeles', 'Seattle']"
      ]
     },
     "execution_count": 75,
     "metadata": {},
     "output_type": "execute_result"
    }
   ],
   "source": [
    "citiess"
   ]
  },
  {
   "cell_type": "code",
   "execution_count": 79,
   "id": "c9eadc24-9ccc-482e-a215-05dc798dcf04",
   "metadata": {},
   "outputs": [],
   "source": [
    "# too add in end\n",
    "citiess.append(\"NewYork\") # I have run this method 3 times that's why new york is added 3 times"
   ]
  },
  {
   "cell_type": "code",
   "execution_count": 80,
   "id": "5b436484-6ea2-4853-ac22-ba7a2d5bc379",
   "metadata": {},
   "outputs": [
    {
     "data": {
      "text/plain": [
       "['Atlanta',\n",
       " 'Baltimore',\n",
       " 'Chicago',\n",
       " 'Denver',\n",
       " 'Los Angeles',\n",
       " 'Seattle',\n",
       " 'New York',\n",
       " 'New York',\n",
       " 'NewYork']"
      ]
     },
     "execution_count": 80,
     "metadata": {},
     "output_type": "execute_result"
    }
   ],
   "source": [
    "citiess"
   ]
  },
  {
   "cell_type": "code",
   "execution_count": 83,
   "id": "337b5b81-e55a-42cc-9d0f-6b8f6efb0ea1",
   "metadata": {},
   "outputs": [],
   "source": [
    "#for adding value at particular index\n",
    "citiess.insert(0,\"Texas\")#before we had atlanta at 0 index but now we have texas at 0 index"
   ]
  },
  {
   "cell_type": "code",
   "execution_count": 84,
   "id": "406363a0-16d8-4583-b403-d6a5f43449ba",
   "metadata": {},
   "outputs": [
    {
     "data": {
      "text/plain": [
       "['Texas',\n",
       " 'Texas',\n",
       " 'Atlanta',\n",
       " 'Baltimore',\n",
       " 'Chicago',\n",
       " 'Denver',\n",
       " 'Los Angeles',\n",
       " 'Seattle',\n",
       " 'New York',\n",
       " 'New York',\n",
       " 'NewYork']"
      ]
     },
     "execution_count": 84,
     "metadata": {},
     "output_type": "execute_result"
    }
   ],
   "source": [
    "citiess"
   ]
  },
  {
   "cell_type": "code",
   "execution_count": 86,
   "id": "79b1b38b-f764-4e74-b8e7-eb08a1fa6aac",
   "metadata": {},
   "outputs": [
    {
     "data": {
      "text/plain": [
       "['Texas',\n",
       " 'Texas',\n",
       " 'Atlanta',\n",
       " 'Baltimore',\n",
       " 'Chicago',\n",
       " 'Denver',\n",
       " 'Los Angeles',\n",
       " 'Seattle',\n",
       " 'New York',\n",
       " 'New York',\n",
       " 'NewYork',\n",
       " 'Dallas']"
      ]
     },
     "execution_count": 86,
     "metadata": {},
     "output_type": "execute_result"
    }
   ],
   "source": [
    "# another way of adding value at end (concatenation) temparirly basis\n",
    "citiess + ['Dallas']"
   ]
  },
  {
   "cell_type": "code",
   "execution_count": 87,
   "id": "8a198bcb-e52c-427f-89ac-6edb3557726e",
   "metadata": {},
   "outputs": [
    {
     "data": {
      "text/plain": [
       "['Texas',\n",
       " 'Texas',\n",
       " 'Atlanta',\n",
       " 'Baltimore',\n",
       " 'Chicago',\n",
       " 'Denver',\n",
       " 'Los Angeles',\n",
       " 'Seattle',\n",
       " 'New York',\n",
       " 'New York',\n",
       " 'NewYork']"
      ]
     },
     "execution_count": 87,
     "metadata": {},
     "output_type": "execute_result"
    }
   ],
   "source": [
    "citiess"
   ]
  },
  {
   "cell_type": "code",
   "execution_count": 88,
   "id": "eab172ee-b023-48df-ae29-b3085db2d9d9",
   "metadata": {},
   "outputs": [],
   "source": [
    "# for adding permanently basis USING CONCAT  at end value\n",
    "citiess = citiess +[\"Dallas\"]"
   ]
  },
  {
   "cell_type": "code",
   "execution_count": 89,
   "id": "c9aa0464-2611-4f4b-863e-1bef53904639",
   "metadata": {},
   "outputs": [
    {
     "data": {
      "text/plain": [
       "['Texas',\n",
       " 'Texas',\n",
       " 'Atlanta',\n",
       " 'Baltimore',\n",
       " 'Chicago',\n",
       " 'Denver',\n",
       " 'Los Angeles',\n",
       " 'Seattle',\n",
       " 'New York',\n",
       " 'New York',\n",
       " 'NewYork',\n",
       " 'Dallas']"
      ]
     },
     "execution_count": 89,
     "metadata": {},
     "output_type": "execute_result"
    }
   ],
   "source": [
    "citiess"
   ]
  },
  {
   "cell_type": "code",
   "execution_count": 90,
   "id": "c4a1d216-facf-4ebf-8246-659fe665e5cb",
   "metadata": {},
   "outputs": [
    {
     "data": {
      "text/plain": [
       "['Texas',\n",
       " 'Texas',\n",
       " 'Atlanta',\n",
       " 'Baltimore',\n",
       " 'Chicago',\n",
       " 'Denver',\n",
       " 'Los Angeles',\n",
       " 'Seattle',\n",
       " 'New York',\n",
       " 'New York',\n",
       " 'NewYork',\n",
       " 'Dallas']"
      ]
     },
     "execution_count": 90,
     "metadata": {},
     "output_type": "execute_result"
    }
   ],
   "source": [
    "citiess"
   ]
  },
  {
   "cell_type": "code",
   "execution_count": 93,
   "id": "7fcd27c4-95ab-4e4f-ac83-5f39181c8e21",
   "metadata": {},
   "outputs": [],
   "source": [
    "# for deleting values at particular index\n",
    "del citiess[0]"
   ]
  },
  {
   "cell_type": "code",
   "execution_count": 92,
   "id": "43b06cb2-ff15-4f95-bd94-510a3c4bf3df",
   "metadata": {},
   "outputs": [
    {
     "data": {
      "text/plain": [
       "['Texas',\n",
       " 'Atlanta',\n",
       " 'Baltimore',\n",
       " 'Chicago',\n",
       " 'Denver',\n",
       " 'Los Angeles',\n",
       " 'Seattle',\n",
       " 'New York',\n",
       " 'New York',\n",
       " 'NewYork',\n",
       " 'Dallas']"
      ]
     },
     "execution_count": 92,
     "metadata": {},
     "output_type": "execute_result"
    }
   ],
   "source": [
    "citiess"
   ]
  },
  {
   "cell_type": "markdown",
   "id": "5af45bf4-04dc-4e72-bd61-288452c0345a",
   "metadata": {},
   "source": [
    "### Deleting and Removing Elements"
   ]
  },
  {
   "cell_type": "code",
   "execution_count": null,
   "id": "46235419-1ff8-4ad4-bc8f-41855607c9e0",
   "metadata": {},
   "outputs": [],
   "source": []
  },
  {
   "cell_type": "code",
   "execution_count": 97,
   "id": "c82bf2d5-8b5d-4c3f-9604-54d1eabd971a",
   "metadata": {},
   "outputs": [],
   "source": [
    "# deleting values at particular index\n",
    "del citiess [7:9]"
   ]
  },
  {
   "cell_type": "code",
   "execution_count": 98,
   "id": "15d63e52-8883-4e5d-9cad-aeaf0106715e",
   "metadata": {},
   "outputs": [
    {
     "data": {
      "text/plain": [
       "['Atlanta',\n",
       " 'Baltimore',\n",
       " 'Chicago',\n",
       " 'Denver',\n",
       " 'Los Angeles',\n",
       " 'Seattle',\n",
       " 'New York']"
      ]
     },
     "execution_count": 98,
     "metadata": {},
     "output_type": "execute_result"
    }
   ],
   "source": [
    "citiess"
   ]
  },
  {
   "cell_type": "code",
   "execution_count": 99,
   "id": "1bba3d04-8589-46b3-8054-eeff7be95d81",
   "metadata": {},
   "outputs": [],
   "source": [
    "# removing through objects / strings\n",
    "citiess.remove(\"New York\")"
   ]
  },
  {
   "cell_type": "code",
   "execution_count": 100,
   "id": "c0636bd7-de90-4f54-a5bc-6a253dbdf5ad",
   "metadata": {},
   "outputs": [
    {
     "data": {
      "text/plain": [
       "['Atlanta', 'Baltimore', 'Chicago', 'Denver', 'Los Angeles', 'Seattle']"
      ]
     },
     "execution_count": 100,
     "metadata": {},
     "output_type": "execute_result"
    }
   ],
   "source": [
    "citiess"
   ]
  },
  {
   "cell_type": "code",
   "execution_count": 101,
   "id": "ad376bc2-253b-4c3a-b824-d6c2ea7cfc89",
   "metadata": {},
   "outputs": [],
   "source": [
    "# another deleting method\n",
    "del(citiess[5])"
   ]
  },
  {
   "cell_type": "code",
   "execution_count": 102,
   "id": "b8a9e42c-c97e-406e-b4ea-1b0e09867222",
   "metadata": {},
   "outputs": [
    {
     "data": {
      "text/plain": [
       "['Atlanta', 'Baltimore', 'Chicago', 'Denver', 'Los Angeles']"
      ]
     },
     "execution_count": 102,
     "metadata": {},
     "output_type": "execute_result"
    }
   ],
   "source": [
    "citiess"
   ]
  },
  {
   "cell_type": "markdown",
   "id": "b04f405d-2e5d-45bb-9ffe-aa341f2ddf1c",
   "metadata": {},
   "source": [
    "### Poping values from list"
   ]
  },
  {
   "cell_type": "code",
   "execution_count": 108,
   "id": "bd96cc9f-6e86-4a97-b32a-70db83ec72d2",
   "metadata": {},
   "outputs": [
    {
     "name": "stdout",
     "output_type": "stream",
     "text": [
      "['Atlanta', 'Baltimore']\n"
     ]
    }
   ],
   "source": [
    "# for getting values from list and removed\n",
    "print(citiess)\n",
    "getter = citiess.pop() # value get removed from list and stored in the variable"
   ]
  },
  {
   "cell_type": "code",
   "execution_count": 109,
   "id": "93cc759d-3652-4c39-928e-8072e4764238",
   "metadata": {},
   "outputs": [],
   "source": [
    "citiess = ['Atlanta', 'Baltimore', 'Chicago', 'Denver', 'Los Angeles']"
   ]
  },
  {
   "cell_type": "code",
   "execution_count": 110,
   "id": "d5eb4ec8-8ca0-47c4-a4b6-d43c99427e20",
   "metadata": {},
   "outputs": [
    {
     "data": {
      "text/plain": [
       "['Atlanta', 'Baltimore', 'Chicago', 'Denver', 'Los Angeles']"
      ]
     },
     "execution_count": 110,
     "metadata": {},
     "output_type": "execute_result"
    }
   ],
   "source": [
    "citiess"
   ]
  },
  {
   "cell_type": "code",
   "execution_count": 111,
   "id": "b3c3dc01-dd55-4165-8517-e76a941b0f9c",
   "metadata": {},
   "outputs": [],
   "source": [
    "getter = citiess.pop(2)"
   ]
  },
  {
   "cell_type": "code",
   "execution_count": 112,
   "id": "439de581-7537-4f86-962b-474f292d89d3",
   "metadata": {},
   "outputs": [
    {
     "data": {
      "text/plain": [
       "'Chicago'"
      ]
     },
     "execution_count": 112,
     "metadata": {},
     "output_type": "execute_result"
    }
   ],
   "source": [
    "getter"
   ]
  },
  {
   "cell_type": "code",
   "execution_count": 113,
   "id": "b48d1c17-d885-478a-9679-e25189452dee",
   "metadata": {},
   "outputs": [
    {
     "data": {
      "text/plain": [
       "['Atlanta', 'Baltimore', 'Denver', 'Los Angeles']"
      ]
     },
     "execution_count": 113,
     "metadata": {},
     "output_type": "execute_result"
    }
   ],
   "source": [
    "citiess"
   ]
  },
  {
   "cell_type": "code",
   "execution_count": 114,
   "id": "6275b5c3-b37a-43c7-9672-40de7112f51d",
   "metadata": {},
   "outputs": [
    {
     "data": {
      "text/plain": [
       "'Chicago'"
      ]
     },
     "execution_count": 114,
     "metadata": {},
     "output_type": "execute_result"
    }
   ],
   "source": [
    "getter"
   ]
  },
  {
   "cell_type": "code",
   "execution_count": 116,
   "id": "38d14ee0-5ec2-4f1a-b4da-3d649f147957",
   "metadata": {},
   "outputs": [],
   "source": [
    "# example of pop()\n",
    "tasks = [\"prayingFajr\", \"running\", 'breakfast', 'studying' ]\n",
    "task_done = []"
   ]
  },
  {
   "cell_type": "code",
   "execution_count": 117,
   "id": "475af9a4-48d5-42fe-85f5-31f56c4faa32",
   "metadata": {},
   "outputs": [],
   "source": [
    "task_done.append(tasks.pop(0))"
   ]
  },
  {
   "cell_type": "code",
   "execution_count": 118,
   "id": "f1ba0224-3177-4600-bb1d-daa9b5ae7639",
   "metadata": {},
   "outputs": [
    {
     "data": {
      "text/plain": [
       "['running', 'breakfast', 'studying']"
      ]
     },
     "execution_count": 118,
     "metadata": {},
     "output_type": "execute_result"
    }
   ],
   "source": [
    "tasks"
   ]
  },
  {
   "cell_type": "code",
   "execution_count": 119,
   "id": "ef26a08a-11a8-4426-87be-de0be956961d",
   "metadata": {},
   "outputs": [
    {
     "data": {
      "text/plain": [
       "['prayingFajr']"
      ]
     },
     "execution_count": 119,
     "metadata": {},
     "output_type": "execute_result"
    }
   ],
   "source": [
    "task_done"
   ]
  },
  {
   "cell_type": "markdown",
   "id": "93bf1685-d1ed-4c72-aa0d-6d35427c4d7d",
   "metadata": {},
   "source": [
    "#### Extra Methods"
   ]
  },
  {
   "cell_type": "code",
   "execution_count": 121,
   "id": "1ef1c745-fecf-4e81-8742-31c4febf9e89",
   "metadata": {},
   "outputs": [
    {
     "data": {
      "text/plain": [
       "['Atlanta', 'Baltimore', 'Denver', 'Los Angeles']"
      ]
     },
     "execution_count": 121,
     "metadata": {},
     "output_type": "execute_result"
    }
   ],
   "source": [
    "citiess"
   ]
  },
  {
   "cell_type": "code",
   "execution_count": 122,
   "id": "f8696a6d-db00-4128-9d47-22225cc324e6",
   "metadata": {},
   "outputs": [
    {
     "data": {
      "text/plain": [
       "['prayingFajr']"
      ]
     },
     "execution_count": 122,
     "metadata": {},
     "output_type": "execute_result"
    }
   ],
   "source": [
    "task_done"
   ]
  },
  {
   "cell_type": "code",
   "execution_count": 123,
   "id": "df677c1d-cbd3-4c37-925f-fa0af47e4ae7",
   "metadata": {},
   "outputs": [],
   "source": [
    "task_done.clear() # removes all the elements from the list"
   ]
  },
  {
   "cell_type": "code",
   "execution_count": 124,
   "id": "c9825f71-962c-431b-b3d7-58d6f85fa6a0",
   "metadata": {},
   "outputs": [
    {
     "data": {
      "text/plain": [
       "[]"
      ]
     },
     "execution_count": 124,
     "metadata": {},
     "output_type": "execute_result"
    }
   ],
   "source": [
    "task_done"
   ]
  },
  {
   "cell_type": "code",
   "execution_count": 147,
   "id": "7e6eda72-6e57-427d-a6c6-599e30803a7a",
   "metadata": {},
   "outputs": [
    {
     "data": {
      "text/plain": [
       "['running', 'breakfast', 'studying', 'Shopping', 'Shopping']"
      ]
     },
     "execution_count": 147,
     "metadata": {},
     "output_type": "execute_result"
    }
   ],
   "source": [
    "tasks"
   ]
  },
  {
   "cell_type": "code",
   "execution_count": 140,
   "id": "8ae1c073-72d5-4646-bce7-e5496a7bd7ba",
   "metadata": {},
   "outputs": [],
   "source": [
    "todolist = tasks.copy() # returns a deep copy"
   ]
  },
  {
   "cell_type": "code",
   "execution_count": 141,
   "id": "da42b77c-f626-4f12-a75e-0b8107cfa7dc",
   "metadata": {},
   "outputs": [
    {
     "data": {
      "text/plain": [
       "['running', 'breakfast', 'studying', 'Shopping', 'Shopping']"
      ]
     },
     "execution_count": 141,
     "metadata": {},
     "output_type": "execute_result"
    }
   ],
   "source": [
    "todolist"
   ]
  },
  {
   "cell_type": "code",
   "execution_count": 142,
   "id": "a4407e93-55c8-45ec-84f8-fa518f9efbb6",
   "metadata": {},
   "outputs": [
    {
     "data": {
      "text/plain": [
       "['running', 'breakfast', 'studying', 'Shopping', 'Shopping']"
      ]
     },
     "execution_count": 142,
     "metadata": {},
     "output_type": "execute_result"
    }
   ],
   "source": [
    "tasks"
   ]
  },
  {
   "cell_type": "code",
   "execution_count": 137,
   "id": "d7683b97-5f9b-45cd-9417-3cda24520d16",
   "metadata": {},
   "outputs": [],
   "source": [
    "tasks.append(\"Shopping\") # changing the original"
   ]
  },
  {
   "cell_type": "code",
   "execution_count": 143,
   "id": "00aa1304-11c5-4001-962d-fdbcf548eeb3",
   "metadata": {},
   "outputs": [
    {
     "data": {
      "text/plain": [
       "['running', 'breakfast', 'studying', 'Shopping', 'Shopping']"
      ]
     },
     "execution_count": 143,
     "metadata": {},
     "output_type": "execute_result"
    }
   ],
   "source": [
    "tasks"
   ]
  },
  {
   "cell_type": "code",
   "execution_count": 146,
   "id": "0a5a646e-b268-43ad-99e5-b753049cccc9",
   "metadata": {},
   "outputs": [
    {
     "data": {
      "text/plain": [
       "['running', 'breakfast', 'studying', 'Shopping', 'Shopping']"
      ]
     },
     "execution_count": 146,
     "metadata": {},
     "output_type": "execute_result"
    }
   ],
   "source": [
    "todolist # didn't effect the changes"
   ]
  },
  {
   "cell_type": "markdown",
   "id": "0c1eb7a2-bcff-4886-b824-4f7fd5783a24",
   "metadata": {},
   "source": [
    "#### Concept of Shallow and deep copy"
   ]
  },
  {
   "cell_type": "markdown",
   "id": "f0f8e630-d4b1-4fcb-a654-8535ff2eac9b",
   "metadata": {},
   "source": [
    "https://media.licdn.com/dms/image/D4D12AQEhCOPPI1VqsQ/article-inline_image-shrink_1500_2232/0/1697709447743?e=1724889600&v=beta&t=2UbscjSBxkzuYVOpEXn9BkvPvDyOCe80j3KgBeaUaj4\n",
    "Shallow copy:\n",
    "- Referencing the same original\n",
    "- Changing in original can affect the copy\n",
    "\n",
    "Deep copy:\n",
    "- creates separate copy of the object\n",
    "- Changing in original doesn't affect the copy"
   ]
  },
  {
   "cell_type": "code",
   "execution_count": null,
   "id": "9adf34e5-24f3-43e4-bf03-55de4da051ae",
   "metadata": {},
   "outputs": [],
   "source": []
  },
  {
   "cell_type": "code",
   "execution_count": null,
   "id": "84c0ffc5-55fb-402a-b813-454098497e43",
   "metadata": {},
   "outputs": [],
   "source": []
  }
 ],
 "metadata": {
  "kernelspec": {
   "display_name": "Python 3 (ipykernel)",
   "language": "python",
   "name": "python3"
  },
  "language_info": {
   "codemirror_mode": {
    "name": "ipython",
    "version": 3
   },
   "file_extension": ".py",
   "mimetype": "text/x-python",
   "name": "python",
   "nbconvert_exporter": "python",
   "pygments_lexer": "ipython3",
   "version": "3.11.7"
  }
 },
 "nbformat": 4,
 "nbformat_minor": 5
}
