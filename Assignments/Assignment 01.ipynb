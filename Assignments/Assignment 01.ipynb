{
 "cells": [
  {
   "cell_type": "markdown",
   "id": "5a6638f4-c815-4a86-8174-49d7a6d697be",
   "metadata": {
    "jp-MarkdownHeadingCollapsed": true
   },
   "source": [
    "# PART -1 PHYTON BASICS (VARIABLES)"
   ]
  },
  {
   "cell_type": "markdown",
   "id": "cda250eb-be18-4749-9589-b6a6fa6ad974",
   "metadata": {},
   "source": [
    "1. Print Your Name with your Father name and Date of birth using suitable escape sequence charactor"
   ]
  },
  {
   "cell_type": "code",
   "execution_count": 10,
   "id": "cfdfba59-0b06-4d85-a76d-83b84c39f8c8",
   "metadata": {},
   "outputs": [
    {
     "name": "stdout",
     "output_type": "stream",
     "text": [
      "My name is  Dawood Shaikh \n",
      "My father's name is  Shaikh Azeem Uddin \n",
      "My DOB is  02-01-2005\n"
     ]
    }
   ],
   "source": [
    "name = \"Dawood Shaikh\"\n",
    "fatherName = \"Shaikh Azeem Uddin\"\n",
    "dob = \"02-01-2005\"\n",
    "print(\"My name is \" , name ,\"\\nMy father's name is \",fatherName,\"\\nMy DOB is \",dob);"
   ]
  },
  {
   "cell_type": "markdown",
   "id": "ecac2164-5dde-4bc0-81d3-c5681e9eac41",
   "metadata": {},
   "source": [
    "2. Write your small bio using variables and print it using print function"
   ]
  },
  {
   "cell_type": "code",
   "execution_count": 16,
   "id": "4a1ecc6e-a0a9-436f-ae13-731aedfe28f2",
   "metadata": {},
   "outputs": [
    {
     "name": "stdout",
     "output_type": "stream",
     "text": [
      "Hello everyone! my name is Dawood Shaikh and my Father's name is Shaikh Azeem Uddin.\n",
      "I was born on 02-01-2005.\n",
      "I am an Undergraduate student at SMI University.\n",
      "My field of study is Cyber Security, I have experience in using C, Java, Typescript and Python languages.\n",
      "My hobbies are reading books and listening to intellectual influencers.\n"
     ]
    }
   ],
   "source": [
    "name = \"Dawood Shaikh\"\n",
    "fatherName = \"Shaikh Azeem Uddin\"\n",
    "dob = \"02-01-2005\"\n",
    "education = \"Undergraduate\"\n",
    "university = \"SMI University\"\n",
    "fieldOfStudy= \"Cyber Security\"\n",
    "experienceIn = \"C, Java, Typescript and Python\"\n",
    "hobbies = \"reading books and listening to intellectual influencers\"\n",
    "print(f\"Hello everyone! my name is {name} and my Father's name is {fatherName}.\\nI was born on {dob}.\\nI am an {education} student at {university}.\")\n",
    "print(f\"My field of study is {fieldOfStudy}, I have experience in using {experienceIn} languages.\\nMy hobbies are {hobbies}.\")"
   ]
  },
  {
   "cell_type": "markdown",
   "id": "f3abb187-f534-4279-a069-091d4ca27f6b",
   "metadata": {},
   "source": [
    "3. Write a program in which use all the operators we can use in Python"
   ]
  },
  {
   "cell_type": "code",
   "execution_count": 42,
   "id": "a0d2227e-857c-46e7-a5e0-23029a95b088",
   "metadata": {},
   "outputs": [
    {
     "name": "stdout",
     "output_type": "stream",
     "text": [
      "\t--- Arithmetic Operators---\n",
      "\n",
      "Sum of x and y is 25\n",
      "Subtraction of x and y is 5\n",
      "Multiplication of x and y is 150\n",
      "Division of x and y is 1.5\n",
      "Power of x tends to y is 576650390625\n",
      "Mode of x and y is 5\n",
      "\n",
      "\n",
      "\t--- Comparison Operators---\n",
      "\n",
      "Is x greater than y?- True\n",
      "Is x less than y?- False\n",
      "Is x equals to y?- False\n",
      "Is y is greater than equal to x?- False\n",
      "Is y is less than equal to x?- True\n",
      "Is y not equals to x?- True\n",
      "\n",
      "\n",
      "\t--- Assignment Operators---\n",
      "\n",
      "Current value of x is 15\n",
      "After adding 2 in x: 17\n",
      "Current value of y is 10\n",
      "After multiplying it with 2: 20\n",
      "\n",
      "\n",
      "\t--- Logical Operators---\n",
      "\n",
      "Welcome Mr.Dawood Shaikh\n",
      "Invalid username and Password\n",
      "Welcome Mr.Dawood Shaikh\n"
     ]
    }
   ],
   "source": [
    "print(\"\\t--- Arithmetic Operators---\\n\")\n",
    "x = 15;y = 10\n",
    "print(f\"Sum of x and y is {x+y}\");print(f\"Subtraction of x and y is {x-y}\");\n",
    "print(f\"Multiplication of x and y is {x*y}\");print(f\"Division of x and y is {x/y}\");\n",
    "print(f\"Power of x tends to y is {x**y}\");print(f\"Mode of x and y is {x%y}\");\n",
    "\n",
    "print(\"\\n\")\n",
    "\n",
    "print(\"\\t--- Comparison Operators---\\n\")\n",
    "x = 15;y = 10\n",
    "print(f\"Is x greater than y?- {x>y}\");print(f\"Is x less than y?- {x<y}\");\n",
    "print(f\"Is x equals to y?- {x==y}\");print(f\"Is y is greater than equal to x?- {y>=x}\");\n",
    "print(f\"Is y is less than equal to x?- {y<=x}\");print(f\"Is y not equals to x?- {y!=x}\");\n",
    "\n",
    "print(\"\\n\")\n",
    "\n",
    "print(\"\\t--- Assignment Operators---\\n\")\n",
    "x = 15;y = 10\n",
    "print(f\"Current value of x is {x}\")\n",
    "x = x+2 # x +=2\n",
    "print(f\"After adding 2 in x: {x}\")\n",
    "\n",
    "print(f\"Current value of y is {y}\")\n",
    "y *=2;\n",
    "print(f\"After multiplying it with 2: {y}\")\n",
    "\n",
    "print(\"\\n\")\n",
    "\n",
    "print(\"\\t--- Logical Operators---\\n\")\n",
    "name = \"Dawood Shaikh\"\n",
    "password = \"123\"\n",
    "if( name == \"Dawood Shaikh\" and password == \"123\"):\n",
    "    print(f\"Welcome Mr.{name}\")\n",
    "else:\n",
    "    print(f\"Invalid username and Password\")\n",
    "\n",
    "if(name == \"Azeem Shaikh\" or password == \"12345\"):\n",
    "    print(f\"Welcome Mr.{name}\")\n",
    "else:\n",
    "    print(f\"Invalid username and Password\")\n",
    "\n",
    "if(not name == \"HackerX\" and password == \"123\"):\n",
    "    print(f\"Welcome Mr.{name}\")\n",
    "else:\n",
    "    print(f\"Invalid username and Password\")\n"
   ]
  },
  {
   "cell_type": "markdown",
   "id": "a2fbc8de-bb3f-4f2c-bb65-53de3eee8e57",
   "metadata": {},
   "source": [
    "4. Completes the following steps of small task:\n",
    "    - Mention Marks of English , Islamiat and Maths out of 100 in 3 different variables\n",
    "    - Mention Variable of Total Marks and assign 300 to it\n",
    "    - Calculate Percentage"
   ]
  },
  {
   "cell_type": "code",
   "execution_count": 51,
   "id": "f5c1ee63-b137-48bc-bd54-20142ffd60b9",
   "metadata": {},
   "outputs": [
    {
     "name": "stdout",
     "output_type": "stream",
     "text": [
      "Marks of Islamiat : 84.\n",
      "Marks of English : 70.\n",
      "Marks of Maths : 100\n",
      "Total Marks: 300.\n",
      "Obtained Marks:254\n",
      "Your percentage is 84.67\n"
     ]
    }
   ],
   "source": [
    "englishMarks = 70; islamiatMarks = 84; mathsMarks = 100;\n",
    "totalMarks = 300; obtainedMarks = englishMarks + islamiatMarks + mathsMarks;\n",
    "yourPercentage = ((obtainedMarks*100)/totalMarks)\n",
    "print(f\"Marks of Islamiat : {islamiatMarks}.\\nMarks of English : {englishMarks}.\\nMarks of Maths : {mathsMarks}\");\n",
    "print(f\"Total Marks: {totalMarks}.\\nObtained Marks:{obtainedMarks}\");\n",
    "print(f\"Your percentage is {yourPercentage:.2f}\");"
   ]
  },
  {
   "cell_type": "markdown",
   "id": "f457e592-00dc-403c-a0c9-06ce8ff13c86",
   "metadata": {
    "jp-MarkdownHeadingCollapsed": true
   },
   "source": [
    "# PART -2 PHYTON BASICS (CONDITIONAL STATEMENTS)"
   ]
  },
  {
   "cell_type": "markdown",
   "id": "4f38e260-5d14-47a8-aadd-1806636c65cb",
   "metadata": {},
   "source": [
    "1. A company decided to give bonus of 5% to employee if his/her year of service is more than 5 years. Ask user for their salary and year of service and print the net bonus amount."
   ]
  },
  {
   "cell_type": "code",
   "execution_count": 56,
   "id": "ac2512dc-a766-41fb-b845-f1e46ec2d698",
   "metadata": {},
   "outputs": [
    {
     "name": "stdin",
     "output_type": "stream",
     "text": [
      "Enter you salary?:  10000\n",
      "Enter your years of service?: 6\n"
     ]
    },
    {
     "name": "stdout",
     "output_type": "stream",
     "text": [
      "Congrats! 5% bonus is added in your salary.\n",
      "Now you salary is 10500.0\n"
     ]
    }
   ],
   "source": [
    "salary = float(input(\"Enter you salary?: \"))\n",
    "yearsOfService= int(input(\"Enter your years of service?:\"))\n",
    "if(yearsOfService > 5):\n",
    "    print(f\"Congrats! 5% bonus is added in your salary.\")\n",
    "    print(f\"Now you salary is {salary+(salary * 0.05)}\")\n",
    "else:\n",
    "    print(f\"Sorry bonus is not added in your salary\");"
   ]
  },
  {
   "cell_type": "markdown",
   "id": "0b87e7a6-346c-421b-a8da-6ddee2879768",
   "metadata": {},
   "source": [
    "2. Write a program to check whether a person is eligible for voting or not. (accept age from user) if age is greater than 17 eligible otherwise not eligible"
   ]
  },
  {
   "cell_type": "code",
   "execution_count": 59,
   "id": "d4f3d982-9186-4cde-b4d3-63af8a9c860d",
   "metadata": {},
   "outputs": [
    {
     "name": "stdin",
     "output_type": "stream",
     "text": [
      "Enter your age?:  18\n"
     ]
    },
    {
     "name": "stdout",
     "output_type": "stream",
     "text": [
      "You are eligible for voting\n"
     ]
    }
   ],
   "source": [
    "userAge = int(input(\"Enter your age?: \"));\n",
    "if(userAge >= 18):\n",
    "    print(\"You are eligible for voting\");\n",
    "else:\n",
    "    print(\"You are not eligible for voting\");"
   ]
  },
  {
   "cell_type": "markdown",
   "id": "d7184582-f1ed-4fb7-8b78-a5171fbf8735",
   "metadata": {},
   "source": [
    "3. Write a program to check whether a number entered by user is even or odd."
   ]
  },
  {
   "cell_type": "code",
   "execution_count": 61,
   "id": "8be3bbe3-e235-4dd0-965e-bfac8ad119c2",
   "metadata": {},
   "outputs": [
    {
     "name": "stdin",
     "output_type": "stream",
     "text": [
      "Enter any number?:  99\n"
     ]
    },
    {
     "name": "stdout",
     "output_type": "stream",
     "text": [
      "Number is odd\n"
     ]
    }
   ],
   "source": [
    "num = int(input(\"Enter any number?: \"));\n",
    "if(num%2==0):\n",
    "    print(\"Number is even\")\n",
    "else:\n",
    "    print(\"Number is odd\")"
   ]
  },
  {
   "cell_type": "markdown",
   "id": "02f256fb-369e-4330-9bd7-8e8b0e7f6937",
   "metadata": {},
   "source": [
    "4. Write a program to check whether a number is divisible by 7 or not. Show Answer"
   ]
  },
  {
   "cell_type": "code",
   "execution_count": 63,
   "id": "4473f1b5-2166-4cee-b16c-d4ef428794b7",
   "metadata": {},
   "outputs": [
    {
     "name": "stdin",
     "output_type": "stream",
     "text": [
      "Enter any number?:  49\n"
     ]
    },
    {
     "name": "stdout",
     "output_type": "stream",
     "text": [
      "Number is divisible by 7\n"
     ]
    }
   ],
   "source": [
    "num = int(input(\"Enter any number?: \"));\n",
    "if(num%7==0):\n",
    "    print(\"Number is divisible by 7\");\n",
    "else:\n",
    "    print(\"Number is not divisible by 7\");\n",
    "    "
   ]
  },
  {
   "cell_type": "markdown",
   "id": "da9918e5-019f-479f-84a8-0616ebe0d022",
   "metadata": {},
   "source": [
    "5. Write a program to display \"Hello\" if a number entered by user is a multiple of five , otherwise print \"Bye\"."
   ]
  },
  {
   "cell_type": "code",
   "execution_count": 66,
   "id": "f7c15bca-0223-4547-ac0c-d5f10696d736",
   "metadata": {},
   "outputs": [
    {
     "name": "stdin",
     "output_type": "stream",
     "text": [
      "Enter any number?:  885\n"
     ]
    },
    {
     "name": "stdout",
     "output_type": "stream",
     "text": [
      "Hello\n"
     ]
    }
   ],
   "source": [
    "num = int(input(\"Enter any number?: \"));\n",
    "if(num%5==0):\n",
    "    print(\"Hello\");\n",
    "else:\n",
    "    print(\"Bye\");\n",
    "    "
   ]
  },
  {
   "cell_type": "markdown",
   "id": "f21dd244-a1c6-46ae-9b2b-0d9e9e68b702",
   "metadata": {},
   "source": [
    "6. Write a program to display the last digit of a number."
   ]
  },
  {
   "cell_type": "code",
   "execution_count": 71,
   "id": "dbceda72-76fc-4860-b506-04a6fbd5cc87",
   "metadata": {},
   "outputs": [
    {
     "name": "stdout",
     "output_type": "stream",
     "text": [
      "Last digit of a given number is 9\n"
     ]
    }
   ],
   "source": [
    "num = 849223409;\n",
    "num %=10;\n",
    "print(f\"Last digit of a given number is {num}\")"
   ]
  },
  {
   "cell_type": "markdown",
   "id": "1a299714-fddd-4723-b162-9547888e51d8",
   "metadata": {},
   "source": [
    "7. Take values of length and breadth of a rectangle from user and print if it is square or rectangle."
   ]
  },
  {
   "cell_type": "code",
   "execution_count": 75,
   "id": "dcac29ed-c7ae-4469-95e4-ea77898fea21",
   "metadata": {},
   "outputs": [
    {
     "name": "stdin",
     "output_type": "stream",
     "text": [
      "Enter value for length:  5.5\n",
      "Enter value for breadth:  5.5\n"
     ]
    },
    {
     "name": "stdout",
     "output_type": "stream",
     "text": [
      "It is a square\n"
     ]
    }
   ],
   "source": [
    "length = float(input(\"Enter value for length: \"));\n",
    "breadth = float(input(\"Enter value for breadth: \"));\n",
    "if(length == breadth):\n",
    "    print(\"It is a square\");\n",
    "else:\n",
    "    print(\"It is a rectangle\");"
   ]
  },
  {
   "cell_type": "markdown",
   "id": "71a4fce2-5f94-44dd-a163-b419834bd54a",
   "metadata": {},
   "source": [
    "8. Take two int values from user and print greatest among them."
   ]
  },
  {
   "cell_type": "code",
   "execution_count": 78,
   "id": "f43a292f-ca50-4ae3-9f9b-e76e37e7bff3",
   "metadata": {},
   "outputs": [
    {
     "name": "stdin",
     "output_type": "stream",
     "text": [
      "Enter first number:  25\n",
      "Enter second number:  29\n"
     ]
    },
    {
     "name": "stdout",
     "output_type": "stream",
     "text": [
      "The greatest number is 29\n"
     ]
    }
   ],
   "source": [
    "num1 = int(input(\"Enter first number: \"));\n",
    "num2 = int(input(\"Enter second number: \"));\n",
    "if(num1>num2):\n",
    "    print(f\"The greatest number is {num1}\");\n",
    "else:\n",
    "    print(f\"The greatest number is {num2}\");"
   ]
  },
  {
   "cell_type": "markdown",
   "id": "f71ff9df-ad18-4568-a553-8c6554dff6da",
   "metadata": {},
   "source": [
    "9. A shop will give discount of 10% if the cost of purchased quantity is more than 1000. Ask user for quantity Suppose, one unit will cost 100. Judge and print total cost for user."
   ]
  },
  {
   "cell_type": "code",
   "execution_count": 82,
   "id": "f0a30401-3a3c-4c73-a76b-c745e48bcf74",
   "metadata": {},
   "outputs": [
    {
     "name": "stdin",
     "output_type": "stream",
     "text": [
      "Enter purchasing amount:  10000\n"
     ]
    },
    {
     "name": "stdout",
     "output_type": "stream",
     "text": [
      "Congrats! you got the 10% discount on your Rs.10000.0 purchase\n",
      "After deduction, now you have to pay only Rs.9000.0\n"
     ]
    }
   ],
   "source": [
    "purchasedQauntity =float (input(\"Enter purchasing amount: \"));\n",
    "if(purchasedQauntity > 1000):\n",
    "    print(f\"Congrats! you got the 10% discount on your Rs.{purchasedQauntity} purchase\");\n",
    "    print(f\"After deduction, now you have to pay only Rs.{purchasedQauntity-(purchasedQauntity*0.10)}\");\n",
    "else:\n",
    "    print(f\"Sorry you didn't get any discount, you have to pay exact Rs.{purchasedQauntity}\");"
   ]
  },
  {
   "cell_type": "markdown",
   "id": "68b1d4fe-7a5f-45a1-942f-9fb137580636",
   "metadata": {},
   "source": [
    "10. A school has following rules for grading system:\n",
    "\n",
    "a. Below 25 - F\n",
    "\n",
    "b. 25 to 45 - E\n",
    "\n",
    "c. 45 to 50 - D\n",
    "\n",
    "d. 50 to 60 - C\n",
    "\n",
    "e. 60 to 80 - B\n",
    "\n",
    "f. Above 80 - A\n",
    "\n",
    "Ask user to enter marks and print the corresponding grade."
   ]
  },
  {
   "cell_type": "code",
   "execution_count": 95,
   "id": "6e729e66-5729-45a9-8b82-47b8e083c952",
   "metadata": {},
   "outputs": [
    {
     "name": "stdin",
     "output_type": "stream",
     "text": [
      "Enter your marks:  80\n"
     ]
    },
    {
     "name": "stdout",
     "output_type": "stream",
     "text": [
      "Your grade is 'A'\n"
     ]
    }
   ],
   "source": [
    "marks = float(input(\"Enter your marks: \"));\n",
    "if(marks >=80):\n",
    "    print(\"Your grade is 'A'\");\n",
    "elif(marks>=60):\n",
    "    print(\"Your grade is 'B'\");\n",
    "elif(marks>=50):\n",
    "    print(\"Your grade is 'C'\");\n",
    "elif(marks>=45):\n",
    "    print(\"Your grade is 'D'\");\n",
    "elif(marks>=25):\n",
    "    print(\"Your grade is 'E'\");\n",
    "elif(marks<25):\n",
    "    print(\"Your grade is 'F'\");\n",
    "else:\n",
    "    print(\"Invalid grade\");\n",
    "\n",
    "\n"
   ]
  },
  {
   "cell_type": "markdown",
   "id": "3dc4a415-0447-47bc-9e3d-02bcf2cf7483",
   "metadata": {},
   "source": [
    "11. A student will not be allowed to sit in exam if his/her attendence is less than 75%.\n",
    "\n",
    "Take following input from user\n",
    "\n",
    "    - Number of classes held\n",
    "\n",
    "    - Number of classes attended.\n",
    "\n",
    "And print\n",
    "\n",
    "    - percentage of class attended\n",
    "\n",
    "    - Is student is allowed to sit in exam or not."
   ]
  },
  {
   "cell_type": "code",
   "execution_count": 100,
   "id": "538b5d4a-dd95-4123-9b2b-4b37973e443f",
   "metadata": {},
   "outputs": [
    {
     "name": "stdin",
     "output_type": "stream",
     "text": [
      "Enter totol number of classes:  14\n",
      "Enter number of classes you have attended so far:  8\n"
     ]
    },
    {
     "name": "stdout",
     "output_type": "stream",
     "text": [
      "Your Attendance percentage is 57.14.\n",
      " You are not allowed to sit in the exam\n"
     ]
    }
   ],
   "source": [
    "noOfClasses = int(input(\"Enter totol number of classes: \"));\n",
    "noOfClassesAttended = int(input(\"Enter number of classes you have attended so far: \"));\n",
    "percentageOfAttendedClasses = (noOfClassesAttended * 100)/noOfClasses\n",
    "if(percentageOfAttendedClasses < 75 ):\n",
    "    print(f\"Your Attendance percentage is {percentageOfAttendedClasses:.2f}.\\nYou are not allowed to sit in the exam\");\n",
    "else:\n",
    "    print(f\"Your Attendance percentage is {percentageOfAttendedClasses:.2f}.\\nYou are allowed to sit in the exam\");"
   ]
  },
  {
   "cell_type": "markdown",
   "id": "b70cbc7d-7ebe-472d-9252-adb6756da6a0",
   "metadata": {},
   "source": [
    "12. Modify the above question to allow student to sit if he/she has medical cause. Ask user if he/she has medical cause or not ( 'Y' or 'N' ) and print accordingly."
   ]
  },
  {
   "cell_type": "code",
   "execution_count": 114,
   "id": "568fed5e-116f-467c-a447-46348782649f",
   "metadata": {},
   "outputs": [
    {
     "name": "stdin",
     "output_type": "stream",
     "text": [
      "Enter totol number of classes:  14\n",
      "Enter number of classes you have attended so far:  10\n",
      "( 'Y' or 'N' ) if you have medical cause Y\n"
     ]
    },
    {
     "name": "stdout",
     "output_type": "stream",
     "text": [
      "Your Attendance percentage is 71.43.\n",
      "But you have a medical cause.\n",
      "That's why you are allowed to sit in the exam.\n"
     ]
    }
   ],
   "source": [
    "noOfClasses = int(input(\"Enter totol number of classes: \"));\n",
    "noOfClassesAttended = int(input(\"Enter number of classes you have attended so far: \"));\n",
    "medicalCause = input(\"( 'Y' or 'N' ) if you have medical cause\");\n",
    "\n",
    "percentageOfAttendedClasses = (noOfClassesAttended * 100)/noOfClasses\n",
    "if(percentageOfAttendedClasses < 75 and (medicalCause == 'n' or medicalCause == 'N')):\n",
    "    print(f\"Your Attendance percentage is {percentageOfAttendedClasses:.2f}.\\nYou don't have any medical cause.\\nSo you are not allowed to sit in the exam.\");\n",
    "elif((medicalCause == 'y' or medicalCause == 'Y') and percentageOfAttendedClasses < 75 ):\n",
    "    print(f\"Your Attendance percentage is {percentageOfAttendedClasses:.2f}.\\nBut you have a medical cause.\\nThat's why you are allowed to sit in the exam.\");\n",
    "else:\n",
    "    print(f\"Your Attendance percentage is {percentageOfAttendedClasses:.2f}.\\nYou are allowed to sit in the exam\");"
   ]
  },
  {
   "cell_type": "markdown",
   "id": "d8a5764c-55d3-493b-a92f-a07373ac89b3",
   "metadata": {},
   "source": [
    "13. Write a program to check if a year is leap year or not.\n",
    "If a year is divisible by 4 then it is leap year but if the year is century year like 2000, 1900, 2100 then it must be divisible by 400."
   ]
  },
  {
   "cell_type": "code",
   "execution_count": 130,
   "id": "06cced1b-0628-4ddb-83ce-4b3c013a76fb",
   "metadata": {},
   "outputs": [
    {
     "name": "stdin",
     "output_type": "stream",
     "text": [
      "Enter year you want to check whether it is leap or not:  2024\n"
     ]
    },
    {
     "name": "stdout",
     "output_type": "stream",
     "text": [
      "2024 is a leap year\n"
     ]
    }
   ],
   "source": [
    "year = int(input('Enter year you want to check whether it is leap or not: '));\n",
    "if(year % 4==0 and (not year%100 ==0 or year%400 ==0)):\n",
    "    print(f\"{year} is a leap year\");\n",
    "else:\n",
    "    print(f\"{year} is not a leap year\");\n",
    "    "
   ]
  },
  {
   "cell_type": "markdown",
   "id": "f4a6dfa5-49d8-47a2-8095-8ae119d410de",
   "metadata": {},
   "source": [
    "14. Ask user to enter age, gender ( M or F ), marital status ( Y or N ) and then using following rules print their place of service.\n",
    "\n",
    "if employee is female, then she will work only in urban areas.\n",
    "\n",
    "if employee is a male and age is in between 20 to 40 then he may work in anywhere\n",
    "\n",
    "if employee is male and age is in between 40 t0 60 then he will work in urban areas only.\n",
    "\n",
    "And any other input of age should print \"ERROR\""
   ]
  },
  {
   "cell_type": "code",
   "execution_count": 135,
   "id": "2b084af2-9ac8-4e36-b694-9687e1dc5bae",
   "metadata": {},
   "outputs": [
    {
     "name": "stdin",
     "output_type": "stream",
     "text": [
      "Enter your age:  25\n",
      "Enter your gender (M or F):  m\n",
      "Enter your marital status (Y or N):  y\n"
     ]
    },
    {
     "name": "stdout",
     "output_type": "stream",
     "text": [
      "You are male and your age is between 20 to 40, so you can work in anywhere\n"
     ]
    }
   ],
   "source": [
    "age = int(input(\"Enter your age: \"));\n",
    "gender = input(\"Enter your gender (M or F): \");\n",
    "maritalStatus = input(\"Enter your marital status (Y or N): \")\n",
    "if(gender == \"f\" or gender == \"F\" ):\n",
    "    print(\"You are female so you will only work in urban areas\");\n",
    "elif((gender == \"m\" or gender == \"M\") and (age>=20 and age<=40)):\n",
    "    print(\"You are male and your age is between 20 to 40, so you can work in anywhere\");\n",
    "elif((gender == \"m\" or gender == \"M\") and (age>=40 and age<=60)):\n",
    "    print(\"You are male and your age is between 40 to 60, so you can work only in urban areas\");\n",
    "else:\n",
    "    print(\"ERROR\");"
   ]
  },
  {
   "cell_type": "markdown",
   "id": "3b67fac6-4f84-42e1-8c4c-7d2a98e706bc",
   "metadata": {},
   "source": [
    "15. Write a program to calculate the electricity bill (accept number of unit from user) according to the following criteria : Unit Price\n",
    "uptp 100 units no charge Next 200 units Rs 5 per unit After 200 units Rs 10 per unit (For example if input unit is 350 than total bill amount is Rs.3500 (For example if input unit is 97 than total bill amount is Rs.0 (For example if input unit is 150 than total bill amount is Rs.750"
   ]
  },
  {
   "cell_type": "code",
   "execution_count": 140,
   "id": "73a0c2b2-d7d0-4a66-b33a-bbac0a10a5e7",
   "metadata": {},
   "outputs": [
    {
     "name": "stdin",
     "output_type": "stream",
     "text": [
      "Enter no.of consumed units:  205\n"
     ]
    },
    {
     "name": "stdout",
     "output_type": "stream",
     "text": [
      "Total bill amount is Rs.2050.0\n"
     ]
    }
   ],
   "source": [
    "noOfUnits = float(input(\"Enter no.of consumed units: \"));\n",
    "if(noOfUnits < 100):\n",
    "    print(\"Total bill amount is Rs.0\");\n",
    "elif(noOfUnits <= 200):\n",
    "    print(f\"Total bill amount is Rs.{noOfUnits*5}\");\n",
    "elif(noOfUnits > 200):\n",
    "    print(f\"Total bill amount is Rs.{noOfUnits*10}\");"
   ]
  },
  {
   "cell_type": "markdown",
   "id": "a1b59baf-8188-4569-8a03-6de0dbc77013",
   "metadata": {},
   "source": [
    "16. Take input of age of 3 people by user and determine oldest and youngest among them."
   ]
  },
  {
   "cell_type": "code",
   "execution_count": 148,
   "id": "88ddf46a-8b1b-4ce9-9bf6-e7066234560e",
   "metadata": {},
   "outputs": [
    {
     "name": "stdin",
     "output_type": "stream",
     "text": [
      "Enter the age of first person:  16\n",
      "Enter the age of second person:  14\n",
      "Enter the age of third person:  16\n"
     ]
    },
    {
     "name": "stdout",
     "output_type": "stream",
     "text": [
      "First and Third both are the oldest one!, whose age is 16\n",
      "Second person is the yougest one!, whose age is 14\n"
     ]
    }
   ],
   "source": [
    "person_1 = int(input(\"Enter the age of first person: \"));\n",
    "person_2 = int(input(\"Enter the age of second person: \"));\n",
    "person_3 = int(input(\"Enter the age of third person: \"));\n",
    "if(person_1 > person_2 and person_1>person_3):\n",
    "    print(f\"First person is the oldest one!, whose age is {person_1}.\");\n",
    "elif(person_2 > person_1 and person_2>person_3):\n",
    "    print(f\"Second person is the oldest one!, whose age is {person_2}\");\n",
    "elif(person_3 > person_1 and person_3>person_2):\n",
    "    print(f\"Third person is the oldest one!, whose age is {person_3}\");\n",
    "elif(person_1 == person_2 and person_2>person_3):\n",
    "    print(f\"First and Second both are the oldest one!, whose age is {person_3}\");\n",
    "elif(person_1 == person_3 and person_1>person_2):\n",
    "    print(f\"First and Third both are the oldest one!, whose age is {person_3}\");\n",
    "elif(person_2 == person_3 and person_2>person_1):\n",
    "    print(f\"Second and Third both are the oldest one!, whose age is {person_3}\");\n",
    "\n",
    "if(person_1 < person_2 and person_1<person_3):\n",
    "    print(f\"First person is the youngest one!, whose age is {person_1}.\");\n",
    "elif(person_2 < person_1 and person_2<person_3):\n",
    "    print(f\"Second person is the yougest one!, whose age is {person_2}\");\n",
    "elif(person_3 < person_1 and person_3< person_2):\n",
    "    print(f\"Third person is the youngest one!, whose age is {person_3}\");\n",
    "elif(person_1 == person_2 and person_2<person_3):\n",
    "    print(f\"First and Second both are the youngest one!, whose age is {person_3}\");\n",
    "elif(person_1 == person_3 and person_1<person_2):\n",
    "    print(f\"First and Third both are the youngest one!, whose age is {person_3}\");\n",
    "elif(person_2 == person_3 and person_2<person_1):\n",
    "    print(f\"Second and Third both are the youngest one!, whose age is {person_3}\");\n",
    "\n",
    "if(person_1==person_2 and person_2 == person_3):\n",
    "    print(f\"All persons have the same age that is {person_1}\")"
   ]
  },
  {
   "cell_type": "code",
   "execution_count": null,
   "id": "ee0fd697-83bf-4e69-a836-0eb739d3151d",
   "metadata": {},
   "outputs": [],
   "source": []
  }
 ],
 "metadata": {
  "kernelspec": {
   "display_name": "Python 3 (ipykernel)",
   "language": "python",
   "name": "python3"
  },
  "language_info": {
   "codemirror_mode": {
    "name": "ipython",
    "version": 3
   },
   "file_extension": ".py",
   "mimetype": "text/x-python",
   "name": "python",
   "nbconvert_exporter": "python",
   "pygments_lexer": "ipython3",
   "version": "3.11.7"
  }
 },
 "nbformat": 4,
 "nbformat_minor": 5
}
