{
 "cells": [
  {
   "cell_type": "markdown",
   "id": "a2126eb2-4d11-4bd8-ad5b-b1abe440f2a0",
   "metadata": {
    "jp-MarkdownHeadingCollapsed": true
   },
   "source": [
    "### Strings Assignment 03"
   ]
  },
  {
   "cell_type": "code",
   "execution_count": null,
   "id": "7f022624-c4ed-476c-a86d-daf76e38bfc9",
   "metadata": {},
   "outputs": [],
   "source": []
  },
  {
   "cell_type": "markdown",
   "id": "bf0f15d4-38a9-4012-81a0-2fe5228f4e50",
   "metadata": {},
   "source": [
    "1. Write a program that accepts a string from user. Your program should count and display number of \r\n",
    "vowels in that string. "
   ]
  },
  {
   "cell_type": "code",
   "execution_count": 1,
   "id": "d4966eb3-36ce-4668-8494-042934c9d5e3",
   "metadata": {},
   "outputs": [
    {
     "name": "stdin",
     "output_type": "stream",
     "text": [
      "Enter any string:  Hello Dear!\n"
     ]
    },
    {
     "name": "stdout",
     "output_type": "stream",
     "text": [
      "Number of vowels in that strings is 4\n"
     ]
    }
   ],
   "source": [
    "string = input('Enter any string: ')\n",
    "ls = ['a','e','i','o','u','A','E','I','O','U']\n",
    "count=0\n",
    "for str in range(len(string)):\n",
    "    if string[str] in ls:\n",
    "        count +=1\n",
    "\n",
    "print('Number of vowels in that strings is',count)"
   ]
  },
  {
   "cell_type": "code",
   "execution_count": null,
   "id": "64770349-0931-48ce-8b8e-a968a6b3fb42",
   "metadata": {},
   "outputs": [],
   "source": []
  },
  {
   "cell_type": "markdown",
   "id": "42759ab8-60db-484e-9cd3-5b940bc74064",
   "metadata": {},
   "source": [
    "2. Write a program that reads a string from keyboard and display: \n",
    "* The number of uppercase letters in the string \n",
    "* The number of lowercase letters in the string \n",
    "* The number of digits in the string \n",
    "* The number of whitespace characters in the string \n"
   ]
  },
  {
   "cell_type": "code",
   "execution_count": 5,
   "id": "6ad3f4f6-7ea5-4b12-9a55-368322adda2c",
   "metadata": {},
   "outputs": [
    {
     "name": "stdin",
     "output_type": "stream",
     "text": [
      "Enter any string:  Hello Dawood Shaikh, my age is 19 yrs Old.\n"
     ]
    },
    {
     "name": "stdout",
     "output_type": "stream",
     "text": [
      "Number of lowerCase letters are 26.\n",
      "        Number of upperCase letter are 4.\n",
      "        Number of digits are 2.\n",
      "        Number of whitespaces are 8.\n"
     ]
    }
   ],
   "source": [
    "string = input('Enter any string: ')\n",
    "\n",
    "lowerCount = 0\n",
    "upperCount = 0\n",
    "digitCount = 0\n",
    "whitespaceCount = 0\n",
    "for str in range(len(string)):\n",
    "    if string[str].islower() == True:\n",
    "        lowerCount +=1\n",
    "    elif string[str].isupper() == True:\n",
    "        upperCount +=1\n",
    "    elif string[str].isdigit() == True:\n",
    "        digitCount +=1\n",
    "    elif string[str] == ' ' or string[str].isspace == True:\n",
    "        whitespaceCount +=1\n",
    "        \n",
    "\n",
    "print(f'Number of lowerCase letters are {lowerCount}.\\n\\\n",
    "        Number of upperCase letter are {upperCount}.\\n\\\n",
    "        Number of digits are {digitCount}.\\n\\\n",
    "        Number of whitespaces are {whitespaceCount}.')"
   ]
  },
  {
   "cell_type": "code",
   "execution_count": null,
   "id": "9e5cc6b6-b3b1-4d57-9612-76833e30ed28",
   "metadata": {},
   "outputs": [],
   "source": []
  },
  {
   "cell_type": "markdown",
   "id": "334eeb51-1229-4e96-9b2c-682a61d931bf",
   "metadata": {},
   "source": [
    " 3. Write a Python program that accepts a string from user. Your program should create and display a \n",
    "new string where the first and last characters have been exchanged.\n",
    " - For example if the user enters the string 'HELLO' then new string would be 'OELLH' "
   ]
  },
  {
   "cell_type": "code",
   "execution_count": 17,
   "id": "7e156680-0d01-48d1-86cf-504ce1aed7fc",
   "metadata": {},
   "outputs": [
    {
     "name": "stdin",
     "output_type": "stream",
     "text": [
      "Enter any string:  Dawood Shaikh\n"
     ]
    },
    {
     "name": "stdout",
     "output_type": "stream",
     "text": [
      "String after exchaning first and last character.\n",
      " hawood ShaikD\n"
     ]
    }
   ],
   "source": [
    "string = input('Enter any string: ')\n",
    "ls=[]\n",
    "lengthOfString = len(string)\n",
    "for count in range(lengthOfString):\n",
    "    ls.append(string[count])\n",
    "\n",
    "lastChar = ls[0]\n",
    "for count in range(len(ls)):\n",
    "    if count == 0:\n",
    "        ls[count] = ls[len(ls)-1]\n",
    "    elif count == len(ls)-1:\n",
    "        ls[count] = lastChar\n",
    "\n",
    "\n",
    "print('String after exchaning first and last character.\\n',''.join(ls))"
   ]
  },
  {
   "cell_type": "code",
   "execution_count": null,
   "id": "ba152d93-7046-463e-9649-1c5291405901",
   "metadata": {},
   "outputs": [],
   "source": []
  },
  {
   "cell_type": "markdown",
   "id": "db79d388-798a-424b-96af-63a3b05172c1",
   "metadata": {},
   "source": [
    "4. Write a Python program that accepts a string from user. Your program should create a new string in \n",
    "reverse of first string and display it. \n",
    "For example if the user enters the string 'EXAM' then new string would be 'MAXE'"
   ]
  },
  {
   "cell_type": "code",
   "execution_count": 23,
   "id": "c13b7664-f2b6-4b4f-977b-09fb8deb231c",
   "metadata": {},
   "outputs": [
    {
     "name": "stdin",
     "output_type": "stream",
     "text": [
      "Enter any string:  Dawood\n"
     ]
    },
    {
     "name": "stdout",
     "output_type": "stream",
     "text": [
      "Reversed string is:  doowaD\n"
     ]
    }
   ],
   "source": [
    "string = input('Enter any string: ')\n",
    "ls=[]\n",
    "for count in range(len(string)-1,-1,-1):\n",
    "    ls.append(string[count])\n",
    "\n",
    "print(f'Reversed string is: ',''.join(ls))"
   ]
  },
  {
   "cell_type": "code",
   "execution_count": null,
   "id": "51e1cdaa-4293-467d-8fa4-0688dac1fdf4",
   "metadata": {},
   "outputs": [],
   "source": []
  },
  {
   "cell_type": "markdown",
   "id": "a9250c4e-debf-46d3-831b-99fb8ed1754f",
   "metadata": {},
   "source": [
    "5. Write a Python program that accepts a string from user. Your program should create a new string by \n",
    "shifting one position to left. \n",
    "For example if the user enters the string 'examination 2021' then new string would be 'xamination \n",
    "2021e' \n"
   ]
  },
  {
   "cell_type": "markdown",
   "id": "ae8f2e69-46b6-4e35-b89a-9f252b281a98",
   "metadata": {},
   "source": [
    "string = input('Enter any string: ')\n",
    "ls=[]\n",
    "for num in range(len(string)):\n",
    "    if num != 0:\n",
    "        ls.append(string[num])\n",
    "\n",
    "for num in range(len(string)):\n",
    "    if num == len(string)-1:\n",
    "        ls.append(string[0])\n",
    "\n",
    "print(f'Shifted one left string is: ', ''.join(ls))\n",
    "\n",
    "\n",
    "\n",
    "        "
   ]
  },
  {
   "cell_type": "code",
   "execution_count": null,
   "id": "729797da-1bc1-4bfd-b6e2-67c520f69620",
   "metadata": {},
   "outputs": [],
   "source": []
  },
  {
   "cell_type": "markdown",
   "id": "84ca136a-8ed1-4cb9-9be9-4d198849c757",
   "metadata": {},
   "source": [
    "6. Write a program that asks the user to input his name and print its initials. Assuming that the user \n",
    "always types first name, middle name and last name and does not include any unnecessary spaces. \n",
    "For example, if the user enters Ajay Kumar Garg the program should display A. K. G. \n",
    "Note:Don't use split() method "
   ]
  },
  {
   "cell_type": "code",
   "execution_count": 49,
   "id": "b1de1104-8fa5-4aac-af13-e542cbbf7799",
   "metadata": {},
   "outputs": [
    {
     "name": "stdin",
     "output_type": "stream",
     "text": [
      "Enter any string:  Dawood Shaikh Shaikh\n"
     ]
    },
    {
     "name": "stdout",
     "output_type": "stream",
     "text": [
      "Starting letters are:  D.S.S.\n"
     ]
    }
   ],
   "source": [
    "string = input('Enter any string: ')\n",
    "ls=[]\n",
    "for count in range(len(string)):\n",
    "    if string[count] == ' ':\n",
    "        ls.append(string[count+1]+'.')\n",
    "    elif count == 0:\n",
    "        ls.append(string[count]+'.')\n",
    "\n",
    "print(f'Starting letters are: ', ''.join(ls))"
   ]
  },
  {
   "cell_type": "code",
   "execution_count": null,
   "id": "67e10521-b514-4cf3-b63a-8efa68373693",
   "metadata": {},
   "outputs": [],
   "source": []
  },
  {
   "cell_type": "markdown",
   "id": "6dafcd2f-6b19-410d-90dd-160f042a9994",
   "metadata": {},
   "source": [
    "7. A palindrome is a string that reads the same backward as forward. For example, the words dad, \n",
    "madam and radar are all palindromes. Write a programs that determines whether the string is a \n",
    "palindrome. \n",
    "Note: do not use reverse() method"
   ]
  },
  {
   "cell_type": "code",
   "execution_count": 55,
   "id": "960c646a-4dc9-4728-b6f3-c23ff497c6cd",
   "metadata": {},
   "outputs": [
    {
     "name": "stdin",
     "output_type": "stream",
     "text": [
      "Enter any string:  maham\n"
     ]
    },
    {
     "name": "stdout",
     "output_type": "stream",
     "text": [
      "Your string is a palindrome\n"
     ]
    }
   ],
   "source": [
    "string = input('Enter any string: ')\n",
    "ls1=[]\n",
    "ls2=[]\n",
    "for count in range(len(string)):\n",
    "    ls1.append(string[count])\n",
    "\n",
    "for count in range(len(string)-1, -1, -1):\n",
    "    ls2.append(string[count])\n",
    "\n",
    "if ls1 == ls2:\n",
    "    print('Your string is a palindrome')\n",
    "else:\n",
    "    print('Not a palindrome string')"
   ]
  },
  {
   "cell_type": "code",
   "execution_count": null,
   "id": "01551560-37b6-4297-b3db-af8aa2331e30",
   "metadata": {},
   "outputs": [],
   "source": []
  },
  {
   "cell_type": "markdown",
   "id": "94b1a64e-175a-428c-bf1c-ac083b3fb849",
   "metadata": {},
   "source": [
    "8. Write a program that display following output: \n",
    "- SHIFT \n",
    "- HIFTS \n",
    "- IFTSH \n",
    "- FTSHI \n",
    "- TSHIF \n",
    "- SHIFT"
   ]
  },
  {
   "cell_type": "code",
   "execution_count": 7,
   "id": "67a014de-5b08-42f0-8678-b4e618be8a23",
   "metadata": {},
   "outputs": [
    {
     "name": "stdin",
     "output_type": "stream",
     "text": [
      "Enter any string:  SHIFT\n"
     ]
    },
    {
     "name": "stdout",
     "output_type": "stream",
     "text": [
      "SHIFT\n",
      "HIFTS\n",
      "IFTSH\n",
      "FTSHI\n",
      "TSHIF\n",
      "SHIFT\n"
     ]
    }
   ],
   "source": [
    "string = input('Enter any string: ')\n",
    "str = string\n",
    "ls = []\n",
    "i = 0\n",
    "\n",
    "print(string)\n",
    "while True:\n",
    "    for num in range(len(string)):\n",
    "        if num == 0:\n",
    "            continue    \n",
    "        ls.append(str[num])\n",
    "        if num == len(str)-1:\n",
    "            ls.append(str[0])    \n",
    "        \n",
    "    str = ''.join(ls)\n",
    "    print(str)\n",
    "    ls = []\n",
    "    i+=1\n",
    "    if i==len(string):\n",
    "        break\n",
    "    "
   ]
  },
  {
   "cell_type": "code",
   "execution_count": null,
   "id": "a8ef5ce3-84fe-475e-891e-45a592a7c3d8",
   "metadata": {},
   "outputs": [],
   "source": []
  },
  {
   "cell_type": "markdown",
   "id": "9fe8b840-5999-43f0-908a-1a97abcf3f89",
   "metadata": {},
   "source": [
    " 9. Write a program in python that accepts a string to setup a passwords. Your entered password must \n",
    "    meet the following requirements:\n",
    "- The password must be at least eight characters long. \r",
    "- \n",
    "It must contain at least one uppercase letter. - \r\n",
    "It must contain at least one lowercase letter.-  \r\n",
    "It must contain at least one numeric digit- . \r\n",
    "Your program should should perform this validation.\n"
   ]
  },
  {
   "cell_type": "code",
   "execution_count": 60,
   "id": "a3c2865a-1405-4659-b04b-519a863b75fd",
   "metadata": {},
   "outputs": [
    {
     "name": "stdin",
     "output_type": "stream",
     "text": [
      "Input string to setup your account's password Dawood098\n"
     ]
    },
    {
     "name": "stdout",
     "output_type": "stream",
     "text": [
      "Great! you setup  a strong password for your account\n"
     ]
    }
   ],
   "source": [
    "str = input('Input string to setup your account\\'s password')\n",
    "\n",
    "uppercaseFlag = 0\n",
    "lowercaseFlag = 0\n",
    "digitFlag = 0\n",
    "lengthFlag = 0\n",
    "\n",
    "for num in range(len(str)):\n",
    "    if str[num].islower() == True:\n",
    "        uppercaseFlag = 1\n",
    "    if str[num].isupper() == True:\n",
    "        lowercaseFlag = 1\n",
    "    if str[num].isdigit() == True:\n",
    "        digitFlag = 1\n",
    "    if num >= 7:\n",
    "        lengthFlag =1\n",
    "\n",
    "\n",
    "if uppercaseFlag == lowercaseFlag == digitFlag == lengthFlag == True:\n",
    "    print('Great! you setup  a strong password for your account')\n",
    "\n",
    "else:\n",
    "    print('Not a strong password')"
   ]
  },
  {
   "cell_type": "markdown",
   "id": "a3ee73fb-847e-4812-98ae-1a795032c4dc",
   "metadata": {},
   "source": [
    "### Lists Assignment 04"
   ]
  },
  {
   "cell_type": "code",
   "execution_count": null,
   "id": "50c5fd4e-a04d-463c-84a1-2c7b47bb05e1",
   "metadata": {},
   "outputs": [],
   "source": []
  },
  {
   "cell_type": "markdown",
   "id": "d55dee4d-d28a-4f33-bf50-a03a6c4d7704",
   "metadata": {},
   "source": [
    "1. Write a program that accepts a list from user and print the alternate element of list."
   ]
  },
  {
   "cell_type": "code",
   "execution_count": 62,
   "id": "9305bf23-597b-4b1f-a688-ef6d40eb9e06",
   "metadata": {},
   "outputs": [
    {
     "name": "stdin",
     "output_type": "stream",
     "text": [
      "Enter elements of the list separated by space:  1 2 3 4 5 6 7 8 9\n"
     ]
    },
    {
     "name": "stdout",
     "output_type": "stream",
     "text": [
      "Alternate elements of the list are:\n",
      "1\n",
      "3\n",
      "5\n",
      "7\n",
      "9\n"
     ]
    }
   ],
   "source": [
    "str = input(\"Enter elements of the list separated by space: \")\n",
    "\n",
    "str_list = str.split()\n",
    "print(\"Alternate elements of the list are:\")\n",
    "for i in range(0, len(str_list), 2):\n",
    "    print(str_list[i])\n"
   ]
  },
  {
   "cell_type": "code",
   "execution_count": null,
   "id": "47c859e1-e2ec-4cdc-9d6c-42b213f2671d",
   "metadata": {},
   "outputs": [],
   "source": []
  },
  {
   "cell_type": "markdown",
   "id": "19b93b50-221a-44b2-88ea-d28c8cf5e013",
   "metadata": {},
   "source": [
    "2. Write a program that accepts a list from user. Your program should reverse the content of list and \n",
    "display it. Do not use reverse() method. "
   ]
  },
  {
   "cell_type": "code",
   "execution_count": 72,
   "id": "707a11da-1db6-4808-9f73-6e4add54c27a",
   "metadata": {},
   "outputs": [
    {
     "name": "stdin",
     "output_type": "stream",
     "text": [
      "Enter elements of the list separated by space:  1 2 3 4 5\n"
     ]
    },
    {
     "name": "stdout",
     "output_type": "stream",
     "text": [
      "Reversed content of the list is:\n",
      "5\n",
      "4\n",
      "3\n",
      "2\n",
      "1\n"
     ]
    }
   ],
   "source": [
    "str = input(\"Enter elements of the list separated by space: \")\n",
    "\n",
    "str_list = str.split()\n",
    "\n",
    "print(\"Reversed content of the list is:\")\n",
    "for num in range(len(str_list)-1, -1, -1):\n",
    "    print(str_list[num])\n"
   ]
  },
  {
   "cell_type": "code",
   "execution_count": null,
   "id": "ebcec353-57d7-45b8-9fdf-eeff13a5d787",
   "metadata": {},
   "outputs": [],
   "source": []
  },
  {
   "cell_type": "markdown",
   "id": "1b6cb6e3-0391-40bd-82c5-ffa8f8d3cc4b",
   "metadata": {},
   "source": [
    "3. Find and display the largest number of a list without using built-in function max(). Your program \n",
    "should ask the user to input values in list from keyboard. "
   ]
  },
  {
   "cell_type": "code",
   "execution_count": 87,
   "id": "97a2d75c-2775-42ae-a7b5-f5d3e6cd4ab8",
   "metadata": {},
   "outputs": [
    {
     "name": "stdin",
     "output_type": "stream",
     "text": [
      "Enter numbers in the list separated by space:  11 54 24 89 1 52\n"
     ]
    },
    {
     "name": "stdout",
     "output_type": "stream",
     "text": [
      "Largest number from the give list is: \n",
      "89\n"
     ]
    }
   ],
   "source": [
    "str = input(\"Enter numbers in the list separated by space: \")\n",
    "ls=[]\n",
    "\n",
    "ls = str.split()\n",
    "\n",
    "print(\"Largest number from the give list is: \")\n",
    "checker=0\n",
    "for num in range(len(ls)):\n",
    "    if checker < int(ls[num]):\n",
    "        checker = int(ls[num])\n",
    "\n",
    "print(checker)\n"
   ]
  },
  {
   "cell_type": "code",
   "execution_count": null,
   "id": "946bc2b9-2696-465e-8385-144c535ffb9d",
   "metadata": {},
   "outputs": [],
   "source": []
  },
  {
   "cell_type": "markdown",
   "id": "eaf5e4d1-cbc0-4739-96af-73705ac8ff90",
   "metadata": {},
   "source": [
    " 4. Write a program that rotates the element of a list so that the element at the first index moves to the \n",
    "second index, the element in the second index moves to the third index, etc., and the element in the last \n",
    "index moves to the first index. \n"
   ]
  },
  {
   "cell_type": "code",
   "execution_count": 96,
   "id": "4ff80f5e-487e-4b1a-8d43-c3e5b0176643",
   "metadata": {},
   "outputs": [
    {
     "name": "stdout",
     "output_type": "stream",
     "text": [
      "[5, 1, 2, 3, 4]\n"
     ]
    }
   ],
   "source": [
    "new_list=[]\n",
    "ls = [1,2,3,4,5]\n",
    "new_list.insert(0,ls.pop())\n",
    "\n",
    "for num in range(len(ls)):\n",
    "    if num != len(ls):\n",
    "        new_list.append(ls[num])\n",
    "\n",
    "\n",
    "print(new_list)\n",
    "\n"
   ]
  },
  {
   "cell_type": "code",
   "execution_count": null,
   "id": "9ce84327-dd89-4b96-9b86-bdc742a15b04",
   "metadata": {},
   "outputs": [],
   "source": []
  },
  {
   "cell_type": "markdown",
   "id": "48b070b1-ac4c-4c35-995f-9182b92b028d",
   "metadata": {},
   "source": [
    "5. Write a program that input a string and ask user to delete a given word from a string. \n"
   ]
  },
  {
   "cell_type": "code",
   "execution_count": 102,
   "id": "4ac24ae9-955a-4a79-ac49-b315b80a4660",
   "metadata": {},
   "outputs": [
    {
     "name": "stdin",
     "output_type": "stream",
     "text": [
      "Enter any string:  hello Hey Mr. Dawood Shaikh\n",
      "Which word you want to delete from the string? hello\n"
     ]
    },
    {
     "name": "stdout",
     "output_type": "stream",
     "text": [
      "New string is: \n",
      "Hey Mr. Dawood Shaikh\n"
     ]
    }
   ],
   "source": [
    "str = input('Enter any string: ')\n",
    "\n",
    "word = input('Which word you want to delete from the string?')\n",
    "\n",
    "str_list = str.split()\n",
    "\n",
    "if word in str_list:\n",
    "    str_list.remove(str_list[str_list.index(word)])\n",
    "    str = ' '.join(str_list)\n",
    "    print('New string is: ')\n",
    "    print(str)\n",
    "\n",
    "else:\n",
    "    print('The word isn\\'t available in the string')"
   ]
  },
  {
   "cell_type": "code",
   "execution_count": null,
   "id": "e4a78d8a-78d4-4aee-abff-f1ddccd8075e",
   "metadata": {},
   "outputs": [],
   "source": []
  },
  {
   "cell_type": "markdown",
   "id": "bd072986-a137-4994-8775-14dbb14d7f19",
   "metadata": {},
   "source": [
    " 6. Write a program that reads a string from the user containing a date in the form mm/dd/yyyy. It \n",
    "should print the date in the form March 12, 2021."
   ]
  },
  {
   "cell_type": "code",
   "execution_count": 118,
   "id": "235c2991-723c-4489-b485-92c9995c5871",
   "metadata": {},
   "outputs": [
    {
     "name": "stdin",
     "output_type": "stream",
     "text": [
      "Enter a date in the form mm/dd/yyyy:  01/01/2005\n"
     ]
    },
    {
     "name": "stdout",
     "output_type": "stream",
     "text": [
      "January 1, 2005\n"
     ]
    }
   ],
   "source": [
    "months = [\"January\", \"February\", \"March\", \"April\", \"May\", \"June\", \n",
    "          \"July\", \"August\", \"September\", \"October\", \"November\", \"December\"]\n",
    "date_input = input(\"Enter a date in the form mm/dd/yyyy: \")\n",
    "month, day, year = date_input.split('/')\n",
    "month_name = months[int(month) - 1]\n",
    "print(f\"{month_name} {int(day)}, {year}\")\n"
   ]
  },
  {
   "cell_type": "code",
   "execution_count": null,
   "id": "6967186d-ebd4-4158-bc7c-61cee3906930",
   "metadata": {},
   "outputs": [],
   "source": []
  },
  {
   "cell_type": "markdown",
   "id": "d1643ae7-d4af-4d32-ad7b-6b4827753f74",
   "metadata": {},
   "source": [
    "7. Write a program with a function that accepts a string from keyboard and create a new string after \n",
    "converting character of each word capitalized. For instance, if the sentence is \"stop and smell the roses.\" \n",
    "the output should be \"Stop And Smell The Roses\""
   ]
  },
  {
   "cell_type": "code",
   "execution_count": 134,
   "id": "133f4058-56e7-4d14-9836-dcfa8aba3165",
   "metadata": {},
   "outputs": [
    {
     "name": "stdin",
     "output_type": "stream",
     "text": [
      "Enter any string:  hello mr. dawood shaikh\n"
     ]
    },
    {
     "name": "stdout",
     "output_type": "stream",
     "text": [
      "New string: \n",
      "Hello Mr. Dawood Shaikh\n"
     ]
    }
   ],
   "source": [
    "str = input('Enter any string: ')\n",
    "ls = str.split()\n",
    "new_ls = []\n",
    "#print(ls)\n",
    "for num in range(len(ls)):\n",
    "    new_ls.append(ls[num].title())\n",
    "\n",
    "str = ' '.join(new_ls)\n",
    "\n",
    "print('New string: ')\n",
    "print(str)\n",
    "        \n",
    "    "
   ]
  },
  {
   "cell_type": "code",
   "execution_count": null,
   "id": "fb6288ae-8fed-490e-9a4e-825cb86d2272",
   "metadata": {},
   "outputs": [],
   "source": []
  },
  {
   "cell_type": "markdown",
   "id": "20fdacc6-408c-4d69-96bb-8906344ed355",
   "metadata": {},
   "source": [
    "8. Find the sum of each row of matrix of size m x n. For example for the following matrix output will be \n",
    "like this :\n",
    "- 2 11 7 12\n",
    "- 5  2 9 15\n",
    "- 8 3 10 42\n",
    "\n",
    "- Sum of row 1 = 32 \n",
    "- Sum of row 2 = 31 \n",
    "- Sum of row 3 = 63 "
   ]
  },
  {
   "cell_type": "code",
   "execution_count": 162,
   "id": "5b9b0b57-e964-44df-9db8-67baee3bf4f4",
   "metadata": {},
   "outputs": [
    {
     "name": "stdout",
     "output_type": "stream",
     "text": [
      "[1, 1, 1]\n",
      "[2, 2, 2]\n",
      "[3, 3, 3]\n",
      "\n",
      "Sum of row 1: 3\n",
      "Sum of row 2: 6\n",
      "Sum of row 3: 9\n"
     ]
    }
   ],
   "source": [
    "matrix = [\n",
    "    [1,1,1],\n",
    "    [2,2,2],\n",
    "    [3,3,3]\n",
    "]\n",
    "row = 0\n",
    "i = 1\n",
    "print(matrix[0])\n",
    "print(matrix[1])\n",
    "print(matrix[2])\n",
    "print()\n",
    "for num in range(len(matrix)):\n",
    "    for index in range(len(matrix[num])):\n",
    "        row += matrix[num][index]\n",
    "\n",
    "    print(f'Sum of row {i}: {row}')\n",
    "    i+=1\n",
    "    row=0"
   ]
  },
  {
   "cell_type": "code",
   "execution_count": null,
   "id": "434edc71-23dc-4782-b340-3ab3c384acce",
   "metadata": {},
   "outputs": [],
   "source": []
  },
  {
   "cell_type": "markdown",
   "id": "0afa9298-1149-4a39-9ba4-bcfdf6a7c0d5",
   "metadata": {},
   "source": [
    "9. Write a program to add two matrices of size n x m."
   ]
  },
  {
   "cell_type": "code",
   "execution_count": 171,
   "id": "95ac8cdd-b4ca-48ff-8a95-d2190fa770e6",
   "metadata": {},
   "outputs": [
    {
     "name": "stdout",
     "output_type": "stream",
     "text": [
      "MATRIX 01\n",
      "[1, 1, 1]\n",
      "[1, 1, 1]\n",
      "[1, 1, 1]\n",
      "\n",
      "MATRIX 02\n",
      "[2, 2, 2]\n",
      "[2, 2, 2]\n",
      "[2, 2, 1]\n",
      "\n",
      "Added Matrix 03\n",
      "[3, 3, 3]\n",
      "[3, 3, 3]\n",
      "[3, 3, 2]\n"
     ]
    }
   ],
   "source": [
    "matrix1 = [\n",
    "    [1,1,1],\n",
    "    [1,1,1],\n",
    "    [1,1,1]\n",
    "]\n",
    "matrix2 = [\n",
    "    [2,2,2],\n",
    "    [2,2,2],\n",
    "    [2,2,1]\n",
    "]\n",
    "matrix3=[]\n",
    "row = 0\n",
    "i = 1\n",
    "print('MATRIX 01')\n",
    "print(matrix1[0])\n",
    "print(matrix1[1])\n",
    "print(matrix1[2])\n",
    "print()\n",
    "print('MATRIX 02')\n",
    "print(matrix2[0])\n",
    "print(matrix2[1])\n",
    "print(matrix2[2])\n",
    "print()\n",
    "\n",
    "if len(matrix1) == len(matrix2):\n",
    "    if len(matrix1[0]) == len(matrix2[0]):\n",
    "        if len(matrix1[1]) == len(matrix2[1]):\n",
    "            if len(matrix1[2]) == len(matrix2[2]):\n",
    "                print('Added Matrix 03')\n",
    "                for num in range(len(matrix1)):\n",
    "                    for index in range(len(matrix1[num])):\n",
    "                        matrix3.append(matrix1[num][index] + matrix2[num][index])\n",
    "                    print(matrix3)\n",
    "                    matrix3=[]\n",
    "                        \n",
    "\n",
    "            \n",
    "            else:\n",
    "                print('Addition isn\\'t possible')\n",
    "        else:\n",
    "                print('Addition isn\\'t possible')\n",
    "    else:\n",
    "                print('Addition isn\\'t possible')\n",
    "\n",
    "else:\n",
    "                print('Addition isn\\'t possible')\n"
   ]
  },
  {
   "cell_type": "code",
   "execution_count": null,
   "id": "cb7476c1-ee74-4243-9e56-4e0f958731e2",
   "metadata": {},
   "outputs": [],
   "source": []
  },
  {
   "cell_type": "markdown",
   "id": "25eb02c3-c3fc-4f5b-ba3f-3427d4da5917",
   "metadata": {},
   "source": [
    "10. Write a program to multiply two matrices"
   ]
  },
  {
   "cell_type": "code",
   "execution_count": 173,
   "id": "5df657d6-0a9f-4ad6-ab79-59d2e0179aa9",
   "metadata": {},
   "outputs": [
    {
     "name": "stdout",
     "output_type": "stream",
     "text": [
      "[58, 64]\n",
      "[139, 154]\n"
     ]
    }
   ],
   "source": [
    "def multiply_matrices(A, B):\n",
    "    # Number of rows in the first matrix\n",
    "    rows_A = len(A)\n",
    "    # Number of columns in the first matrix (and rows in the second matrix)\n",
    "    cols_A = len(A[0])\n",
    "    # Number of columns in the second matrix\n",
    "    cols_B = len(B[0])\n",
    "\n",
    "    # Initialize the result matrix with zeros\n",
    "    result = [[0 for _ in range(cols_B)] for _ in range(rows_A)]\n",
    "\n",
    "    # Perform matrix multiplication\n",
    "    for i in range(rows_A):\n",
    "        for j in range(cols_B):\n",
    "            for k in range(cols_A):\n",
    "                result[i][j] += A[i][k] * B[k][j]\n",
    "    \n",
    "    return result\n",
    "    \n",
    "A = [\n",
    "    [1, 2, 3],\n",
    "    [4, 5, 6]\n",
    "]\n",
    "\n",
    "B = [\n",
    "    [7, 8],\n",
    "    [9, 10],\n",
    "    [11, 12]\n",
    "]\n",
    "\n",
    "# Multiply matrices\n",
    "result = multiply_matrices(A, B)\n",
    "\n",
    "# Print the result\n",
    "for row in result:\n",
    "    print(row)\n"
   ]
  },
  {
   "cell_type": "code",
   "execution_count": null,
   "id": "22f0a3b8-485c-40dc-a9b5-c9baf93d87cd",
   "metadata": {},
   "outputs": [],
   "source": [
    "    "
   ]
  }
 ],
 "metadata": {
  "kernelspec": {
   "display_name": "Python 3 (ipykernel)",
   "language": "python",
   "name": "python3"
  },
  "language_info": {
   "codemirror_mode": {
    "name": "ipython",
    "version": 3
   },
   "file_extension": ".py",
   "mimetype": "text/x-python",
   "name": "python",
   "nbconvert_exporter": "python",
   "pygments_lexer": "ipython3",
   "version": "3.11.7"
  }
 },
 "nbformat": 4,
 "nbformat_minor": 5
}
