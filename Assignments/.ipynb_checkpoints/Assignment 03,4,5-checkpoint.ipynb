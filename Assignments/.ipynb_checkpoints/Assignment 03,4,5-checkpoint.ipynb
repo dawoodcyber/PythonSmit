{
 "cells": [
  {
   "cell_type": "markdown",
   "id": "a2126eb2-4d11-4bd8-ad5b-b1abe440f2a0",
   "metadata": {},
   "source": [
    "### Strings Assignment 03"
   ]
  },
  {
   "cell_type": "markdown",
   "id": "bf0f15d4-38a9-4012-81a0-2fe5228f4e50",
   "metadata": {},
   "source": [
    "1. Write a program that accepts a string from user. Your program should count and display number of \r\n",
    "vowels in that string. "
   ]
  },
  {
   "cell_type": "code",
   "execution_count": 1,
   "id": "d4966eb3-36ce-4668-8494-042934c9d5e3",
   "metadata": {},
   "outputs": [
    {
     "name": "stdin",
     "output_type": "stream",
     "text": [
      "Enter any string:  Hello Dear!\n"
     ]
    },
    {
     "name": "stdout",
     "output_type": "stream",
     "text": [
      "Number of vowels in that strings is 4\n"
     ]
    }
   ],
   "source": [
    "string = input('Enter any string: ')\n",
    "ls = ['a','e','i','o','u','A','E','I','O','U']\n",
    "count=0\n",
    "for str in range(len(string)):\n",
    "    if string[str] in ls:\n",
    "        count +=1\n",
    "\n",
    "print('Number of vowels in that strings is',count)"
   ]
  },
  {
   "cell_type": "code",
   "execution_count": null,
   "id": "64770349-0931-48ce-8b8e-a968a6b3fb42",
   "metadata": {},
   "outputs": [],
   "source": []
  },
  {
   "cell_type": "markdown",
   "id": "42759ab8-60db-484e-9cd3-5b940bc74064",
   "metadata": {},
   "source": [
    "2. Write a program that reads a string from keyboard and display: \n",
    "* The number of uppercase letters in the string \n",
    "* The number of lowercase letters in the string \n",
    "* The number of digits in the string \n",
    "* The number of whitespace characters in the string \n"
   ]
  },
  {
   "cell_type": "code",
   "execution_count": 5,
   "id": "6ad3f4f6-7ea5-4b12-9a55-368322adda2c",
   "metadata": {},
   "outputs": [
    {
     "name": "stdin",
     "output_type": "stream",
     "text": [
      "Enter any string:  Hello Dawood Shaikh, my age is 19 yrs Old.\n"
     ]
    },
    {
     "name": "stdout",
     "output_type": "stream",
     "text": [
      "Number of lowerCase letters are 26.\n",
      "        Number of upperCase letter are 4.\n",
      "        Number of digits are 2.\n",
      "        Number of whitespaces are 8.\n"
     ]
    }
   ],
   "source": [
    "string = input('Enter any string: ')\n",
    "\n",
    "lowerCount = 0\n",
    "upperCount = 0\n",
    "digitCount = 0\n",
    "whitespaceCount = 0\n",
    "for str in range(len(string)):\n",
    "    if string[str].islower() == True:\n",
    "        lowerCount +=1\n",
    "    elif string[str].isupper() == True:\n",
    "        upperCount +=1\n",
    "    elif string[str].isdigit() == True:\n",
    "        digitCount +=1\n",
    "    elif string[str] == ' ' or string[str].isspace == True:\n",
    "        whitespaceCount +=1\n",
    "        \n",
    "\n",
    "print(f'Number of lowerCase letters are {lowerCount}.\\n\\\n",
    "        Number of upperCase letter are {upperCount}.\\n\\\n",
    "        Number of digits are {digitCount}.\\n\\\n",
    "        Number of whitespaces are {whitespaceCount}.')"
   ]
  },
  {
   "cell_type": "code",
   "execution_count": null,
   "id": "9e5cc6b6-b3b1-4d57-9612-76833e30ed28",
   "metadata": {},
   "outputs": [],
   "source": []
  },
  {
   "cell_type": "markdown",
   "id": "334eeb51-1229-4e96-9b2c-682a61d931bf",
   "metadata": {},
   "source": [
    " 3. Write a Python program that accepts a string from user. Your program should create and display a \n",
    "new string where the first and last characters have been exchanged.\n",
    " - For example if the user enters the string 'HELLO' then new string would be 'OELLH' "
   ]
  },
  {
   "cell_type": "code",
   "execution_count": 17,
   "id": "7e156680-0d01-48d1-86cf-504ce1aed7fc",
   "metadata": {},
   "outputs": [
    {
     "name": "stdin",
     "output_type": "stream",
     "text": [
      "Enter any string:  Dawood Shaikh\n"
     ]
    },
    {
     "name": "stdout",
     "output_type": "stream",
     "text": [
      "String after exchaning first and last character.\n",
      " hawood ShaikD\n"
     ]
    }
   ],
   "source": [
    "string = input('Enter any string: ')\n",
    "ls=[]\n",
    "lengthOfString = len(string)\n",
    "for count in range(lengthOfString):\n",
    "    ls.append(string[count])\n",
    "\n",
    "lastChar = ls[0]\n",
    "for count in range(len(ls)):\n",
    "    if count == 0:\n",
    "        ls[count] = ls[len(ls)-1]\n",
    "    elif count == len(ls)-1:\n",
    "        ls[count] = lastChar\n",
    "\n",
    "\n",
    "print('String after exchaning first and last character.\\n',''.join(ls))"
   ]
  },
  {
   "cell_type": "code",
   "execution_count": null,
   "id": "ba152d93-7046-463e-9649-1c5291405901",
   "metadata": {},
   "outputs": [],
   "source": []
  },
  {
   "cell_type": "markdown",
   "id": "db79d388-798a-424b-96af-63a3b05172c1",
   "metadata": {},
   "source": [
    "4. Write a Python program that accepts a string from user. Your program should create a new string in \n",
    "reverse of first string and display it. \n",
    "For example if the user enters the string 'EXAM' then new string would be 'MAXE'"
   ]
  },
  {
   "cell_type": "code",
   "execution_count": 23,
   "id": "c13b7664-f2b6-4b4f-977b-09fb8deb231c",
   "metadata": {},
   "outputs": [
    {
     "name": "stdin",
     "output_type": "stream",
     "text": [
      "Enter any string:  Dawood\n"
     ]
    },
    {
     "name": "stdout",
     "output_type": "stream",
     "text": [
      "Reversed string is:  doowaD\n"
     ]
    }
   ],
   "source": [
    "string = input('Enter any string: ')\n",
    "ls=[]\n",
    "for count in range(len(string)-1,-1,-1):\n",
    "    ls.append(string[count])\n",
    "\n",
    "print(f'Reversed string is: ',''.join(ls))"
   ]
  },
  {
   "cell_type": "code",
   "execution_count": null,
   "id": "51e1cdaa-4293-467d-8fa4-0688dac1fdf4",
   "metadata": {},
   "outputs": [],
   "source": []
  },
  {
   "cell_type": "markdown",
   "id": "a9250c4e-debf-46d3-831b-99fb8ed1754f",
   "metadata": {},
   "source": [
    "5. Write a Python program that accepts a string from user. Your program should create a new string by \n",
    "shifting one position to left. \n",
    "For example if the user enters the string 'examination 2021' then new string would be 'xamination \n",
    "2021e' \n"
   ]
  },
  {
   "cell_type": "markdown",
   "id": "ae8f2e69-46b6-4e35-b89a-9f252b281a98",
   "metadata": {},
   "source": [
    "string = input('Enter any string: ')\n",
    "ls=[]\n",
    "for num in range(len(string)):\n",
    "    if num != 0:\n",
    "        ls.append(string[num])\n",
    "\n",
    "for num in range(len(string)):\n",
    "    if num == len(string)-1:\n",
    "        ls.append(string[0])\n",
    "\n",
    "print(f'Shifted one left string is: ', ''.join(ls))\n",
    "\n",
    "\n",
    "\n",
    "        "
   ]
  },
  {
   "cell_type": "code",
   "execution_count": null,
   "id": "729797da-1bc1-4bfd-b6e2-67c520f69620",
   "metadata": {},
   "outputs": [],
   "source": []
  },
  {
   "cell_type": "markdown",
   "id": "84ca136a-8ed1-4cb9-9be9-4d198849c757",
   "metadata": {},
   "source": [
    "6. Write a program that asks the user to input his name and print its initials. Assuming that the user \n",
    "always types first name, middle name and last name and does not include any unnecessary spaces. \n",
    "For example, if the user enters Ajay Kumar Garg the program should display A. K. G. \n",
    "Note:Don't use split() method "
   ]
  },
  {
   "cell_type": "code",
   "execution_count": 49,
   "id": "b1de1104-8fa5-4aac-af13-e542cbbf7799",
   "metadata": {},
   "outputs": [
    {
     "name": "stdin",
     "output_type": "stream",
     "text": [
      "Enter any string:  Dawood Shaikh Shaikh\n"
     ]
    },
    {
     "name": "stdout",
     "output_type": "stream",
     "text": [
      "Starting letters are:  D.S.S.\n"
     ]
    }
   ],
   "source": [
    "string = input('Enter any string: ')\n",
    "ls=[]\n",
    "for count in range(len(string)):\n",
    "    if string[count] == ' ':\n",
    "        ls.append(string[count+1]+'.')\n",
    "    elif count == 0:\n",
    "        ls.append(string[count]+'.')\n",
    "\n",
    "print(f'Starting letters are: ', ''.join(ls))"
   ]
  },
  {
   "cell_type": "code",
   "execution_count": null,
   "id": "67e10521-b514-4cf3-b63a-8efa68373693",
   "metadata": {},
   "outputs": [],
   "source": []
  },
  {
   "cell_type": "markdown",
   "id": "6dafcd2f-6b19-410d-90dd-160f042a9994",
   "metadata": {},
   "source": [
    "7. A palindrome is a string that reads the same backward as forward. For example, the words dad, \n",
    "madam and radar are all palindromes. Write a programs that determines whether the string is a \n",
    "palindrome. \n",
    "Note: do not use reverse() method"
   ]
  },
  {
   "cell_type": "code",
   "execution_count": 55,
   "id": "960c646a-4dc9-4728-b6f3-c23ff497c6cd",
   "metadata": {},
   "outputs": [
    {
     "name": "stdin",
     "output_type": "stream",
     "text": [
      "Enter any string:  maham\n"
     ]
    },
    {
     "name": "stdout",
     "output_type": "stream",
     "text": [
      "Your string is a palindrome\n"
     ]
    }
   ],
   "source": [
    "string = input('Enter any string: ')\n",
    "ls1=[]\n",
    "ls2=[]\n",
    "for count in range(len(string)):\n",
    "    ls1.append(string[count])\n",
    "\n",
    "for count in range(len(string)-1, -1, -1):\n",
    "    ls2.append(string[count])\n",
    "\n",
    "if ls1 == ls2:\n",
    "    print('Your string is a palindrome')\n",
    "else:\n",
    "    print('Not a palindrome string')"
   ]
  },
  {
   "cell_type": "code",
   "execution_count": null,
   "id": "01551560-37b6-4297-b3db-af8aa2331e30",
   "metadata": {},
   "outputs": [],
   "source": []
  },
  {
   "cell_type": "markdown",
   "id": "94b1a64e-175a-428c-bf1c-ac083b3fb849",
   "metadata": {},
   "source": [
    "8. Write a program that display following output: \n",
    "- SHIFT \n",
    "- HIFTS \n",
    "- IFTSH \n",
    "- FTSHI \n",
    "- TSHIF \n",
    "- SHIFT"
   ]
  },
  {
   "cell_type": "code",
   "execution_count": null,
   "id": "6f64bb12-728e-42f9-a89d-1066a8c69c8d",
   "metadata": {},
   "outputs": [],
   "source": [
    "string = input('Enter any string: ')\n",
    "\n",
    "for count in range(len(string)):\n",
    "    ls1.append(string[count])"
   ]
  }
 ],
 "metadata": {
  "kernelspec": {
   "display_name": "Python 3 (ipykernel)",
   "language": "python",
   "name": "python3"
  },
  "language_info": {
   "codemirror_mode": {
    "name": "ipython",
    "version": 3
   },
   "file_extension": ".py",
   "mimetype": "text/x-python",
   "name": "python",
   "nbconvert_exporter": "python",
   "pygments_lexer": "ipython3",
   "version": "3.11.7"
  }
 },
 "nbformat": 4,
 "nbformat_minor": 5
}
