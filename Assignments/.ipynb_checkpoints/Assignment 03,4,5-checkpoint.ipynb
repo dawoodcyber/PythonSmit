{
 "cells": [
  {
   "cell_type": "markdown",
   "id": "a2126eb2-4d11-4bd8-ad5b-b1abe440f2a0",
   "metadata": {
    "jp-MarkdownHeadingCollapsed": true
   },
   "source": [
    "### Strings Assignment 03"
   ]
  },
  {
   "cell_type": "code",
   "execution_count": null,
   "id": "7f022624-c4ed-476c-a86d-daf76e38bfc9",
   "metadata": {},
   "outputs": [],
   "source": []
  },
  {
   "cell_type": "markdown",
   "id": "bf0f15d4-38a9-4012-81a0-2fe5228f4e50",
   "metadata": {},
   "source": [
    "1. Write a program that accepts a string from user. Your program should count and display number of \r\n",
    "vowels in that string. "
   ]
  },
  {
   "cell_type": "code",
   "execution_count": 1,
   "id": "d4966eb3-36ce-4668-8494-042934c9d5e3",
   "metadata": {},
   "outputs": [
    {
     "name": "stdin",
     "output_type": "stream",
     "text": [
      "Enter any string:  Hello Dear!\n"
     ]
    },
    {
     "name": "stdout",
     "output_type": "stream",
     "text": [
      "Number of vowels in that strings is 4\n"
     ]
    }
   ],
   "source": [
    "string = input('Enter any string: ')\n",
    "ls = ['a','e','i','o','u','A','E','I','O','U']\n",
    "count=0\n",
    "for str in range(len(string)):\n",
    "    if string[str] in ls:\n",
    "        count +=1\n",
    "\n",
    "print('Number of vowels in that strings is',count)"
   ]
  },
  {
   "cell_type": "code",
   "execution_count": null,
   "id": "64770349-0931-48ce-8b8e-a968a6b3fb42",
   "metadata": {},
   "outputs": [],
   "source": []
  },
  {
   "cell_type": "markdown",
   "id": "42759ab8-60db-484e-9cd3-5b940bc74064",
   "metadata": {},
   "source": [
    "2. Write a program that reads a string from keyboard and display: \n",
    "* The number of uppercase letters in the string \n",
    "* The number of lowercase letters in the string \n",
    "* The number of digits in the string \n",
    "* The number of whitespace characters in the string \n"
   ]
  },
  {
   "cell_type": "code",
   "execution_count": 5,
   "id": "6ad3f4f6-7ea5-4b12-9a55-368322adda2c",
   "metadata": {},
   "outputs": [
    {
     "name": "stdin",
     "output_type": "stream",
     "text": [
      "Enter any string:  Hello Dawood Shaikh, my age is 19 yrs Old.\n"
     ]
    },
    {
     "name": "stdout",
     "output_type": "stream",
     "text": [
      "Number of lowerCase letters are 26.\n",
      "        Number of upperCase letter are 4.\n",
      "        Number of digits are 2.\n",
      "        Number of whitespaces are 8.\n"
     ]
    }
   ],
   "source": [
    "string = input('Enter any string: ')\n",
    "\n",
    "lowerCount = 0\n",
    "upperCount = 0\n",
    "digitCount = 0\n",
    "whitespaceCount = 0\n",
    "for str in range(len(string)):\n",
    "    if string[str].islower() == True:\n",
    "        lowerCount +=1\n",
    "    elif string[str].isupper() == True:\n",
    "        upperCount +=1\n",
    "    elif string[str].isdigit() == True:\n",
    "        digitCount +=1\n",
    "    elif string[str] == ' ' or string[str].isspace == True:\n",
    "        whitespaceCount +=1\n",
    "        \n",
    "\n",
    "print(f'Number of lowerCase letters are {lowerCount}.\\n\\\n",
    "        Number of upperCase letter are {upperCount}.\\n\\\n",
    "        Number of digits are {digitCount}.\\n\\\n",
    "        Number of whitespaces are {whitespaceCount}.')"
   ]
  },
  {
   "cell_type": "code",
   "execution_count": null,
   "id": "9e5cc6b6-b3b1-4d57-9612-76833e30ed28",
   "metadata": {},
   "outputs": [],
   "source": []
  },
  {
   "cell_type": "markdown",
   "id": "334eeb51-1229-4e96-9b2c-682a61d931bf",
   "metadata": {},
   "source": [
    " 3. Write a Python program that accepts a string from user. Your program should create and display a \n",
    "new string where the first and last characters have been exchanged.\n",
    " - For example if the user enters the string 'HELLO' then new string would be 'OELLH' "
   ]
  },
  {
   "cell_type": "code",
   "execution_count": 17,
   "id": "7e156680-0d01-48d1-86cf-504ce1aed7fc",
   "metadata": {},
   "outputs": [
    {
     "name": "stdin",
     "output_type": "stream",
     "text": [
      "Enter any string:  Dawood Shaikh\n"
     ]
    },
    {
     "name": "stdout",
     "output_type": "stream",
     "text": [
      "String after exchaning first and last character.\n",
      " hawood ShaikD\n"
     ]
    }
   ],
   "source": [
    "string = input('Enter any string: ')\n",
    "ls=[]\n",
    "lengthOfString = len(string)\n",
    "for count in range(lengthOfString):\n",
    "    ls.append(string[count])\n",
    "\n",
    "lastChar = ls[0]\n",
    "for count in range(len(ls)):\n",
    "    if count == 0:\n",
    "        ls[count] = ls[len(ls)-1]\n",
    "    elif count == len(ls)-1:\n",
    "        ls[count] = lastChar\n",
    "\n",
    "\n",
    "print('String after exchaning first and last character.\\n',''.join(ls))"
   ]
  },
  {
   "cell_type": "code",
   "execution_count": null,
   "id": "ba152d93-7046-463e-9649-1c5291405901",
   "metadata": {},
   "outputs": [],
   "source": []
  },
  {
   "cell_type": "markdown",
   "id": "db79d388-798a-424b-96af-63a3b05172c1",
   "metadata": {},
   "source": [
    "4. Write a Python program that accepts a string from user. Your program should create a new string in \n",
    "reverse of first string and display it. \n",
    "For example if the user enters the string 'EXAM' then new string would be 'MAXE'"
   ]
  },
  {
   "cell_type": "code",
   "execution_count": 23,
   "id": "c13b7664-f2b6-4b4f-977b-09fb8deb231c",
   "metadata": {},
   "outputs": [
    {
     "name": "stdin",
     "output_type": "stream",
     "text": [
      "Enter any string:  Dawood\n"
     ]
    },
    {
     "name": "stdout",
     "output_type": "stream",
     "text": [
      "Reversed string is:  doowaD\n"
     ]
    }
   ],
   "source": [
    "string = input('Enter any string: ')\n",
    "ls=[]\n",
    "for count in range(len(string)-1,-1,-1):\n",
    "    ls.append(string[count])\n",
    "\n",
    "print(f'Reversed string is: ',''.join(ls))"
   ]
  },
  {
   "cell_type": "code",
   "execution_count": null,
   "id": "51e1cdaa-4293-467d-8fa4-0688dac1fdf4",
   "metadata": {},
   "outputs": [],
   "source": []
  },
  {
   "cell_type": "markdown",
   "id": "a9250c4e-debf-46d3-831b-99fb8ed1754f",
   "metadata": {},
   "source": [
    "5. Write a Python program that accepts a string from user. Your program should create a new string by \n",
    "shifting one position to left. \n",
    "For example if the user enters the string 'examination 2021' then new string would be 'xamination \n",
    "2021e' \n"
   ]
  },
  {
   "cell_type": "markdown",
   "id": "ae8f2e69-46b6-4e35-b89a-9f252b281a98",
   "metadata": {},
   "source": [
    "string = input('Enter any string: ')\n",
    "ls=[]\n",
    "for num in range(len(string)):\n",
    "    if num != 0:\n",
    "        ls.append(string[num])\n",
    "\n",
    "for num in range(len(string)):\n",
    "    if num == len(string)-1:\n",
    "        ls.append(string[0])\n",
    "\n",
    "print(f'Shifted one left string is: ', ''.join(ls))\n",
    "\n",
    "\n",
    "\n",
    "        "
   ]
  },
  {
   "cell_type": "code",
   "execution_count": null,
   "id": "729797da-1bc1-4bfd-b6e2-67c520f69620",
   "metadata": {},
   "outputs": [],
   "source": []
  },
  {
   "cell_type": "markdown",
   "id": "84ca136a-8ed1-4cb9-9be9-4d198849c757",
   "metadata": {},
   "source": [
    "6. Write a program that asks the user to input his name and print its initials. Assuming that the user \n",
    "always types first name, middle name and last name and does not include any unnecessary spaces. \n",
    "For example, if the user enters Ajay Kumar Garg the program should display A. K. G. \n",
    "Note:Don't use split() method "
   ]
  },
  {
   "cell_type": "code",
   "execution_count": 49,
   "id": "b1de1104-8fa5-4aac-af13-e542cbbf7799",
   "metadata": {},
   "outputs": [
    {
     "name": "stdin",
     "output_type": "stream",
     "text": [
      "Enter any string:  Dawood Shaikh Shaikh\n"
     ]
    },
    {
     "name": "stdout",
     "output_type": "stream",
     "text": [
      "Starting letters are:  D.S.S.\n"
     ]
    }
   ],
   "source": [
    "string = input('Enter any string: ')\n",
    "ls=[]\n",
    "for count in range(len(string)):\n",
    "    if string[count] == ' ':\n",
    "        ls.append(string[count+1]+'.')\n",
    "    elif count == 0:\n",
    "        ls.append(string[count]+'.')\n",
    "\n",
    "print(f'Starting letters are: ', ''.join(ls))"
   ]
  },
  {
   "cell_type": "code",
   "execution_count": null,
   "id": "67e10521-b514-4cf3-b63a-8efa68373693",
   "metadata": {},
   "outputs": [],
   "source": []
  },
  {
   "cell_type": "markdown",
   "id": "6dafcd2f-6b19-410d-90dd-160f042a9994",
   "metadata": {},
   "source": [
    "7. A palindrome is a string that reads the same backward as forward. For example, the words dad, \n",
    "madam and radar are all palindromes. Write a programs that determines whether the string is a \n",
    "palindrome. \n",
    "Note: do not use reverse() method"
   ]
  },
  {
   "cell_type": "code",
   "execution_count": 55,
   "id": "960c646a-4dc9-4728-b6f3-c23ff497c6cd",
   "metadata": {},
   "outputs": [
    {
     "name": "stdin",
     "output_type": "stream",
     "text": [
      "Enter any string:  maham\n"
     ]
    },
    {
     "name": "stdout",
     "output_type": "stream",
     "text": [
      "Your string is a palindrome\n"
     ]
    }
   ],
   "source": [
    "string = input('Enter any string: ')\n",
    "ls1=[]\n",
    "ls2=[]\n",
    "for count in range(len(string)):\n",
    "    ls1.append(string[count])\n",
    "\n",
    "for count in range(len(string)-1, -1, -1):\n",
    "    ls2.append(string[count])\n",
    "\n",
    "if ls1 == ls2:\n",
    "    print('Your string is a palindrome')\n",
    "else:\n",
    "    print('Not a palindrome string')"
   ]
  },
  {
   "cell_type": "code",
   "execution_count": null,
   "id": "01551560-37b6-4297-b3db-af8aa2331e30",
   "metadata": {},
   "outputs": [],
   "source": []
  },
  {
   "cell_type": "markdown",
   "id": "94b1a64e-175a-428c-bf1c-ac083b3fb849",
   "metadata": {},
   "source": [
    "8. Write a program that display following output: \n",
    "- SHIFT \n",
    "- HIFTS \n",
    "- IFTSH \n",
    "- FTSHI \n",
    "- TSHIF \n",
    "- SHIFT"
   ]
  },
  {
   "cell_type": "code",
   "execution_count": 7,
   "id": "67a014de-5b08-42f0-8678-b4e618be8a23",
   "metadata": {},
   "outputs": [
    {
     "name": "stdin",
     "output_type": "stream",
     "text": [
      "Enter any string:  SHIFT\n"
     ]
    },
    {
     "name": "stdout",
     "output_type": "stream",
     "text": [
      "SHIFT\n",
      "HIFTS\n",
      "IFTSH\n",
      "FTSHI\n",
      "TSHIF\n",
      "SHIFT\n"
     ]
    }
   ],
   "source": [
    "string = input('Enter any string: ')\n",
    "str = string\n",
    "ls = []\n",
    "i = 0\n",
    "\n",
    "print(string)\n",
    "while True:\n",
    "    for num in range(len(string)):\n",
    "        if num == 0:\n",
    "            continue    \n",
    "        ls.append(str[num])\n",
    "        if num == len(str)-1:\n",
    "            ls.append(str[0])    \n",
    "        \n",
    "    str = ''.join(ls)\n",
    "    print(str)\n",
    "    ls = []\n",
    "    i+=1\n",
    "    if i==len(string):\n",
    "        break\n",
    "    "
   ]
  },
  {
   "cell_type": "code",
   "execution_count": null,
   "id": "a8ef5ce3-84fe-475e-891e-45a592a7c3d8",
   "metadata": {},
   "outputs": [],
   "source": []
  },
  {
   "cell_type": "markdown",
   "id": "9fe8b840-5999-43f0-908a-1a97abcf3f89",
   "metadata": {},
   "source": [
    " 9. Write a program in python that accepts a string to setup a passwords. Your entered password must \n",
    "    meet the following requirements:\n",
    "- The password must be at least eight characters long. \r",
    "- \n",
    "It must contain at least one uppercase letter. - \r\n",
    "It must contain at least one lowercase letter.-  \r\n",
    "It must contain at least one numeric digit- . \r\n",
    "Your program should should perform this validation.\n"
   ]
  },
  {
   "cell_type": "code",
   "execution_count": 60,
   "id": "a3c2865a-1405-4659-b04b-519a863b75fd",
   "metadata": {},
   "outputs": [
    {
     "name": "stdin",
     "output_type": "stream",
     "text": [
      "Input string to setup your account's password Dawood098\n"
     ]
    },
    {
     "name": "stdout",
     "output_type": "stream",
     "text": [
      "Great! you setup  a strong password for your account\n"
     ]
    }
   ],
   "source": [
    "str = input('Input string to setup your account\\'s password')\n",
    "\n",
    "uppercaseFlag = 0\n",
    "lowercaseFlag = 0\n",
    "digitFlag = 0\n",
    "lengthFlag = 0\n",
    "\n",
    "for num in range(len(str)):\n",
    "    if str[num].islower() == True:\n",
    "        uppercaseFlag = 1\n",
    "    if str[num].isupper() == True:\n",
    "        lowercaseFlag = 1\n",
    "    if str[num].isdigit() == True:\n",
    "        digitFlag = 1\n",
    "    if num >= 7:\n",
    "        lengthFlag =1\n",
    "\n",
    "\n",
    "if uppercaseFlag == lowercaseFlag == digitFlag == lengthFlag == True:\n",
    "    print('Great! you setup  a strong password for your account')\n",
    "\n",
    "else:\n",
    "    print('Not a strong password')"
   ]
  },
  {
   "cell_type": "markdown",
   "id": "a3ee73fb-847e-4812-98ae-1a795032c4dc",
   "metadata": {
    "jp-MarkdownHeadingCollapsed": true
   },
   "source": [
    "### Lists Assignment 04"
   ]
  },
  {
   "cell_type": "code",
   "execution_count": null,
   "id": "50c5fd4e-a04d-463c-84a1-2c7b47bb05e1",
   "metadata": {},
   "outputs": [],
   "source": []
  },
  {
   "cell_type": "markdown",
   "id": "d55dee4d-d28a-4f33-bf50-a03a6c4d7704",
   "metadata": {},
   "source": [
    "1. Write a program that accepts a list from user and print the alternate element of list."
   ]
  },
  {
   "cell_type": "code",
   "execution_count": 62,
   "id": "9305bf23-597b-4b1f-a688-ef6d40eb9e06",
   "metadata": {},
   "outputs": [
    {
     "name": "stdin",
     "output_type": "stream",
     "text": [
      "Enter elements of the list separated by space:  1 2 3 4 5 6 7 8 9\n"
     ]
    },
    {
     "name": "stdout",
     "output_type": "stream",
     "text": [
      "Alternate elements of the list are:\n",
      "1\n",
      "3\n",
      "5\n",
      "7\n",
      "9\n"
     ]
    }
   ],
   "source": [
    "str = input(\"Enter elements of the list separated by space: \")\n",
    "\n",
    "str_list = str.split()\n",
    "print(\"Alternate elements of the list are:\")\n",
    "for i in range(0, len(str_list), 2):\n",
    "    print(str_list[i])\n"
   ]
  },
  {
   "cell_type": "code",
   "execution_count": null,
   "id": "47c859e1-e2ec-4cdc-9d6c-42b213f2671d",
   "metadata": {},
   "outputs": [],
   "source": []
  },
  {
   "cell_type": "markdown",
   "id": "19b93b50-221a-44b2-88ea-d28c8cf5e013",
   "metadata": {},
   "source": [
    "2. Write a program that accepts a list from user. Your program should reverse the content of list and \n",
    "display it. Do not use reverse() method. "
   ]
  },
  {
   "cell_type": "code",
   "execution_count": 72,
   "id": "707a11da-1db6-4808-9f73-6e4add54c27a",
   "metadata": {},
   "outputs": [
    {
     "name": "stdin",
     "output_type": "stream",
     "text": [
      "Enter elements of the list separated by space:  1 2 3 4 5\n"
     ]
    },
    {
     "name": "stdout",
     "output_type": "stream",
     "text": [
      "Reversed content of the list is:\n",
      "5\n",
      "4\n",
      "3\n",
      "2\n",
      "1\n"
     ]
    }
   ],
   "source": [
    "str = input(\"Enter elements of the list separated by space: \")\n",
    "\n",
    "str_list = str.split()\n",
    "\n",
    "print(\"Reversed content of the list is:\")\n",
    "for num in range(len(str_list)-1, -1, -1):\n",
    "    print(str_list[num])\n"
   ]
  },
  {
   "cell_type": "code",
   "execution_count": null,
   "id": "ebcec353-57d7-45b8-9fdf-eeff13a5d787",
   "metadata": {},
   "outputs": [],
   "source": []
  },
  {
   "cell_type": "markdown",
   "id": "1b6cb6e3-0391-40bd-82c5-ffa8f8d3cc4b",
   "metadata": {},
   "source": [
    "3. Find and display the largest number of a list without using built-in function max(). Your program \n",
    "should ask the user to input values in list from keyboard. "
   ]
  },
  {
   "cell_type": "code",
   "execution_count": 87,
   "id": "97a2d75c-2775-42ae-a7b5-f5d3e6cd4ab8",
   "metadata": {},
   "outputs": [
    {
     "name": "stdin",
     "output_type": "stream",
     "text": [
      "Enter numbers in the list separated by space:  11 54 24 89 1 52\n"
     ]
    },
    {
     "name": "stdout",
     "output_type": "stream",
     "text": [
      "Largest number from the give list is: \n",
      "89\n"
     ]
    }
   ],
   "source": [
    "str = input(\"Enter numbers in the list separated by space: \")\n",
    "ls=[]\n",
    "\n",
    "ls = str.split()\n",
    "\n",
    "print(\"Largest number from the give list is: \")\n",
    "checker=0\n",
    "for num in range(len(ls)):\n",
    "    if checker < int(ls[num]):\n",
    "        checker = int(ls[num])\n",
    "\n",
    "print(checker)\n"
   ]
  },
  {
   "cell_type": "code",
   "execution_count": null,
   "id": "946bc2b9-2696-465e-8385-144c535ffb9d",
   "metadata": {},
   "outputs": [],
   "source": []
  },
  {
   "cell_type": "markdown",
   "id": "eaf5e4d1-cbc0-4739-96af-73705ac8ff90",
   "metadata": {},
   "source": [
    " 4. Write a program that rotates the element of a list so that the element at the first index moves to the \n",
    "second index, the element in the second index moves to the third index, etc., and the element in the last \n",
    "index moves to the first index. \n"
   ]
  },
  {
   "cell_type": "code",
   "execution_count": 96,
   "id": "4ff80f5e-487e-4b1a-8d43-c3e5b0176643",
   "metadata": {},
   "outputs": [
    {
     "name": "stdout",
     "output_type": "stream",
     "text": [
      "[5, 1, 2, 3, 4]\n"
     ]
    }
   ],
   "source": [
    "new_list=[]\n",
    "ls = [1,2,3,4,5]\n",
    "new_list.insert(0,ls.pop())\n",
    "\n",
    "for num in range(len(ls)):\n",
    "    if num != len(ls):\n",
    "        new_list.append(ls[num])\n",
    "\n",
    "\n",
    "print(new_list)\n",
    "\n"
   ]
  },
  {
   "cell_type": "code",
   "execution_count": null,
   "id": "9ce84327-dd89-4b96-9b86-bdc742a15b04",
   "metadata": {},
   "outputs": [],
   "source": []
  },
  {
   "cell_type": "markdown",
   "id": "48b070b1-ac4c-4c35-995f-9182b92b028d",
   "metadata": {},
   "source": [
    "5. Write a program that input a string and ask user to delete a given word from a string. \n"
   ]
  },
  {
   "cell_type": "code",
   "execution_count": 102,
   "id": "4ac24ae9-955a-4a79-ac49-b315b80a4660",
   "metadata": {},
   "outputs": [
    {
     "name": "stdin",
     "output_type": "stream",
     "text": [
      "Enter any string:  hello Hey Mr. Dawood Shaikh\n",
      "Which word you want to delete from the string? hello\n"
     ]
    },
    {
     "name": "stdout",
     "output_type": "stream",
     "text": [
      "New string is: \n",
      "Hey Mr. Dawood Shaikh\n"
     ]
    }
   ],
   "source": [
    "str = input('Enter any string: ')\n",
    "\n",
    "word = input('Which word you want to delete from the string?')\n",
    "\n",
    "str_list = str.split()\n",
    "\n",
    "if word in str_list:\n",
    "    str_list.remove(str_list[str_list.index(word)])\n",
    "    str = ' '.join(str_list)\n",
    "    print('New string is: ')\n",
    "    print(str)\n",
    "\n",
    "else:\n",
    "    print('The word isn\\'t available in the string')"
   ]
  },
  {
   "cell_type": "code",
   "execution_count": null,
   "id": "e4a78d8a-78d4-4aee-abff-f1ddccd8075e",
   "metadata": {},
   "outputs": [],
   "source": []
  },
  {
   "cell_type": "markdown",
   "id": "bd072986-a137-4994-8775-14dbb14d7f19",
   "metadata": {},
   "source": [
    " 6. Write a program that reads a string from the user containing a date in the form mm/dd/yyyy. It \n",
    "should print the date in the form March 12, 2021."
   ]
  },
  {
   "cell_type": "code",
   "execution_count": 118,
   "id": "235c2991-723c-4489-b485-92c9995c5871",
   "metadata": {},
   "outputs": [
    {
     "name": "stdin",
     "output_type": "stream",
     "text": [
      "Enter a date in the form mm/dd/yyyy:  01/01/2005\n"
     ]
    },
    {
     "name": "stdout",
     "output_type": "stream",
     "text": [
      "January 1, 2005\n"
     ]
    }
   ],
   "source": [
    "months = [\"January\", \"February\", \"March\", \"April\", \"May\", \"June\", \n",
    "          \"July\", \"August\", \"September\", \"October\", \"November\", \"December\"]\n",
    "date_input = input(\"Enter a date in the form mm/dd/yyyy: \")\n",
    "month, day, year = date_input.split('/')\n",
    "month_name = months[int(month) - 1]\n",
    "print(f\"{month_name} {int(day)}, {year}\")\n"
   ]
  },
  {
   "cell_type": "code",
   "execution_count": null,
   "id": "6967186d-ebd4-4158-bc7c-61cee3906930",
   "metadata": {},
   "outputs": [],
   "source": []
  },
  {
   "cell_type": "markdown",
   "id": "d1643ae7-d4af-4d32-ad7b-6b4827753f74",
   "metadata": {},
   "source": [
    "7. Write a program with a function that accepts a string from keyboard and create a new string after \n",
    "converting character of each word capitalized. For instance, if the sentence is \"stop and smell the roses.\" \n",
    "the output should be \"Stop And Smell The Roses\""
   ]
  },
  {
   "cell_type": "code",
   "execution_count": 134,
   "id": "133f4058-56e7-4d14-9836-dcfa8aba3165",
   "metadata": {},
   "outputs": [
    {
     "name": "stdin",
     "output_type": "stream",
     "text": [
      "Enter any string:  hello mr. dawood shaikh\n"
     ]
    },
    {
     "name": "stdout",
     "output_type": "stream",
     "text": [
      "New string: \n",
      "Hello Mr. Dawood Shaikh\n"
     ]
    }
   ],
   "source": [
    "str = input('Enter any string: ')\n",
    "ls = str.split()\n",
    "new_ls = []\n",
    "#print(ls)\n",
    "for num in range(len(ls)):\n",
    "    new_ls.append(ls[num].title())\n",
    "\n",
    "str = ' '.join(new_ls)\n",
    "\n",
    "print('New string: ')\n",
    "print(str)\n",
    "        \n",
    "    "
   ]
  },
  {
   "cell_type": "code",
   "execution_count": null,
   "id": "fb6288ae-8fed-490e-9a4e-825cb86d2272",
   "metadata": {},
   "outputs": [],
   "source": []
  },
  {
   "cell_type": "markdown",
   "id": "20fdacc6-408c-4d69-96bb-8906344ed355",
   "metadata": {},
   "source": [
    "8. Find the sum of each row of matrix of size m x n. For example for the following matrix output will be \n",
    "like this :\n",
    "- 2 11 7 12\n",
    "- 5  2 9 15\n",
    "- 8 3 10 42\n",
    "\n",
    "- Sum of row 1 = 32 \n",
    "- Sum of row 2 = 31 \n",
    "- Sum of row 3 = 63 "
   ]
  },
  {
   "cell_type": "code",
   "execution_count": 162,
   "id": "5b9b0b57-e964-44df-9db8-67baee3bf4f4",
   "metadata": {},
   "outputs": [
    {
     "name": "stdout",
     "output_type": "stream",
     "text": [
      "[1, 1, 1]\n",
      "[2, 2, 2]\n",
      "[3, 3, 3]\n",
      "\n",
      "Sum of row 1: 3\n",
      "Sum of row 2: 6\n",
      "Sum of row 3: 9\n"
     ]
    }
   ],
   "source": [
    "matrix = [\n",
    "    [1,1,1],\n",
    "    [2,2,2],\n",
    "    [3,3,3]\n",
    "]\n",
    "row = 0\n",
    "i = 1\n",
    "print(matrix[0])\n",
    "print(matrix[1])\n",
    "print(matrix[2])\n",
    "print()\n",
    "for num in range(len(matrix)):\n",
    "    for index in range(len(matrix[num])):\n",
    "        row += matrix[num][index]\n",
    "\n",
    "    print(f'Sum of row {i}: {row}')\n",
    "    i+=1\n",
    "    row=0"
   ]
  },
  {
   "cell_type": "code",
   "execution_count": null,
   "id": "434edc71-23dc-4782-b340-3ab3c384acce",
   "metadata": {},
   "outputs": [],
   "source": []
  },
  {
   "cell_type": "markdown",
   "id": "0afa9298-1149-4a39-9ba4-bcfdf6a7c0d5",
   "metadata": {},
   "source": [
    "9. Write a program to add two matrices of size n x m."
   ]
  },
  {
   "cell_type": "code",
   "execution_count": 171,
   "id": "95ac8cdd-b4ca-48ff-8a95-d2190fa770e6",
   "metadata": {},
   "outputs": [
    {
     "name": "stdout",
     "output_type": "stream",
     "text": [
      "MATRIX 01\n",
      "[1, 1, 1]\n",
      "[1, 1, 1]\n",
      "[1, 1, 1]\n",
      "\n",
      "MATRIX 02\n",
      "[2, 2, 2]\n",
      "[2, 2, 2]\n",
      "[2, 2, 1]\n",
      "\n",
      "Added Matrix 03\n",
      "[3, 3, 3]\n",
      "[3, 3, 3]\n",
      "[3, 3, 2]\n"
     ]
    }
   ],
   "source": [
    "matrix1 = [\n",
    "    [1,1,1],\n",
    "    [1,1,1],\n",
    "    [1,1,1]\n",
    "]\n",
    "matrix2 = [\n",
    "    [2,2,2],\n",
    "    [2,2,2],\n",
    "    [2,2,1]\n",
    "]\n",
    "matrix3=[]\n",
    "row = 0\n",
    "i = 1\n",
    "print('MATRIX 01')\n",
    "print(matrix1[0])\n",
    "print(matrix1[1])\n",
    "print(matrix1[2])\n",
    "print()\n",
    "print('MATRIX 02')\n",
    "print(matrix2[0])\n",
    "print(matrix2[1])\n",
    "print(matrix2[2])\n",
    "print()\n",
    "\n",
    "if len(matrix1) == len(matrix2):\n",
    "    if len(matrix1[0]) == len(matrix2[0]):\n",
    "        if len(matrix1[1]) == len(matrix2[1]):\n",
    "            if len(matrix1[2]) == len(matrix2[2]):\n",
    "                print('Added Matrix 03')\n",
    "                for num in range(len(matrix1)):\n",
    "                    for index in range(len(matrix1[num])):\n",
    "                        matrix3.append(matrix1[num][index] + matrix2[num][index])\n",
    "                    print(matrix3)\n",
    "                    matrix3=[]\n",
    "                        \n",
    "\n",
    "            \n",
    "            else:\n",
    "                print('Addition isn\\'t possible')\n",
    "        else:\n",
    "                print('Addition isn\\'t possible')\n",
    "    else:\n",
    "                print('Addition isn\\'t possible')\n",
    "\n",
    "else:\n",
    "                print('Addition isn\\'t possible')\n"
   ]
  },
  {
   "cell_type": "code",
   "execution_count": null,
   "id": "cb7476c1-ee74-4243-9e56-4e0f958731e2",
   "metadata": {},
   "outputs": [],
   "source": []
  },
  {
   "cell_type": "markdown",
   "id": "25eb02c3-c3fc-4f5b-ba3f-3427d4da5917",
   "metadata": {},
   "source": [
    "10. Write a program to multiply two matrices"
   ]
  },
  {
   "cell_type": "code",
   "execution_count": 173,
   "id": "5df657d6-0a9f-4ad6-ab79-59d2e0179aa9",
   "metadata": {},
   "outputs": [
    {
     "name": "stdout",
     "output_type": "stream",
     "text": [
      "[58, 64]\n",
      "[139, 154]\n"
     ]
    }
   ],
   "source": [
    "def multiply_matrices(A, B):\n",
    "    # Number of rows in the first matrix\n",
    "    rows_A = len(A)\n",
    "    # Number of columns in the first matrix (and rows in the second matrix)\n",
    "    cols_A = len(A[0])\n",
    "    # Number of columns in the second matrix\n",
    "    cols_B = len(B[0])\n",
    "\n",
    "    # Initialize the result matrix with zeros\n",
    "    result = [[0 for _ in range(cols_B)] for _ in range(rows_A)]\n",
    "\n",
    "    # Perform matrix multiplication\n",
    "    for i in range(rows_A):\n",
    "        for j in range(cols_B):\n",
    "            for k in range(cols_A):\n",
    "                result[i][j] += A[i][k] * B[k][j]\n",
    "    \n",
    "    return result\n",
    "    \n",
    "A = [\n",
    "    [1, 2, 3],\n",
    "    [4, 5, 6]\n",
    "]\n",
    "\n",
    "B = [\n",
    "    [7, 8],\n",
    "    [9, 10],\n",
    "    [11, 12]\n",
    "]\n",
    "\n",
    "# Multiply matrices\n",
    "result = multiply_matrices(A, B)\n",
    "\n",
    "# Print the result\n",
    "for row in result:\n",
    "    print(row)\n"
   ]
  },
  {
   "cell_type": "code",
   "execution_count": null,
   "id": "22f0a3b8-485c-40dc-a9b5-c9baf93d87cd",
   "metadata": {},
   "outputs": [],
   "source": [
    "    "
   ]
  },
  {
   "cell_type": "markdown",
   "id": "57677a25-5886-43f6-b717-e3f9579bab3e",
   "metadata": {
    "jp-MarkdownHeadingCollapsed": true
   },
   "source": [
    "### Loops Assignment 05"
   ]
  },
  {
   "cell_type": "code",
   "execution_count": null,
   "id": "101d0d4e-bdd2-4dcf-9c92-8da5f5b626f1",
   "metadata": {},
   "outputs": [],
   "source": []
  },
  {
   "cell_type": "markdown",
   "id": "11f716ff-9cc1-4b2d-8cf2-bd6b1618d665",
   "metadata": {},
   "source": [
    "1. Write a Python program to print the numbers from 1 to 10 using a for loop."
   ]
  },
  {
   "cell_type": "code",
   "execution_count": 3,
   "id": "58d2c83b-5e5a-4f90-a74e-eb03066d0823",
   "metadata": {},
   "outputs": [
    {
     "name": "stdout",
     "output_type": "stream",
     "text": [
      "1\n",
      "2\n",
      "3\n",
      "4\n",
      "5\n",
      "6\n",
      "7\n",
      "8\n",
      "9\n",
      "10\n"
     ]
    }
   ],
   "source": [
    "for num in range(1,11,1):\n",
    "    print(num)"
   ]
  },
  {
   "cell_type": "code",
   "execution_count": null,
   "id": "15b6bd87-33df-4d27-9840-75844f63598e",
   "metadata": {},
   "outputs": [],
   "source": []
  },
  {
   "cell_type": "markdown",
   "id": "98c2ac1c-11ae-4218-902a-d176d8dfc45d",
   "metadata": {},
   "source": [
    "2. Write a Python program to print the numbers from 20 to 1 using a while loop.\n"
   ]
  },
  {
   "cell_type": "code",
   "execution_count": 4,
   "id": "26ccd301-4a61-4557-b8bd-f24b3aa0a246",
   "metadata": {},
   "outputs": [
    {
     "name": "stdout",
     "output_type": "stream",
     "text": [
      "20\n",
      "19\n",
      "18\n",
      "17\n",
      "16\n",
      "15\n",
      "14\n",
      "13\n",
      "12\n",
      "11\n",
      "10\n",
      "9\n",
      "8\n",
      "7\n",
      "6\n",
      "5\n",
      "4\n",
      "3\n",
      "2\n",
      "1\n"
     ]
    }
   ],
   "source": [
    "num = 20\n",
    "while num != 0:\n",
    "    print(num)\n",
    "    num-=1"
   ]
  },
  {
   "cell_type": "code",
   "execution_count": null,
   "id": "fc7e6cb3-481a-471d-978d-d6fd664c96d9",
   "metadata": {},
   "outputs": [],
   "source": []
  },
  {
   "cell_type": "markdown",
   "id": "1261db26-7f0a-4ab8-ad8b-4449880a3c71",
   "metadata": {},
   "source": [
    "3. Write a program to print even numbers from 1 to 10. "
   ]
  },
  {
   "cell_type": "code",
   "execution_count": 5,
   "id": "21b9c908-d293-4d87-9b0a-864c1face5f0",
   "metadata": {},
   "outputs": [
    {
     "name": "stdout",
     "output_type": "stream",
     "text": [
      "2\n",
      "4\n",
      "6\n",
      "8\n",
      "10\n"
     ]
    }
   ],
   "source": [
    "for num in range(1,11,1):\n",
    "    if num%2==0:\n",
    "        print(num)"
   ]
  },
  {
   "cell_type": "code",
   "execution_count": null,
   "id": "dcf846f0-62de-42d2-ae03-556c3fed30d0",
   "metadata": {},
   "outputs": [],
   "source": []
  },
  {
   "cell_type": "markdown",
   "id": "cbd5d41c-0ea0-49cd-bf61-e430b515a49c",
   "metadata": {},
   "source": [
    "4. Write a program that prompts the user to enter a number n and prints all the \n",
    "numbers from 1 to n. "
   ]
  },
  {
   "cell_type": "code",
   "execution_count": 7,
   "id": "7be6f348-fcfd-486b-82d5-0d191fe3bad9",
   "metadata": {},
   "outputs": [
    {
     "name": "stdin",
     "output_type": "stream",
     "text": [
      "Enter any number:  5\n"
     ]
    },
    {
     "name": "stdout",
     "output_type": "stream",
     "text": [
      "1\n",
      "2\n",
      "3\n",
      "4\n",
      "5\n"
     ]
    }
   ],
   "source": [
    "number = int(input('Enter any number: '))\n",
    "for num in range(1,number+1,1):\n",
    "    print(num)"
   ]
  },
  {
   "cell_type": "code",
   "execution_count": null,
   "id": "aacebb97-e7dd-46fb-951d-63bab6ef34d6",
   "metadata": {},
   "outputs": [],
   "source": []
  },
  {
   "cell_type": "markdown",
   "id": "e3d77d15-4885-4232-b7dd-5dd4725ed577",
   "metadata": {},
   "source": [
    "5. Write a program that prompts the user to enter a number n, and then prints all the \n",
    "odd numbers between 1 and n"
   ]
  },
  {
   "cell_type": "code",
   "execution_count": 8,
   "id": "90f21b45-e847-4585-8036-02bf5b39fa67",
   "metadata": {},
   "outputs": [
    {
     "name": "stdin",
     "output_type": "stream",
     "text": [
      "Enter any number:  5\n"
     ]
    },
    {
     "name": "stdout",
     "output_type": "stream",
     "text": [
      "1\n",
      "3\n",
      "5\n"
     ]
    }
   ],
   "source": [
    "number = int(input('Enter any number: '))\n",
    "for num in range(1,number+1,1):\n",
    "    if num%2 !=0:\n",
    "        print(num)"
   ]
  },
  {
   "cell_type": "code",
   "execution_count": null,
   "id": "2914b9c4-1a06-4684-9061-47023e0f0ec9",
   "metadata": {},
   "outputs": [],
   "source": []
  },
  {
   "cell_type": "markdown",
   "id": "043dbb45-2faa-4e75-9cb9-9debab2db690",
   "metadata": {},
   "source": [
    "6. Write a program that prints 'Happy Birthday!' five times on screen."
   ]
  },
  {
   "cell_type": "code",
   "execution_count": 9,
   "id": "01482775-7b93-409c-b243-7749d64728e8",
   "metadata": {},
   "outputs": [
    {
     "name": "stdout",
     "output_type": "stream",
     "text": [
      "Happy Birthday!\n",
      "Happy Birthday!\n",
      "Happy Birthday!\n",
      "Happy Birthday!\n",
      "Happy Birthday!\n"
     ]
    }
   ],
   "source": [
    "for num in range(5):\n",
    "    print('Happy Birthday!')"
   ]
  },
  {
   "cell_type": "code",
   "execution_count": null,
   "id": "5146b0d1-f842-4d2d-97f9-39445e08b628",
   "metadata": {},
   "outputs": [],
   "source": []
  },
  {
   "cell_type": "markdown",
   "id": "dc822916-b9c4-43df-a964-823218d8134c",
   "metadata": {},
   "source": [
    "7. Write a program that takes a number n as input from the user and generates the first \n",
    "n terms of the series formed by squaring the natural numbers.\n",
    "- Sample output \n",
    "- Enter a number: 6 \n",
    "- The first 6 terms of the series are: \n",
    "- 1 4 9 16 25 36 "
   ]
  },
  {
   "cell_type": "code",
   "execution_count": 10,
   "id": "2de4f34c-c49b-44e1-bad7-3c98e0478bc7",
   "metadata": {},
   "outputs": [
    {
     "name": "stdin",
     "output_type": "stream",
     "text": [
      "Enter any number:  6\n"
     ]
    },
    {
     "name": "stdout",
     "output_type": "stream",
     "text": [
      "1\n",
      "4\n",
      "9\n",
      "16\n",
      "25\n",
      "36\n"
     ]
    }
   ],
   "source": [
    "number = int(input('Enter any number: '))\n",
    "for num in range(1,number+1,1):\n",
    "    print(num*num)"
   ]
  },
  {
   "cell_type": "code",
   "execution_count": null,
   "id": "d99291a9-edf2-496a-ae06-30983544bb62",
   "metadata": {},
   "outputs": [],
   "source": []
  },
  {
   "cell_type": "markdown",
   "id": "26fbdd07-ffc1-4599-9d64-22bb67a30e66",
   "metadata": {},
   "source": [
    "8. Write a program that prompts the user to input a number and prints its multiplication \n",
    "table. \n"
   ]
  },
  {
   "cell_type": "code",
   "execution_count": 11,
   "id": "b8996b01-08a9-4b36-967c-13aeefcc2bc2",
   "metadata": {},
   "outputs": [
    {
     "name": "stdin",
     "output_type": "stream",
     "text": [
      "Enter any number:  2\n"
     ]
    },
    {
     "name": "stdout",
     "output_type": "stream",
     "text": [
      "2 x 1 = 2\n",
      "2 x 2 = 4\n",
      "2 x 3 = 6\n",
      "2 x 4 = 8\n",
      "2 x 5 = 10\n",
      "2 x 6 = 12\n",
      "2 x 7 = 14\n",
      "2 x 8 = 16\n",
      "2 x 9 = 18\n",
      "2 x 10 = 20\n"
     ]
    }
   ],
   "source": [
    "number = int(input('Enter any number: '))\n",
    "for num in range(1,11,1):\n",
    "    print(f'{number} x {num} = {number*num}')"
   ]
  },
  {
   "cell_type": "code",
   "execution_count": null,
   "id": "ca2de9f8-06c5-4d06-8d1f-be80c179ec95",
   "metadata": {},
   "outputs": [],
   "source": []
  },
  {
   "cell_type": "markdown",
   "id": "0271b884-16fd-49cc-a0e9-1c971ec508cd",
   "metadata": {},
   "source": [
    "9. Write a Python program to print the first 8 terms of an arithmetic progression starting \n",
    "with 3 and having a common difference of 4. \n",
    "The program should output the following sequence: \n",
    "3 7 11 15 19 23 27 31 \n"
   ]
  },
  {
   "cell_type": "code",
   "execution_count": 12,
   "id": "65e6a6bc-08cc-4d8f-85f9-aeacd9cda3de",
   "metadata": {},
   "outputs": [
    {
     "name": "stdout",
     "output_type": "stream",
     "text": [
      "3\n",
      "7\n",
      "11\n",
      "15\n",
      "19\n",
      "23\n",
      "27\n",
      "31\n"
     ]
    }
   ],
   "source": [
    "num = 3\n",
    "for count in range(1,9,1):\n",
    "    print(num)\n",
    "    num +=4"
   ]
  },
  {
   "cell_type": "code",
   "execution_count": null,
   "id": "1ea8e037-f85b-4cfb-8fbe-aad2d0833e8b",
   "metadata": {},
   "outputs": [],
   "source": []
  },
  {
   "cell_type": "markdown",
   "id": "c7158a6e-3f17-4728-bb65-08561b7c934d",
   "metadata": {},
   "source": [
    "10. Write a Python program to print the first 6 terms of a geometric sequence starting \n",
    "with 2 and having a common ratio of 3. \n",
    "The program should output the following sequence: \n",
    "2 6 18 54 162 486 \n"
   ]
  },
  {
   "cell_type": "code",
   "execution_count": 15,
   "id": "482129ae-bfad-4ab1-bb19-88d9d6a3625c",
   "metadata": {},
   "outputs": [
    {
     "name": "stdout",
     "output_type": "stream",
     "text": [
      "2\n",
      "6\n",
      "18\n",
      "54\n",
      "162\n",
      "486\n"
     ]
    }
   ],
   "source": [
    "num = 2\n",
    "for count in range(1,7,1):\n",
    "    print(num)\n",
    "    num *=3"
   ]
  },
  {
   "cell_type": "code",
   "execution_count": null,
   "id": "e49ca0a8-6064-4101-8875-7366ec470d44",
   "metadata": {},
   "outputs": [],
   "source": []
  },
  {
   "cell_type": "markdown",
   "id": "9b1582ba-f0cd-4cd5-b362-9b8daab7e082",
   "metadata": {},
   "source": [
    "11. Write a program that asks the user for a positive integer value. The program should \n",
    "calculate the sum of all the integers from 1 up to the number entered. For example, if \n",
    "the user enters 20, the loop will find the sum of 1, 2, 3, 4, ... 20. \n"
   ]
  },
  {
   "cell_type": "code",
   "execution_count": 29,
   "id": "a29e182f-f496-4291-90c3-3c156d121c62",
   "metadata": {},
   "outputs": [
    {
     "name": "stdin",
     "output_type": "stream",
     "text": [
      "Enter any  integer:  4\n"
     ]
    },
    {
     "name": "stdout",
     "output_type": "stream",
     "text": [
      "The sum of integers is:  10\n"
     ]
    }
   ],
   "source": [
    "import math\n",
    "number = int(input('Enter any  integer: '))\n",
    "if math.fabs(number) != number:\n",
    "    print('Enter a positive integer!')\n",
    "\n",
    "else:\n",
    "    count = 0\n",
    "    for num in range(1,int(number+1),1):\n",
    "        count+=num\n",
    "    \n",
    "    print('The sum of integers is: ',count)"
   ]
  },
  {
   "cell_type": "code",
   "execution_count": null,
   "id": "aaae7958-82c1-427f-8014-9d76c2b9689f",
   "metadata": {},
   "outputs": [],
   "source": []
  },
  {
   "cell_type": "markdown",
   "id": "441a531d-c519-4551-aacd-97932d7ec213",
   "metadata": {},
   "source": [
    "12. write a program that takes a positive integer N as input and calculates the sum of \n",
    "the reciprocals of all numbers from 1 up to N. The program should display the final sum.\n",
    "\n",
    "- Output of the program should be like: \r",
    "- \n",
    "Enter a positive integer: 5 - \r\n",
    "The sum of reciprocals from 1 to 5 is: 2.28"
   ]
  },
  {
   "cell_type": "code",
   "execution_count": 30,
   "id": "18b49b78-acdb-4042-bc74-fe5d82eca3d6",
   "metadata": {},
   "outputs": [
    {
     "name": "stdin",
     "output_type": "stream",
     "text": [
      "Enter any  integer:  5\n"
     ]
    },
    {
     "name": "stdout",
     "output_type": "stream",
     "text": [
      "The sum of reciprocal from 1 to 5:  2.283333333333333\n"
     ]
    }
   ],
   "source": [
    "import math\n",
    "number = int(input('Enter any  integer: '))\n",
    "if math.fabs(number) != number:\n",
    "    print('Enter a positive integer!')\n",
    "\n",
    "else:\n",
    "    count = 0\n",
    "    ex=0\n",
    "    for num in range(1,int(number+1),1):\n",
    "        ex = (1/num)\n",
    "        count+=ex\n",
    "        ex=0\n",
    "    \n",
    "    print(f'The sum of reciprocal from {1} to {number}: ',count)"
   ]
  },
  {
   "cell_type": "code",
   "execution_count": null,
   "id": "68388b9d-9bfa-473e-ba11-024763cf16f6",
   "metadata": {},
   "outputs": [],
   "source": []
  },
  {
   "cell_type": "markdown",
   "id": "e71f7b36-50e2-46d0-947b-322b5e805994",
   "metadata": {},
   "source": [
    "13. Write a program that prompts the user to enter a number and repeats this process 5 \n",
    "times. The program should accumulate the numbers entered and then display the final \n",
    "running total. \n",
    "- Sample Output: \n",
    "- Enter a number: 10 \n",
    "- Enter a number: 15 \n",
    "- Enter a number: 35 \n",
    "- Enter a number: 40 \n",
    "- Enter a number: 50 \n",
    "- The final running total is: 150"
   ]
  },
  {
   "cell_type": "code",
   "execution_count": 31,
   "id": "80e62b4c-6d7e-4eb7-a75b-a693dc4dba7a",
   "metadata": {},
   "outputs": [
    {
     "name": "stdout",
     "output_type": "stream",
     "text": [
      "Enter a number: \n"
     ]
    },
    {
     "name": "stdin",
     "output_type": "stream",
     "text": [
      " 10\n"
     ]
    },
    {
     "name": "stdout",
     "output_type": "stream",
     "text": [
      "Enter a number: \n"
     ]
    },
    {
     "name": "stdin",
     "output_type": "stream",
     "text": [
      " 15\n"
     ]
    },
    {
     "name": "stdout",
     "output_type": "stream",
     "text": [
      "Enter a number: \n"
     ]
    },
    {
     "name": "stdin",
     "output_type": "stream",
     "text": [
      " 35\n"
     ]
    },
    {
     "name": "stdout",
     "output_type": "stream",
     "text": [
      "Enter a number: \n"
     ]
    },
    {
     "name": "stdin",
     "output_type": "stream",
     "text": [
      " 40\n"
     ]
    },
    {
     "name": "stdout",
     "output_type": "stream",
     "text": [
      "Enter a number: \n"
     ]
    },
    {
     "name": "stdin",
     "output_type": "stream",
     "text": [
      " 50\n"
     ]
    },
    {
     "name": "stdout",
     "output_type": "stream",
     "text": [
      "The final running total is: 150\n"
     ]
    }
   ],
   "source": [
    "num =0\n",
    "for index in range(5):\n",
    "    print('Enter a number: ')\n",
    "    num += int(input())\n",
    "\n",
    "\n",
    "print(f'The final running total is: {num}')"
   ]
  },
  {
   "cell_type": "code",
   "execution_count": null,
   "id": "57ad40e6-c634-4315-93c0-3efa7c5915f0",
   "metadata": {},
   "outputs": [],
   "source": []
  },
  {
   "cell_type": "markdown",
   "id": "ce12b197-c973-4329-ab60-b367b085dd44",
   "metadata": {},
   "source": [
    "14. Write a program that prompts the user to enter a positive integer and calculates its \n",
    "factorial. The factorial of a positive integer 'n' is denoted as 'n!' and is calculated by \n",
    "multiplying all the integers from 1 to 'n' together. For example, the factorial of 5 \n",
    "(denoted as 5!) is calculated as 1 x 2 x 3 x 4 x 5. \n",
    "The program should display the factorial value if the input is a positive number, or \n",
    "display a message stating that the factorial does not exist for negative numbers. \n",
    "Additionally, for an input of zero, the program should output that the factorial of 0 is 1."
   ]
  },
  {
   "cell_type": "code",
   "execution_count": 43,
   "id": "628c4d5e-08bd-4460-b5c7-c5b080e0362d",
   "metadata": {},
   "outputs": [
    {
     "name": "stdin",
     "output_type": "stream",
     "text": [
      "Enter any  integer:  5\n"
     ]
    },
    {
     "name": "stdout",
     "output_type": "stream",
     "text": [
      "The factorial value of 5:  120\n"
     ]
    }
   ],
   "source": [
    "import math\n",
    "number = int(input('Enter any  integer: '))\n",
    "if math.fabs(number) != number:\n",
    "    print('Factorial doesn\\'t exist!')\n",
    "\n",
    "else:\n",
    "    count=1\n",
    "    for index in range(1,number+1):\n",
    "        count *=index\n",
    "\n",
    "    print(f'The factorial value of {number}: ',count)"
   ]
  },
  {
   "cell_type": "code",
   "execution_count": null,
   "id": "c7c97fef-b3e4-4824-96e4-01c1cbd1b1f4",
   "metadata": {},
   "outputs": [],
   "source": []
  },
  {
   "cell_type": "markdown",
   "id": "3ccdb844-a25d-45f5-94b2-f0260d6528b9",
   "metadata": {},
   "source": [
    "15. Write a Python program that prompts the user to enter a base number and an \n",
    "exponent, and then calculates the power of the base to the exponent. The program \n",
    "should not use the exponentiation operator (**) or the math.pow() function. The \n",
    "program should handle both positive and negative exponents."
   ]
  },
  {
   "cell_type": "code",
   "execution_count": 65,
   "id": "a71a8fc3-c874-45cf-b728-1fd19e4afb40",
   "metadata": {},
   "outputs": [
    {
     "name": "stdin",
     "output_type": "stream",
     "text": [
      "Enter base number:  -2\n",
      "Enter exponent number:  8\n"
     ]
    },
    {
     "name": "stdout",
     "output_type": "stream",
     "text": [
      "The result of base -2 and exponent 8 is: 256\n"
     ]
    }
   ],
   "source": [
    "import math\n",
    "base_number = int(input('Enter base number: '))\n",
    "exp_number = int(input('Enter exponent number: '))\n",
    "if math.fabs(base_number) != base_number:  \n",
    "\n",
    "    if base_number%2==0:\n",
    "        count = base_number\n",
    "        for index in range(1,exp_number):\n",
    "            count *= base_number\n",
    "        print(f\"The result of base {base_number} and exponent {exp_number} is: {(count)}\")\n",
    "    else:\n",
    "        count = base_number\n",
    "        for index in range(1,int(math.fabs(exp_number))):\n",
    "            count *= base_number\n",
    "        print(f\"The result of base {base_number} and exponent {exp_number} is: {math.fabs(count)}\")\n",
    "\n",
    "        \n",
    "else:\n",
    "    count = base_number\n",
    "    for index in range(1,exp_number):\n",
    "        count *= base_number\n",
    "    print(f'The result of base {base_number} and exponent {exp_number} is: {count}')"
   ]
  },
  {
   "cell_type": "code",
   "execution_count": null,
   "id": "acf47ff4-40f2-4141-983a-2b492fcb590b",
   "metadata": {},
   "outputs": [],
   "source": []
  }
 ],
 "metadata": {
  "kernelspec": {
   "display_name": "Python 3 (ipykernel)",
   "language": "python",
   "name": "python3"
  },
  "language_info": {
   "codemirror_mode": {
    "name": "ipython",
    "version": 3
   },
   "file_extension": ".py",
   "mimetype": "text/x-python",
   "name": "python",
   "nbconvert_exporter": "python",
   "pygments_lexer": "ipython3",
   "version": "3.11.7"
  }
 },
 "nbformat": 4,
 "nbformat_minor": 5
}
